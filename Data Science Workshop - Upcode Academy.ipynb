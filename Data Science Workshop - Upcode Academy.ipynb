{
 "cells": [
  {
   "cell_type": "markdown",
   "metadata": {
    "slideshow": {
     "slide_type": "slide"
    }
   },
   "source": [
    "# ![upcode](images/front.png)"
   ]
  },
  {
   "cell_type": "markdown",
   "metadata": {
    "slideshow": {
     "slide_type": "slide"
    }
   },
   "source": [
    "<h1><center>What's Data Science?</center></h1>\n",
    "<br>\n",
    "<center><img src=\"images/data_science.png\" alt=\"Data Science\"></center>"
   ]
  },
  {
   "cell_type": "markdown",
   "metadata": {
    "slideshow": {
     "slide_type": "subslide"
    }
   },
   "source": [
    "## Data science is an interdisciplinary field that uses scientific methods, processes, algorithms and systems to extract knowledge and insights from data in various forms.\n",
    "\n",
    "## Unifies statistics, data analysis, machine learning and their related methods\" in order to \"understand and analyze actual phenomena\" with data."
   ]
  },
  {
   "cell_type": "markdown",
   "metadata": {
    "slideshow": {
     "slide_type": "subslide"
    }
   },
   "source": [
    "# Data is the key... really?\n",
    "\n",
    "## &nbsp; &nbsp; &nbsp; &nbsp; - Volume\n",
    "## &nbsp; &nbsp; &nbsp; &nbsp; - Speed\n",
    "## &nbsp; &nbsp; &nbsp; &nbsp; - Buzzwords to describe data is to big for excel:\n",
    "## &nbsp; &nbsp; &nbsp; &nbsp; - Hadoop, EC2, Pig\n",
    "## &nbsp; &nbsp; &nbsp; &nbsp; - Python or R"
   ]
  },
  {
   "cell_type": "markdown",
   "metadata": {
    "slideshow": {
     "slide_type": "subslide"
    }
   },
   "source": [
    "# Sicence is the key!!\n",
    "\n",
    "### &nbsp; &nbsp; &nbsp; &nbsp; - DS useful when answers a question\n",
    "### &nbsp; &nbsp; &nbsp; &nbsp; - Science is part of the equation\n",
    "### &nbsp; &nbsp; &nbsp; &nbsp; - Harder View of DS than only focusing on Data\n",
    "### &nbsp; &nbsp; &nbsp; &nbsp; - Question -> Data -> Answer\n",
    "### &nbsp; &nbsp; &nbsp; &nbsp; - Need to understand if correlations matter for the question"
   ]
  },
  {
   "cell_type": "markdown",
   "metadata": {
    "slideshow": {
     "slide_type": "slide"
    }
   },
   "source": [
    "<h1><center>Why Data Science?</center></h1>\n",
    "<br>\n",
    "<center><img src=\"images/data_science.png\" alt=\"Data Science\"></center>"
   ]
  },
  {
   "cell_type": "markdown",
   "metadata": {
    "slideshow": {
     "slide_type": "subslide"
    }
   },
   "source": [
    "<center><img src=\"images/ds_banner.jpg\" alt=\"Data Science Awesome\"></center>\n",
    "\n",
    "# Data Science helps you answer questions with data\n",
    "\n",
    "<center><img src=\"images/chuck.gif\" alt=\"Chuck aproves\"></center>"
   ]
  },
  {
   "cell_type": "markdown",
   "metadata": {
    "slideshow": {
     "slide_type": "subslide"
    }
   },
   "source": [
    "<center><img src=\"images/Moneyball_Poster.jpg\" alt=\"Moneyball\"></center>"
   ]
  },
  {
   "cell_type": "markdown",
   "metadata": {
    "slideshow": {
     "slide_type": "subslide"
    }
   },
   "source": [
    "<center><img src=\"images/obama.jpg\" alt=\"Obama\"></center>"
   ]
  },
  {
   "cell_type": "markdown",
   "metadata": {
    "slideshow": {
     "slide_type": "subslide"
    }
   },
   "source": [
    "<center><img src=\"images/netflix_prize.jpg\" alt=\"Netflix Prize\"></center>"
   ]
  },
  {
   "cell_type": "markdown",
   "metadata": {
    "slideshow": {
     "slide_type": "subslide"
    }
   },
   "source": [
    "<center><img src=\"images/sexy_job.jpg\" alt=\"Sexy job\"></center>"
   ]
  },
  {
   "cell_type": "markdown",
   "metadata": {
    "slideshow": {
     "slide_type": "subslide"
    }
   },
   "source": [
    "# Data Science Engineer: \n",
    "\n",
    "### Forbes: \n",
    "#### &nbsp; &nbsp; &nbsp; &nbsp; - One of the 6 most demanded jobs in 2018\n",
    "#### &nbsp; &nbsp; &nbsp; &nbsp; - IBM Predicts Demand For Data Scientists Will Soar 28% By 2020\n",
    "### Glassdoor: \n",
    "#### &nbsp; &nbsp; &nbsp; &nbsp; -  Best job in US\n",
    "#### &nbsp; &nbsp; &nbsp; &nbsp; -  4.8/5 job score\n",
    "#### &nbsp; &nbsp; &nbsp; &nbsp; -  4.2/5 job satisfaction\n",
    "#### &nbsp; &nbsp; &nbsp; &nbsp; -  110,000 USD median salary\n",
    "#### &nbsp; &nbsp; &nbsp; &nbsp; -  4,524 job openings"
   ]
  },
  {
   "cell_type": "markdown",
   "metadata": {
    "slideshow": {
     "slide_type": "slide"
    }
   },
   "source": [
    "<h1><center>But... How?</center></h1>\n",
    "<center><img src=\"images/wtf.png\" alt=\"Wtf?\"></center>"
   ]
  },
  {
   "cell_type": "markdown",
   "metadata": {
    "slideshow": {
     "slide_type": "subslide"
    }
   },
   "source": [
    "<h1><center>Learn the ways of Data Science you must...</center></h1>\n",
    "\n",
    "<center><img src=\"images/yoda.png\" alt=\"yoda\"></center>"
   ]
  },
  {
   "cell_type": "markdown",
   "metadata": {
    "slideshow": {
     "slide_type": "subslide"
    }
   },
   "source": [
    "# First rule of presentations:\n",
    "# Don't demo!"
   ]
  },
  {
   "cell_type": "markdown",
   "metadata": {
    "slideshow": {
     "slide_type": "subslide"
    }
   },
   "source": [
    "<h1><center>Let's demo!</center></h1>\n",
    "<center><img src=\"images/homer.gif\" alt=\"Crazy Homer\"></center>"
   ]
  },
  {
   "cell_type": "markdown",
   "metadata": {
    "slideshow": {
     "slide_type": "subslide"
    }
   },
   "source": [
    "# Data Science Project\n",
    "#### &nbsp; &nbsp; &nbsp; &nbsp; 1.- Problem or question\n",
    "#### &nbsp; &nbsp; &nbsp; &nbsp; 2.- Gather data\n",
    "#### &nbsp; &nbsp; &nbsp; &nbsp; 3.- Prepare data\n",
    "#### &nbsp; &nbsp; &nbsp; &nbsp; 4.- Create model (Statistics, Machine Learning or Deep Learning)\n",
    "#### &nbsp; &nbsp; &nbsp; &nbsp; 5.- Obtain solution\n",
    "#### &nbsp; &nbsp; &nbsp; &nbsp; 6.- Data driven decision"
   ]
  },
  {
   "cell_type": "markdown",
   "metadata": {
    "slideshow": {
     "slide_type": "subslide"
    }
   },
   "source": [
    "# The problem:\n",
    "\n",
    "<center><img src=\"images/ForeverAlone.jpg\" alt=\"Forever Alone\">"
   ]
  },
  {
   "cell_type": "markdown",
   "metadata": {
    "slideshow": {
     "slide_type": "subslide"
    }
   },
   "source": [
    "<center><img src=\"images/okcupid.png\" alt=\"OkCupid\"></center>"
   ]
  },
  {
   "cell_type": "markdown",
   "metadata": {
    "slideshow": {
     "slide_type": "subslide"
    }
   },
   "source": [
    "<center><img src=\"images/matches_bad.png\" alt=\"Bad Matches\"></center>"
   ]
  },
  {
   "cell_type": "markdown",
   "metadata": {
    "slideshow": {
     "slide_type": "subslide"
    }
   },
   "source": [
    "# Result:\n",
    "\n",
    "<center><img src=\"images/ForeverAlone.jpg\" alt=\"Forever Alone\">"
   ]
  },
  {
   "cell_type": "markdown",
   "metadata": {
    "slideshow": {
     "slide_type": "subslide"
    }
   },
   "source": [
    "<center><img src=\"images/data_scientist_bill.jpg\" alt=\"I'm a data scientist\"></center>"
   ]
  },
  {
   "cell_type": "markdown",
   "metadata": {
    "slideshow": {
     "slide_type": "subslide"
    }
   },
   "source": [
    "# The tool:\n",
    "\n",
    "<center><img src=\"images/python.png\" alt=\"python\">\n",
    "\n",
    "<h3><a href=\"https://www.python.org/\">python.org</a></h3></center>"
   ]
  },
  {
   "cell_type": "markdown",
   "metadata": {
    "slideshow": {
     "slide_type": "subslide"
    }
   },
   "source": [
    "# The Data\n",
    "\n"
   ]
  },
  {
   "cell_type": "markdown",
   "metadata": {
    "slideshow": {
     "slide_type": "subslide"
    }
   },
   "source": [
    "# Data Sources:\n",
    "#### &nbsp; &nbsp; &nbsp; &nbsp; - Go get it\n",
    "#### &nbsp; &nbsp; &nbsp; &nbsp; - Governments (  Data.gov.sg, Freedom of Information Act)\n",
    "#### &nbsp; &nbsp; &nbsp; &nbsp; - Datasets\n",
    "#### &nbsp; &nbsp; &nbsp; &nbsp; - Scrap it"
   ]
  },
  {
   "cell_type": "code",
   "execution_count": 142,
   "metadata": {
    "slideshow": {
     "slide_type": "subslide"
    }
   },
   "outputs": [],
   "source": [
    "from bs4 import BeautifulSoup\n",
    "import requests\n",
    "import re\n",
    "import json\n",
    "import time"
   ]
  },
  {
   "cell_type": "markdown",
   "metadata": {
    "slideshow": {
     "slide_type": "subslide"
    }
   },
   "source": [
    "## Login to OkCupid\n",
    "\n",
    "For those of you that want to get the data from OkCupid profiles, you have to actually signup at https://www.okcupid.com/signup and write down and load the credentials into the variables so the algorithm can login into the website."
   ]
  },
  {
   "cell_type": "code",
   "execution_count": null,
   "metadata": {
    "slideshow": {
     "slide_type": "subslide"
    }
   },
   "outputs": [],
   "source": [
    "# Write and load your username \n",
    "username = ''\n",
    "password = ''"
   ]
  },
  {
   "cell_type": "code",
   "execution_count": 143,
   "metadata": {
    "slideshow": {
     "slide_type": "subslide"
    }
   },
   "outputs": [],
   "source": [
    "def perform_login(login_url, username, password):\n",
    "    session = requests.session()\n",
    "    session.get(login_url)\n",
    "    response = session.post(login_url, data={'username': username, 'password':password})\n",
    "    return session\n",
    "\n",
    "session = perform_login('https://www.okcupid.com/login', username, password)"
   ]
  },
  {
   "cell_type": "code",
   "execution_count": 144,
   "metadata": {
    "slideshow": {
     "slide_type": "subslide"
    }
   },
   "outputs": [
    {
     "name": "stdout",
     "output_type": "stream",
     "text": [
      "<!DOCTYPE html> <html lang=\"en\"> <head> <meta charset=\"UTF-8\" /> <meta http-equiv=\"content-type\" content=\"text/html; charset=utf-8\" /> <link rel=\"dns-prefetch\" href=\"//includes.okccdn.com\" /> <link rel=\"dns-prefetch\" href=\"//cdn.okccdn.com\" /> <link rel=\"preconnect\" href=\"//includes.okccdn.com\" /> <link rel=\"preconnect\" href=\"//cdn.okccdn.com\" />  <link rel=\"preload\" as=\"font\" href=\"//includes.okccdn.com/flat/fonts/GT-America/Regular/GT-America-Regular.woff\" type=\"font/woff2\" crossorigin />  <link rel=\"preload\" as=\"font\" href=\"//includes.okccdn.com/flat/fonts/GT-America/Medium/GT-America-Medium.woff\" type=\"font/woff2\" crossorigin />  <link rel=\"preload\" as=\"font\" href=\"//includes.okccdn.com/flat/fonts/GT-America/Black/GT-America-Black.woff\" type=\"font/woff2\" crossorigin />     <title>Matches | OkCupid</title> <link rel=\"shortcut icon\" href=\"https://cdn.okccdn.com/media/img/template/favicon.ico\" /> <meta name=\"canonical\" content=\"https://www.okcupid.com/match?filter1=0,48&#38;filter2=2,100,18&#38;filter3=5,26%20%20%20%20%20%20%20%2078400&#38;filter4=1,1&#38;locid=0&#38;timekey=1&#38;matchOrderBy=SPECIAL_BLEND&#38;custom_search=0&#38;%20%20%20%20%20%20%20%20fromWhoOnline=0&#38;mygender=m&#38;update_prefs=1&#38;sort_type=0&#38;sa=1&#38;using_saved_search=&#38;count=30\" /> <meta name=\"description\" content=\"OkCupid is the only dating app that knows you’re more substance than just a selfie—and it’s free! Download it today to make meaningful connections with real people.\" /> <link rel=\"apple-touch-icon-precomposed\" href=\"https://cdn.okccdn.com/media/img/template/icon/okc48.png\" sizes=\"48x48\" /> <link rel=\"apple-touch-icon-precomposed\" href=\"https://cdn.okccdn.com/media/img/template/icon/okc72.png\" sizes=\"72x72\" /> <link rel=\"apple-touch-icon-precomposed\" href=\"https://cdn.okccdn.com/media/img/template/icon/okc114.png\" sizes=\"114x114\" /> <link rel=\"apple-touch-icon-precomposed\" href=\"https://cdn.okccdn.com/media/img/template/icon/okc144.png\" sizes=\"144x144\" /> <meta property=\"fb:app_id\" content=\"153408784666\" /> <meta property=\"og:url\" content=\"https://www.okcupid.com/match?filter1=0,48&#38;filter2=2,100,18&#38;filter3=5,26%20%20%20%20%20%20%20%2078400&#38;filter4=1,1&#38;locid=0&#38;timekey=1&#38;matchOrderBy=SPECIAL_BLEND&#38;custom_search=0&#38;%20%20%20%20%20%20%20%20fromWhoOnline=0&#38;mygender=m&#38;update_prefs=1&#38;sort_type=0&#38;sa=1&#38;using_saved_search=&#38;count=30\"/> <meta property=\"og:image\" content=\"http://cdn.okccdn.com/media/img/template/icon/icon_1024x1024.png\"/> <meta property=\"og:site_name\" content=\"OkCupid | Free Online Dating\"/> <meta property=\"og:title\" content=\"Matches | OkCupid\"/> <meta property=\"og:description\" content=\"OkCupid is the only dating app that knows you’re more substance than just a selfie—and it’s free! Download it today to make meaningful connections with real people.\"/> <meta property=\"og:type\" content=\"website\"/> <meta name=\"twitter:card\" content=\"summary\" /> <meta name=\"twitter:domain\" content=\"okcupid.com\" /> <meta name=\"twitter:site\" content=\"@okcupid\" /> <meta name=\"twitter:creator\" content=\"OkCupid\" /> <meta name=\"twitter:title\" content=\"Matches | OkCupid\" /> <meta name=\"twitter:description\" content=\"OkCupid is the only dating app that knows you’re more substance than just a selfie—and it’s free! Download it today to make meaningful connections with real people.\" /> <meta name=\"twitter:image:src\" content=\"http://cdn.okccdn.com/media/img/template/icon/icon_1024x1024.png\" /> <meta itemprop=\"name\" content=\"Matches | OkCupid\" /> <meta itemprop=\"description\" content=\"OkCupid is the only dating app that knows you’re more substance than just a selfie—and it’s free! Download it today to make meaningful connections with real people.\" /> <meta itemprop=\"image\" content=\"http://cdn.okccdn.com/media/img/template/icon/icon_1024x1024.png\" /> <meta name=\"pinterest\" content=\"nopin\" />    <link rel=\"stylesheet\" href=\"//includes.okccdn.com/flat/synced/desktop/css/common.min.css?v=99365ec1d171946f977b26a2f8f5d351\" /><link rel=\"stylesheet\" href=\"//includes.okccdn.com/lang/en/version/22c563d8656f0cd/locals.css?set=matchsearch\" /> <link rel=\"stylesheet\" type=\"text/css\" href=\"//includes.okccdn.com/flat/synced/desktop/css/matchsearch.min.css?v=294d8213ab1abe65741b4481452ff31a\" />  <link rel=\"stylesheet\" type=\"text/css\" href=\"//includes.okccdn.com/flat/synced/desktop/css/experimentalfeatures.min.css?v=ff80a29a001e1afd0129f2fe49e07c84\" />   <script>\r\n",
      "\twindow.ImagePath = {\"cdn\" : \"https://cdn.okccdn.com/\", \"resizer\" : \"https://cdn.okccdn.com/php/load_okc_image.php/images\"};\r\n",
      "\twindow.Colors = {\"teal\" : {\"7\" : \"#C7C6D2\", \"6\" : \"#9393a9\", \"1\" : \"#30b7c4\", \"3\" : \"#76dadd\", \"2\" : \"#4fc5d0\", \"5\" : \"#9ee8e8\", \"4\" : \"#d5f7f7\"}, \"green\" : {\"6\" : \"#76ee9d\", \"1\" : \"#1fc174\", \"3\" : \"#48e588\", \"2\" : \"#00d280\", \"5\" : \"#d6f4df\", \"4\" : \"#bcf1cd\"}, \"red\" : {\"1\" : \"#f95133\", \"3\" : \"#ffc0bb\", \"2\" : \"#fb674e\", \"5\" : \"#e84832\", \"4\" : \"#fa8575\"}, \"yellow\" : {\"7\" : \"#ffaf0d\", \"6\" : \"#ffe36c\", \"1\" : \"#e8a610\", \"3\" : \"#ffd939\", \"2\" : \"#f8c637\", \"5\" : \"#f9f3dc\", \"4\" : \"#f9eaac\"}, \"orange\" : {\"1\" : \"#f28d18\", \"3\" : \"#ffd38c\", \"2\" : \"#ffb640\"}, \"gray\" : {\"5\" : \"#ccd0d9\", \"4\" : \"#aeb4bf\", \"7\" : \"#f3f5f9\", \"6\" : \"#ebedf2\", \"1\" : \"#1e1e1e\", \"14\" : \"#888893\", \"15\" : \"#56585c\", \"3\" : \"#949aa6\", \"2\" : \"#2a2f35\", \"10\" : \"#1e1e1e\", \"11\" : \"#888893\", \"12\" : \"#dee1e7\", \"13\" : \"#9d9dab\", \"9\" : \"#1e1e1e\", \"8\" : \"#f3f5f9\"}, \"white\" : \"#ffffff\", \"genres\" : {\"2017\" : \"#fa8575\", \"other\" : \"#00d280\", \"sex\" : \"#ff8aa4\", \"religion\" : \"#9dbaf2\", \"ethics\" : \"#f8c637\", \"dating\" : \"#4fc5d0\", \"lifestyle\" : \"#104da1\"}, \"flavor\" : {\"teal\" : \"#00AEBD\", \"gray\" : \"#1E1E1E\", \"pink\" : \"#EA1C53\", \"blue\" : \"#4C7BD9\", \"purple\" : \"#7D208C\", \"green\" : \"#1FC173\"}, \"pink\" : {\"6\" : \"#fcecf2\", \"1\" : \"#ea1c53\", \"3\" : \"#ff597e\", \"2\" : \"#f93b66\", \"5\" : \"#fedbe3\", \"4\" : \"#ff8aa4\"}, \"blue\" : {\"7\" : \"#07408d\", \"6\" : \"#e4edfd\", \"1\" : \"#104da1\", \"3\" : \"#4c7bd9\", \"10\" : \"#7A8AFF\", \"2\" : \"#3260c7\", \"9\" : \"#9392ab\", \"5\" : \"#d5e0f8\", \"8\" : \"#0500BE\", \"4\" : \"#9dbaf2\"}, \"pride\" : {\"i\" : \"#7d208c\", \"y\" : \"#feac00\", \"b\" : \"#008ad8\", \"r\" : \"#db2e1f\", \"g\" : \"#4ab42f\", \"o\" : \"#f16900\"}, \"purple\" : {\"1\" : \"#9e40cc\", \"3\" : \"#d0a9e9\", \"2\" : \"#b96fe0\", \"4\" : \"#eadeef\"}};\r\n",
      "\r\n",
      "\t\n",
      "\n",
      "window.EVENT_NAMES = {\"promoBoostProfileEdit\" : \"Selected Boost CTA on Profile Edit\", \"purchasesSwipedSalesCarouselOnBoostTokenUpsell\" : \"Swiped sales carousel on Boost Token Upsell\", \"onboardingSelectedSignInOnLanding\" : \"Selected sign in on Landing\", \"onboardingSelectedNoOnFBSignUp\" : \"Selected no on FB Sign Up\", \"promoAlistSettingsBrowseInvisibly\" : \"Selected AList ad on Settings Privacy\", \"promoBoostCarouselSwipe\" : \"Swiped sales carousel on Boost Token Upsell\", \"onboardingSelectedMyMatchInterstitial\" : \"selected next on onboarding about my match interstitial\", \"onboardingSelectedOnEmail\" : \"Selected next on onboarding my email\", \"selectedMyMatchOnSettingsHome\" : \"selected my match on settings home\", \"purchasesViewedLikesUpsell\" : \"viewed likes you upsell\", \"promoAlistSettingsIncognito\" : \"Selected Incognito ad on Settings Privacy\", \"messagesSelectedProfileInMatchList\" : \"selected profile in conversations match list\", \"onboardingSelectedJoinOnRegistration2\" : \"Selected Join on Registration 2\", \"datersChoicePageLoad\" : \"Landed on Daterschoice\", \"onboardingSelectedMyResponseOnQuestion\" : \"Selected My Response on Onboarding Questions Chat\", \"appliedAlistSearchFilter\" : \"applied alist search filter\", \"messagesSent\" : \"Sent message on Conversation\", \"onboardingLandedOnLanding\" : \"Landed on Landing\", \"profileReport\" : \"reported match\", \"profileInteraction\" : \"selected interaction button on match profile\", \"purchasesSubscribedToIncognito\" : \"Subscribed to Incognito\", \"onboardingSelectedResponseOnQuestionCard\" : \"Selected My Response on Onboarding Questions Card\", \"promoAlistLikesYouUpsellScreen\" : \"Selected CTA on Likes You Upsell Screen\", \"onboardingSelectedYesOnFBSignUp\" : \"Selected yes on FB Sign Up\", \"cardShown\" : \"card shown on doubletake home\", \"purchasesSelectedPlanOnIncognitoUpsell\" : \"Selected plan on Incognito Upsell\", \"purchasesSelectedPlanOnAlistUpsell\" : \"Selected plan on AList Upsell\", \"promoAlistSearchResultAd\" : \"Selected CTA on search result ad on Search Home\", \"promoAlistGetAlistSettings\" : \"Selected Get AList on Settings\", \"matchsearchSelectedMatch\" : \"selected match on search home\", \"onboardingRegistered\" : \"Registered\", \"promoIncognitoCarouselSwipe\" : \"Swiped sales carousel on Boost Token Upsell\", \"purchasesSwipedSalesCarouselOnAlistUpsell\" : \"Swiped sales carousel on AList Upsell\", \"datersChoiceVoteSkipped\" : \"Skipped a category\", \"promoAlistSettingsSubscriptions\" : \"Selected AList CTA on Settings Subscriptions\", \"profileEditEssay\" : \"edited essay\", \"selectedPackageOnRateCard\" : \"selected package on rate card\", \"profileViewedQuestions\" : \"viewed drilldown\", \"selectedConfirmPurchaseOnCheckout\" : \"selected confirm purchase on checkout\", \"profilePaginatedQuestions\" : \"loaded questions pagination result\", \"onboardingSelectedEmail\" : \"selected next on onboarding my email\", \"onboardingSelectedAboutMeInterstitial\" : \"selected next on onboarding about me interstitial\", \"purchasesSelectSubscribePaypal\" : \"Selected Subscribe with PayPal on AList Upsell or Billing Info\", \"passionsAddTopicToProfile\" : \"added topic to profile\", \"datersChoiceVoteCast\" : \"Cast a vote\", \"promoAlistLikesYouUpsellHeaderPromo\" : \"Selected CTA on Likes You Upsell Header Promo\", \"purchasesPurchasedBoostToken\" : \"Purchased Boost Token\", \"savedPreferencesOnMyMatch\" : \"saved preferences on my match\", \"passionsSelectedAddTopics\" : \"selected add topics\", \"promoBoostSubsSettingsSubscriptions\" : \"Selected Boost Sub CTA on Settings Subscriptions\", \"onboardingSelectedCreateAccount\" : \"Selected sign up on onboarding my password\", \"accountSelectedResetPassword\" : \"Selected Reset Password\", \"onboardingSelectedNextOnQuestionIntro\" : \"Selected next on Onboarding Ques Intro\", \"onboardingQuestionsCompleted\" : \"Selected Submit on Onboarding Questions Chat\", \"uploadedPhoto\" : \"uploaded photo\", \"passionsSelectedTopicToAdd\" : \"selected topic to add\", \"promoAlistBrowseInvisiblyUpsell\" : \"Selected CTA on Browse Invisibly Upsell\", \"isLast\" : true, \"profileBlock\" : \"blocked match\", \"purchasesSelectedConfirmPurchaseOnBillingInfo\" : \"Selected Confirm purchase on Billing Info\", \"profileSelectedQuestionsFilter\" : \"selected question filter\", \"promoIncognitoSettingsSubscriptions\" : \"Selected Incognito CTA on Settings Subscriptions\", \"voted\" : \"voted on card on doubletake home\", \"promoMobileInlinePromo\" : \"Selected Mobile Inline Promo\", \"promoAlistYellowLikesUpsell\" : \"Selected CTA on Likes Upsell\", \"onboardingSelectedSignUpOnLanding\" : \"Selected sign up on Landing\", \"profileViewedSelfviewQuestions\" : \"viewed question page self view\", \"profileHide\" : \"hid match\", \"passionsSelectedTopicPrompt\" : \"selected topic prompt\", \"purchasesSelectedSubscribeOnIncognitoUpsell\" : \"Selected Subscribe on Incognito Upsell\", \"passionsSelectedTopicToWrite\" : \"selected topic to write\", \"onboardingSelectedJoinOnFBSignUp\" : \"Selected Join on FB Sign Up\", \"promoBoostMobileProfile\" : \"Selected Boost CTA on Profile Edit\", \"datersChoiceUserResume\" : \"Left and came back\", \"datersChoiceUserFinish\" : \"Finished the survey\", \"onboardingSelectJoinOnDesktop\" : \"Selected Join OkC on desktop home page\", \"purchasesSwipedSalesCarouselOnIncognitoUpsell\" : \"Swiped sales carousel on Incognito Upsell\", \"purchasesSelectedPlanOnBoostTokenUpsell\" : \"Selected plan on Boost Token Upsell\", \"purchasesSelectedPackageOptionOnTopBar\" : \"Selected package option on top bar on AList Upsell\", \"boosted\" : \"used boost token\", \"onboardingQuestionsCardCompleted\" : \"Selected Submit on Onboarding Questions Card\", \"profileBookmark\" : \"selected bookmark option on match\", \"viewedRateCard\" : \"viewed rate card\", \"datersChoiceResultToggle\" : \"Toggled a category result\", \"onboardingSelectedNextOnRegistration1\" : \"Selected next on Registration 1\", \"purchasesSubscribedToAlist\" : \"Subscribed to AList\", \"onboardingSelectedSkipOnQuestion\" : \"Selected skip on Onboarding Questions Chat\", \"profileQuestionCategory\" : \"selected questions category on match profile\", \"doubletakeSelectedPhoto\" : \"selected photo on doubletake card\", \"messagesDeleted\" : \"Deleted conversation\", \"promoAlistSearchFilterInterstitial\" : \"Selected option on Search Filter Interstitial\", \"purchasesViewedAlistUpsell\" : \"viewed alist upsell\", \"onboardingSelectedAcceptedResponseOnQuestion\" : \"Selected Accepted Response on Onboarding Questions Chat\", \"sentMessage\" : \"sent message\", \"selectedFirstPartyPromo\" : \"selected first party promo\", \"purchasesSelectedSubscribeOnAlistUpsell\" : \"Selected Subscribe on AList Upsell\", \"messagesSelectedInboxMessage\" : \"Selected message on Inbox\", \"viewedFirstPartyPromo\" : \"viewed first party promo\", \"discoveryClickedProfile\" : \"selected profile in discovery\", \"onboardingSelectedNextOnGentation\" : \"Selected next on Gentation\", \"callbackStatusOnPurchaseTransaction\" : \"call back status on purchase transaction\", \"discoverySearchedInterest\" : \"searched for interest in discovery\", \"onboardingFinishedFunnel\" : \"Finished onboarding funnel\", \"questionsSubmitted\" : \"Answered question\", \"passionsSelectedNextOnTopicChoices\" : \"selected next on topic choices\", \"datersChoiceUserStart\" : \"Started the survey\", \"discoveryClickedInterestSearch\" : \"selected interest search in discovery\"};\n",
      "\n",
      "window.Context = {\n",
      "\tdata: {\"platform\" : \"DESKTOP\", \"timingExperiments\" : {}, \"userGroup\" : 0, \"criteoBidding\" : true, \"localizationDebug\" : false, \"country\" : \"SN\", \"service\" : \"matches\", \"fbAppId\" : \"484681304938818\", \"appnexusBidding\" : true, \"cssImagePath\" : \"//cdn.okccdn.com/\", \"isStaff\" : 0, \"premiums\" : {\"SEE_PUBLIC_QUESTIONS\" : 0, \"GOD_MODE\" : 0, \"ANON_BROWSE\" : 0, \"STEALTH_MODE\" : 0, \"PRIORITY_MESSAGES\" : 0, \"VIEW_VOTES\" : 0, \"PIC_ALBUMS\" : 0, \"PRIORITY_FEEDBACK\" : 0, \"ALIST_PREMIUM\" : 0, \"AGEBLOCK_MAILBOX_DELIVERY\" : 0, \"BLACKLIST_PROTECTION\" : 0, \"SECURE_LOGIN\" : 0, \"USERNAME_ALIAS\" : 0, \"REVIEWS\" : 0, \"BOOST_SUB\" : 0, \"MESSAGE_FILTERS\" : 0, \"BOOST_SUB_BUNDLE\" : 0, \"PRO_MATCH_SEARCHES\" : 0, \"INCOGNITO\" : 0, \"FULL_MAILBOX_DELIVERY\" : 0, \"PREMIUM_MESSAGE_FILTERS\" : 0, \"ADFREE\" : 0, \"A_LIST_BASIC_BUNDLE\" : 0, \"NAG_EXEMPT\" : 0, \"UNLIMITED_LIKES\" : 0, \"SELECT_MODE\" : 0, \"UNLIMITED_VISITORS\" : 0, \"PRO_MATCH_MAIL\" : 0, \"BIG_MAILBOX\" : 0, \"PROGNOSTICATOR\" : 0, \"PRO_BADGE\" : 0, \"FORUMS\" : 0, \"INCOGNITO_BUNDLE\" : 0, \"A_LIST_PREMIUM_BUNDLE\" : 0, \"READ_RECEIPTS\" : 0, \"A_LIST_BUNDLE\" : 0, \"ALIST_BASIC\" : 0, \"A_LIST_PLUS_BUNDLE\" : 0, \"BUZZ\" : 0, \"SHOW_UP_IN_PRO_MATCH_SEARCHES\" : 0}, \"debugAnalytics\" : false, \"onlyFetchVisibleAds\" : true, \"adFree\" : false, \"onboardingIncomplete\" : false, \"prebidTimeout\" : 750, \"realname\" : \"Marco\", \"isLoggedIn\" : 1, \"imagePath\" : \"cdn.okccdn.com/php\", \"userid\" : \"9782433068778445801\", \"displayname\" : \"Marco\", \"user_demo\" : {\"education\" : 0, \"children\" : 0, \"location_state\" : \"00\", \"religion_serious\" : 0, \"location_city\" : \"Singapore\", \"job\" : 0, \"location_postal\" : \"\", \"income\" : 0, \"rel_display_status_code\" : 1, \"gender\" : 1, \"cats\" : 0, \"birthdate\" : 487728000, \"smoking\" : 0, \"ethnicity\" : 1024, \"drugs\" : 3, \"accnt_age\" : 1, \"age\" : 33, \"wiw\" : {\"is_default\" : 0, \"singles_only\" : 0, \"age_max\" : 52, \"gen_desired\" : 0, \"age_min\" : 18, \"gentation\" : 34, \"lookingfor\" : 128, \"near_me\" : 1, \"gen_pref_seeking\" : 0}, \"education_status\" : 0, \"dogs\" : 0, \"location_country\" : \"SN\", \"religion\" : 0, \"alcohol\" : 0, \"metro_area\" : 0}, \"insecurePrefix\" : \"http://www.okcupid.com\", \"purchaseExperiments\" : {\"BOOST\" : null, \"INCOGNITO\" : \"control\", \"ALIST\" : null}, \"env\" : \"prod\", \"openXBidding\" : true, \"boostDict\" : {\"progresswidth\" : 151, \"default_imp_count\" : 0, \"check_time\" : 450, \"default_time\" : 900, \"result_max\" : 5, \"new_activity_time\" : 15, \"sookiename\" : \"spotlightinfo\", \"sookiehash\" : \"28317fa9106768f184a6a18cb6f4e3194772f0b5\"}, \"state\" : {\"INCOGNITO_SUBSCRIPTION\" : false, \"FORCE_CAPTCHA_LOGIN\" : false, \"QUESTION_COMMENTING\" : false, \"NO_PHOTOS\" : false, \"READ_RECEIPT\" : false, \"A-LIST\" : false, \"PAYMENTS_UPDATE\" : true, \"OCS_FIRST_MESSAGE_FLOW\" : true, \"OCS_NEW_MESSAGE_PAGE\" : true, \"INCOGNITO_PROMOS\" : false, \"OCS_NEW_CONNECTION_PAGES\" : true, \"ANDROID_FLAGGING_WITH_COMMENT\" : false, \"INCOGNITO_ENABLED\" : false, \"CONTENT_WARNING_GM\" : false, \"OCS_PROFILE_PASSING\" : true, \"PAYMENTS_INCOGNITO\" : true, \"ALIST_ENHANCED\" : false, \"INCOGNITO_ONBOARDING\" : false}, \"apiPrefix\" : \"/apitun\", \"gender\" : 1, \"amazonUpgrade\" : true, \"serverTime\" : 1542888581, \"daisyUrl\" : \"/daisy\", \"blockedPageviews\" : 0, \"isAlist\" : false, \"port\" : \"\", \"username\" : \"9782433068778445801\", \"cdnJS\" : \"//includes.okccdn.com\", \"securePrefix\" : \"https://www.okcupid.com\", \"daisyPage\" : \"Match\"},\n",
      "\tget: function(key) { return this.data[key]; },\n",
      "\thas: function(key) { return this.data.state[key]; },\n",
      "\tgetUserDemo: function(key) { return this.data.user_demo[key]; },\n",
      "\thasPremium: function(key) {\n",
      "\t\tif (typeof(this.data.premiums) === \"undefined\" || this.data.premiums === null) {\n",
      "\t\t\treturn false;\n",
      "\t\t}\n",
      "\n",
      "\t\treturn !!this.data.premiums[key];\n",
      "\t}\n",
      "};\n",
      "\r\n",
      "\r\n",
      "\t/*\r\n",
      "\t\t\r\n",
      "\t*/\r\n",
      "\r\n",
      "\tvar CURRENTUSERID = \"9782433068778445801\";\r\n",
      "\tvar IMAGEPATH = ImagePath.cdn;\r\n",
      "\tvar SCREENNAME = \"9782433068778445801\";\r\n",
      "\tvar API_PREFIX = \"/apitun\";\r\n",
      "\tvar SECURE_PREFIX = \"https://www.okcupid.com\";\r\n",
      "\tvar INSECURE_PREFIX = \"http://www.okcupid.com\";\r\n",
      "\tvar ISALIST = false;\r\n",
      "\tvar IS_STAFF = 0;\r\n",
      "\tvar HAS_ADFREE = 0;\r\n",
      "\tvar ACCESS_TOKEN = \"1,0,1542974981,0x87c22f0be792dbe9;ceeca394f9680b12408bbd8ac3d76c67c03a6921\";\r\n",
      "\tvar SERVER_TIME = 1542888581;\r\n",
      "\tvar ENV = 'prod';\r\n",
      "\tvar PORT = '';\r\n",
      "\tvar SERVICE = \"matches\";\r\n",
      "\tvar PROFILE_TAB = '';\r\n",
      "\tvar PLATFORM = 'DESKTOP';\r\n",
      "\tvar USER_GROUP = 0; \r\n",
      "\tif (typeof console == 'undefined' || typeof console.log == 'undefined') console = { 'log':function(){} };\r\n",
      "\tvar SESSION = {\"num_drafts\" : 0, \"num_essay_chars\" : 416, \"join_date\" : 1542768149, \"acct_expire\" : 0, \"num_pics\" : 1, \"num_contacts\" : 0, \"acct_level\" : 0, \"gender\" : 1, \"num_good_votes\" : 10, \"locid\" : 1697659, \"mail_unread\" : 0, \"userid\" : \"9782433068778445801\", \"user_thumbnail\" : \"27x27/508x508/2/5619272999354541929.jpeg\", \"orientation\" : 1, \"browsing_anonymously\" : 0, \"longitude\" : 10385583, \"num_votes\" : 0, \"alist\" : false, \"browsing_semi_anonymously\" : 0, \"username\" : \"9782433068778445801\", \"num_qans\" : 15, \"last_online\" : 1542888544, \"metro_area\" : 0, \"num_quivers\" : 0, \"latitude\" : 129306};\r\n",
      "\tvar user_demo = {\"education\" : 0, \"children\" : 0, \"location_state\" : \"00\", \"religion_serious\" : 0, \"location_city\" : \"Singapore\", \"job\" : 0, \"location_postal\" : \"\", \"income\" : 0, \"rel_display_status_code\" : 1, \"gender\" : 1, \"cats\" : 0, \"birthdate\" : 487728000, \"smoking\" : 0, \"ethnicity\" : 1024, \"drugs\" : 3, \"accnt_age\" : 1, \"age\" : 33, \"wiw\" : {\"is_default\" : 0, \"singles_only\" : 0, \"age_max\" : 52, \"gen_desired\" : 0, \"age_min\" : 18, \"gentation\" : 34, \"lookingfor\" : 128, \"near_me\" : 1, \"gen_pref_seeking\" : 0}, \"education_status\" : 0, \"dogs\" : 0, \"location_country\" : \"SN\", \"religion\" : 0, \"alcohol\" : 0, \"metro_area\" : 0};\r\n",
      "\tvar AUTHCODE = \"1,0,1542974981,0x87c22f0be792dbe9;ceeca394f9680b12408bbd8ac3d76c67c03a6921\";\r\n",
      "\t// Have components set this to their height if they're fixed to the top.\r\n",
      "\tvar FIXED_ELEMENT_HEIGHT = 0;\r\n",
      "\tvar DAISY_URL = \"/daisy\";\r\n",
      "\tvar DAISY_PAGE = \"Match\";\r\n",
      "\tvar PRIDE = false;\r\n",
      "\tvar L10N_DEBUG = false;\r\n",
      "\r\n",
      "\t\r\n",
      "\t\tvar BROWSERS = {\"platform\" : null, \"device\" : null, \"os\" : null, \"version\" : null, \"browser\" : \"other\"};\r\n",
      "\t\r\n",
      "\r\n",
      "\t\r\n",
      "\t\tvar DISABLE_FOCUS_REFRESH = true;\r\n",
      "\t\r\n",
      "</script>  <script>\r\n",
      "\t\t\tvar errorlist = [];\r\n",
      "\r\n",
      "\t\t\twindow.onerror = function WindowOnError(message, url, line, col) {\r\n",
      "\t\t\t\terrorlist.push({\r\n",
      "\t\t\t\t\tmessage: message,\r\n",
      "\t\t\t\t\turl: url,\r\n",
      "\t\t\t\t\tline: line,\r\n",
      "\t\t\t\t\tcol: col\r\n",
      "\t\t\t\t});\r\n",
      "\t\t\t};\r\n",
      "\t\t</script>    <script>\n",
      "\tvar isOkCRE = /okcupid\\.com$/;\n",
      "\tfunction isOkC() {\n",
      "\t\treturn isOkCRE.test(window.location.hostname);\n",
      "\t}\n",
      "\n",
      "\tif (isOkC()) {\n",
      "\t\twindow.mParticle = {\"config\" : {\"identifyRequest\" : {\"userIdentities\" : {\"customerid\" : \"9782433068778445801\"}}, \"isDevelopmentMode\" : false}};\n",
      "\n",
      "\t\t\n",
      "\n",
      "\t\t(function (apiKey) {\n",
      "\t\t\t window.mParticle = window.mParticle || {};\n",
      "\t\t\t window.mParticle.eCommerce = { Cart: {} };\n",
      "\t\t\t window.mParticle.Identity = {};\n",
      "\t\t\t window.mParticle.config = window.mParticle.config || {};\n",
      "\t\t\t window.mParticle.config.rq = [];\n",
      "\t\t\t window.mParticle.ready = function (f) {\n",
      "\t\t\t\t\t window.mParticle.config.rq.push(f);\n",
      "\t\t\t };\n",
      "\n",
      "\t\t\t\n",
      "\n",
      "\t\t\t function a(o,t){return function(){t&&(o=t+\".\"+o);var e=Array.prototype.slice.call(arguments);e.unshift(o),window.mParticle.config.rq.push(e)}}var x=[\"endSession\",\"logError\",\"logEvent\",\"logForm\",\"logLink\",\"logPageView\",\"setSessionAttribute\",\"setAppName\",\"setAppVersion\",\"setOptOut\",\"setPosition\",\"startNewSession\",\"startTrackingLocation\",\"stopTrackingLocation\"],y=[\"setCurrencyCode\",\"logCheckout\"],z=[\"login\",\"logout\",\"modify\"];x.forEach(function(o){window.mParticle[o]=a(o)}),y.forEach(function(o){window.mParticle.eCommerce[o]=a(o,\"eCommerce\")}),z.forEach(function(o){window.mParticle.Identity[o]=a(o,\"Identity\")});\n",
      "\n",
      "\t\t\tvar mp = document.createElement('script');\n",
      "\t\t\tmp.type = 'text/javascript';\n",
      "\t\t\tmp.async = true;\n",
      "\t\t\tmp.src = ('https:' == document.location.protocol ? 'https://jssdkcdns' : 'http://jssdkcdn') + '.mparticle.com/js/v2/' + apiKey + '/mparticle.js';\n",
      "\t\t\tvar s = document.getElementsByTagName('script')[0];\n",
      "\t\t\ts.parentNode.insertBefore(mp, s);\n",
      "\t\t})('a8c837bced3bf546b6bfcad20f81ccb0');\n",
      "\t}\n",
      "</script>    <!-- Facebook Pixel Code --> <script>\n",
      "!function(f,b,e,v,n,t,s){if(f.fbq)return;n=f.fbq=function(){n.callMethod?\n",
      "n.callMethod.apply(n,arguments):n.queue.push(arguments)};if(!f._fbq)f._fbq=n;\n",
      "n.push=n;n.loaded=!0;n.version='2.0';n.queue=[];t=b.createElement(e);t.async=!0;\n",
      "t.src=v;s=b.getElementsByTagName(e)[0];s.parentNode.insertBefore(t,s)}(window,\n",
      "document,'script','https://connect.facebook.net/en_US/fbevents.js');\n",
      "fbq('init', '914782201921498');\n",
      "fbq('track', 'PageView');\n",
      "</script> <noscript><img height=\"1\" width=\"1\" style=\"display:none\" src=\"https://www.facebook.com/tr?id=914782201921498&ev=PageView&noscript=1\" /></noscript> <!-- DO NOT MODIFY --> <!-- End Facebook Pixel Code --> <!-- Global site tag (gtag.js) - Google AdWords: 829392633 --> <script async src=\"https://www.googletagmanager.com/gtag/js?id=AW-829392633\"></script> <script>\n",
      "  window.dataLayer = window.dataLayer || [];\n",
      "  function gtag(){dataLayer.push(arguments);}\n",
      "  gtag('js', new Date());\n",
      "\n",
      "  gtag('config', 'AW-829392633');\n",
      "  gtag('config', 'DC-8236637');\n",
      "\n",
      " </script>  <script>\n",
      "\t\t\t(function() {\n",
      "\t\t\t\tif (typeof ClientStats !== 'undefined') {\n",
      "\t\t\t\t\tvar supportsEmoji;\n",
      "\n",
      "\t\t\t\t\tif (!document.createElement(\"canvas\").getContext) {\n",
      "\t\t\t\t\t\tsupportsEmoji = false;\n",
      "\t\t\t\t\t} else {\n",
      "\n",
      "\t\t\t\t\t\tvar context = document.createElement(\"canvas\").getContext(\"2d\");\n",
      "\n",
      "\t\t\t\t\t\tif (typeof context.fillText !== \"function\") {\n",
      "\t\t\t\t\t\t\tsupportsEmoji = false;\n",
      "\t\t\t\t\t\t} else {\n",
      "\n",
      "\t\t\t\t\t\t\t// this should be a fairly recent emoji.\n",
      "\t\t\t\t\t\t\t// to find this out, dump this into a console:\n",
      "\t\t\t\t\t\t\t// \"<emoji>\".charCodeAt(0) // first code\n",
      "\t\t\t\t\t\t\t// \"<emoji>\".charCodeAt(1) // second code\n",
      "\t\t\t\t\t\t\tvar nauseatedFace = String.fromCharCode(55358) + String.fromCharCode(56610);\n",
      "\n",
      "\t\t\t\t\t\t\tcontext.textBaseline = \"top\";\n",
      "\t\t\t\t\t\t\tcontext.font = \"32px Arial\";\n",
      "\t\t\t\t\t\t\tcontext.fillText(nauseatedFace, 0, 0);\n",
      "\t\t\t\t\t\t\tsupportsEmoji = context.getImageData(16, 16, 1, 1).data[0] !== 0;\n",
      "\t\t\t\t\t\t}\n",
      "\t\t\t\t\t}\n",
      "\n",
      "\t\t\t\t\tClientStats.add(\"emoji support - platform:DESKTOP - supports:\" + supportsEmoji);\n",
      "\t\t\t\t}\n",
      "\t\t\t})();\n",
      "\t\t</script>   <img src=\"//gmtdmp.mookie1.com/tagr/v1/activity?acid=2&inst=NA&tagid=54516519&src.rand=222&trb.clientID=133&trb.activityID=6927&src.Gender=m&src.Age=33\" style=\"display:none\"/>     <script>\n",
      "\t\tAUTOCORE_SELF_CHECK = null;\n",
      "\t\tAUTOCORE_START_TIMER = new Date();\n",
      "\t</script> <script src=\"//includes.okccdn.com/flat/synced/desktop/js/vendor.min.js?v=bdd1e4330faa1de8273b7220751f0fe1\"></script> <script src=\"//includes.okccdn.com/flat/synced/desktop/js/common.min.js?v=8a3b4fb99ce9ca618e2f15bb0521b62c\"></script>  <script src=\"//includes.okccdn.com/lang/en/version/28ee203e0a/autocore.js?files=f85,j111\"></script>  <script>\n",
      "\tvar AUTOCORE_TIMER_MS = new Date() - AUTOCORE_START_TIMER;\n",
      "\n",
      "\t\n",
      "\tif (Math.floor(Math.random()*101) == 0) {\n",
      "\t\tsetTimeout(function() {\n",
      "\t\t\tjQuery.ajax(\"/autocore/timer_report\", {\n",
      "\t\t\t\tdata : {\n",
      "\t\t\t\t\tms : AUTOCORE_TIMER_MS,\n",
      "\t\t\t\t\trand : Math.random(),\n",
      "\t\t\t\t\tfile : ''\n",
      "\t\t\t\t}\n",
      "\t\t\t});\n",
      "\t\t}, 1500);\n",
      "\t}\n",
      "</script>     </head> <body id=\"p_match\" class=\"   logged_in  whitebg  okc2014 not-scrolling fullwidth lang-en other expanded spotlight\" style=\"margin: 0;\">  <div id=\"global_js_errors\"></div>     <div id=\"leaderboard_container\">  <div id=\"leaderboard_wrapper\">  <div id=\"leaderboard\" class=\"leaderboard-leader \"> <div class=\"ad-container\"> <div id='div-gpt-ad-leader-8033' class='format format--leader' null></div>  </div> </div> </div>  </div> <main id=\"page\">  <nav id=\"navigation\"> <div class=\"nav-left\"> <h1 id=\"logo\" class=\"nav-logo\"> <a href=\"/home\"> <span class=\"icon\" aria-hidden=\"true\"></span> <span class=\"text\">OkCupid</span> </a> </h1>  <ul class=\"nav-links nav-item\">   <li class=\"\"> <a href=\"/match\"> <span class=\"text\"> Browse Matches </span> </a> </li>   <li class=\"\"> <a href=\"/doubletake\"> <span class=\"text\"> DoubleTake </span> </a> </li>   <li class=\"\"> <a href=\"https://www.okcupid.com/upgrade?cf=desktopnavbar\"> <span class=\"text\"> Purchase A-List </span> </a> </li>  </ul>   </div> <div class=\"nav-right \">  <ul class=\"nav-notifications nav-item\">   <li id=\"nav_ratings\" class=\"nav-notifications-item likes nav-notifications--priority nav-notifications--attention\" > <a href=\"/who-you-like\"> <span class=\"glyph\" aria-hidden=\"true\"> <i class=\"okicon i-likes\"></i> </span> <span class=\"text\"> Likes </span>  <span id=\"nav_ratings_badge\" class=\"badge\"> <span class=\"count\"> 25 </span> </span>  </a> </li>   <li id=\"nav_mailbox\" class=\"nav-notifications-item conversations nav-notifications--priority \" > <a href=\"/messages\"> <span class=\"glyph\" aria-hidden=\"true\"> <i class=\"okicon i-messages\"></i> </span> <span class=\"text\"> Conversations </span>  </a> </li>  </ul>   <div class=\"nav-user\"> <a href=\"/profile\" class=\"nav-user-image\">  <span class=\"text\">show user menu</span> <span class=\"nav-user-image-thumb\">  <img src=\"https://k1.okccdn.com/php/load_okc_image.php/images/120x120/120x120/27x27/508x508/2/5619272999354541929.jpeg?v=1\" alt=\"9782433068778445801\" />   </span> </a> <ul class=\"nav-user-menu\">  <li class=\" profile\">  <a href=\"/profile\"  class=\"nav-user-menu-item\"> Profile  </a>  </li>  <li class=\" bookmarks\">  <a href=\"/bookmarks\"  class=\"nav-user-menu-item\"> Bookmarks  </a>  </li>  <li class=\" settings\">  <a href=\"/settings\"  class=\"nav-user-menu-item\"> Settings  </a>  </li>  <li class=\" help\">  <a href=\"/help\" target=\"_blank\" class=\"nav-user-menu-item\"> Help  </a>  </li>  <li class=\" sign-out\">  <a href=\"/logout\"  class=\"nav-user-menu-item\"> Sign Out  </a>  </li>  <li class=\"upgrade purchase-alist\">  <a href=\"https://www.okcupid.com/upgrade?cf=navbardropdown\"  class=\"nav-user-menu-item\"> Purchase A-List  </a>  </li>  </ul> </div>   <div id=\"boosts\" class=\"needingtokens\"> <div class=\"nav-boost\"> <div class=\"nav-boost-container\"> <button class=\"teal flatbutton nav-boost-open\" data-tooltip-direction=\"bottom\" > <i class=\"okicon i-boost\"></i> <span class=\"tokens count\">  Boost  </span> </button>  </div> </div> <div class=\"panel-boost\"> <div class=\"boost-container\"> <div class=\"boost-state boost-confirming\"> <div class=\"boost-timer boost-timer-starting\"> Starting&hellip; </div> <div class=\"boost-progress\"> <span class=\"bar\" width=\"100%\"></span> </div> </div> <div class=\"boost-state boost-running boost-report\"> <div class=\"boost-timer\"> <i class=\"icon i-boost\"></i> <span class=\"boost-timer-clock\"> <span class=\"mins\"></span>:<span class=\"secs\"></span> </span> <span class=\"boost-timer-bonus\"> <span class=\"tail\"></span> Bonus! </span> </div> <div class=\"boost-progress\"> <span class=\"bar\"></span> </div> </div> <div class=\"boost-state boost-running\"> <div class=\"boost-running-viewers\"> <span class=\"viewers\"></span> seeing you now! </div> <div class=\"boost-running-people\">  </div>  </div> <div class=\"boost-state boost-report\"> <div class=\"boost-report-viewers\"> <span class=\"lastpromoimpressions\"></span> people just saw you! </div> <div class=\"boost-report-actions\"> <div class=\"boost-goagain\"> <div class=\"boost-report-buttons\"> <button class=\"flatbutton teal boostagain boost-report-reactivate\"> <i class=\"icon i-boost\"></i> Go again </button> <button class=\"closereport boost-report-close\"> Maybe later </button> </div> </div> <div class=\"boost-subspromo\"> <h2 class=\"boost-subspromo-heading\"> Enjoy a popularity Boost every day. </h2> <div class=\"boost-report-buttons boost-report-buttons--promoonly\"> <button class=\"teal flatbutton boost-subspromo-open\"> Learn more </button> <button class=\"closereport boost-report-close\"> Maybe later </button> </div> <div class=\"boost-report-buttons boost-report-buttons--goagain\"> <button class=\"blue flatbutton boost-subspromo-open\"> Learn more </button> </div> </div> </div> </div> </div> </div> </div>  </div> </nav>   <div id=\"matchsearch-alist-modal\" class=\"modal aligncenter no-append noclose default_type\">  <div class=\"heading\">  <span class=\"icon\"></span> <h3>Cut to the chase</h3>  </div>     <div class=\"desc\"> <p> You know what you want, and we can help you find it. <br /> Upgrade to A-List to get access to the sexiest filters: <ul> <li>Attractiveness</li> <li>Questions</li> <li>Body type</li> <li>Personality</li> </ul> </p> </div>  <div class=\"content \">   <a href=\"https://www.okcupid.com/upgrade?feature=searchby\" class=\"flatbutton blue upgrade\"> Learn more </a> <br /> <button class=\"no-thanks\"> No thanks </button>   </div>  <div class=\"drag_area\"> <div class=\"top\"></div> <div class=\"left\"></div> <div class=\"right\"></div> <div class=\"bottom\"></div> </div> <a class=\"close\" href=\"javascript:void(0)\" onclick=\"Modal.close('matchsearch-alist-modal')\"> <span class=\"icon i-close\"></span> </a>  </div>   <div class=\"page-featured\"> <div id=\"match-filters-wrapper\"></div> </div>  <div id=\"main_content\" class=\"page-section\">     <div class=\"monolith\">  <script>\n",
      "setTimeout(function() {\n",
      "\tif (document.getElementById(\"match-filters\")) {\n",
      "\t\treturn;\n",
      "\t}\n",
      "\n",
      "\tOkC.post(\"/okc/updatestats\", {\n",
      "\t\tapi: 1,\n",
      "\t\tdata: {\n",
      "\t\t\tname: \"match search failed to load\",\n",
      "\t\t\tvalue: 1,\n",
      "\t\t\ttype: \"counter\",\n",
      "\t\t\thash: \"mxmxbVHh241WvcetlPbpdHBme74=\"\n",
      "\t\t}\n",
      "\t});\n",
      "\n",
      "}, 5000);\n",
      "</script> <div id=\"match-results-wrapper\"> <div id=\"match_results\" class=\"page-section match-results match-results-loading\"> <div class=\"match-results-cards\">  <div class=\"match-results-card\"> <div class=\"usercard-placeholder\"> <div class=\"usercard-placeholder-thumb\"></div> <div class=\"usercard-placeholder-info\"> <div class=\"usercard-placeholder-info-username\"></div> <div class=\"usercard-placeholder-info-meta\"></div> </div> <div class=\"usercard-placeholder-match-info\"> <div class=\"usercard-placeholder-match-info-percentage\"></div> </div> </div> </div>  <div class=\"match-results-card\"> <div class=\"usercard-placeholder\"> <div class=\"usercard-placeholder-thumb\"></div> <div class=\"usercard-placeholder-info\"> <div class=\"usercard-placeholder-info-username\"></div> <div class=\"usercard-placeholder-info-meta\"></div> </div> <div class=\"usercard-placeholder-match-info\"> <div class=\"usercard-placeholder-match-info-percentage\"></div> </div> </div> </div>  <div class=\"match-results-card\"> <div class=\"usercard-placeholder\"> <div class=\"usercard-placeholder-thumb\"></div> <div class=\"usercard-placeholder-info\"> <div class=\"usercard-placeholder-info-username\"></div> <div class=\"usercard-placeholder-info-meta\"></div> </div> <div class=\"usercard-placeholder-match-info\"> <div class=\"usercard-placeholder-match-info-percentage\"></div> </div> </div> </div>  <div class=\"match-results-card\"> <div class=\"usercard-placeholder\"> <div class=\"usercard-placeholder-thumb\"></div> <div class=\"usercard-placeholder-info\"> <div class=\"usercard-placeholder-info-username\"></div> <div class=\"usercard-placeholder-info-meta\"></div> </div> <div class=\"usercard-placeholder-match-info\"> <div class=\"usercard-placeholder-match-info-percentage\"></div> </div> </div> </div>  <div class=\"match-results-card\"> <div class=\"usercard-placeholder\"> <div class=\"usercard-placeholder-thumb\"></div> <div class=\"usercard-placeholder-info\"> <div class=\"usercard-placeholder-info-username\"></div> <div class=\"usercard-placeholder-info-meta\"></div> </div> <div class=\"usercard-placeholder-match-info\"> <div class=\"usercard-placeholder-match-info-percentage\"></div> </div> </div> </div>  <div class=\"match-results-card\"> <div class=\"usercard-placeholder\"> <div class=\"usercard-placeholder-thumb\"></div> <div class=\"usercard-placeholder-info\"> <div class=\"usercard-placeholder-info-username\"></div> <div class=\"usercard-placeholder-info-meta\"></div> </div> <div class=\"usercard-placeholder-match-info\"> <div class=\"usercard-placeholder-match-info-percentage\"></div> </div> </div> </div>  <div class=\"match-results-card\"> <div class=\"usercard-placeholder\"> <div class=\"usercard-placeholder-thumb\"></div> <div class=\"usercard-placeholder-info\"> <div class=\"usercard-placeholder-info-username\"></div> <div class=\"usercard-placeholder-info-meta\"></div> </div> <div class=\"usercard-placeholder-match-info\"> <div class=\"usercard-placeholder-match-info-percentage\"></div> </div> </div> </div>  <div class=\"match-results-card\"> <div class=\"usercard-placeholder\"> <div class=\"usercard-placeholder-thumb\"></div> <div class=\"usercard-placeholder-info\"> <div class=\"usercard-placeholder-info-username\"></div> <div class=\"usercard-placeholder-info-meta\"></div> </div> <div class=\"usercard-placeholder-match-info\"> <div class=\"usercard-placeholder-match-info-percentage\"></div> </div> </div> </div>  </div> </div> </div>  </div>  </div>  <div id=\"footer-cta-container\"> <div class=\"footer-cta\"> <div class=\"phone-cartoon\"></div> <div class=\"app-copy\"> <h4 class=\"download-it\">Download the OkCupid app</h4> <p class=\"discover-people\">Discover people on the go (or when you're too lazy to get your laptop out).</p> </div> <div class=\"app-links\"> <a href=\"https://play.google.com/store/apps/details?id=com.okcupid.okcupid&referrer=utm_source%3Dfooter_cta%26utm_medium%3Dweb\" class=\"google store\">google play</a> <a href=\"https://itunes.apple.com/app/apple-store/id338701294?pt=296162&ct=footer_cta&mt=8\" class=\"apple store\">app store</a> </div> </div> </div> <footer class=\"page-section\">  <div id=\"footer\" class=\"container_16 callout footer clearfix\"> <div class=\"footer-social\"> <a class=\"footer-social-circle facebook\" target=\"_blank\" href=\"https://facebook.com/okcupid\"> <i class=\"okicon i-facebook\"></i> </a> <a class=\"footer-social-circle twitter\" target=\"_blank\" href=\"https://twitter.com/okcupid\"> <i class=\"okicon i-twitter\"></i> </a> <a class=\"footer-social-circle instagram\" target=\"_blank\" href=\"https://instagram.com/okcupid\"> <i class=\"okicon i-instagram\"></i> </a> </div> <ul id=\"footer_nav\" class=\"footer-nav\">  <li class=\"footer-nav-link\"> <a href=\"/mobile\" target=\"_blank\"> Apps </a> </li>  <li class=\"footer-nav-link\"> <a href=\"/press\" target=\"_blank\"> Press </a> </li>  <li class=\"footer-nav-link\"> <a href=\"/legal/privacy#third-parties\" target=\"_blank\"> Ad Choices </a> </li>  <li class=\"footer-nav-link\"> <a href=\"/about\" target=\"_blank\"> About </a> </li>  <li class=\"footer-nav-link\"> <a href=\"/careers\" target=\"_blank\"> Careers </a> </li>  <li class=\"footer-nav-link\"> <a href=\"/support\" target=\"_blank\"> Support </a> </li>  <li class=\"footer-nav-link\"> <a href=\"https://theblog.okcupid.com\" target=\"_blank\"> Blog </a> </li>  <li class=\"footer-nav-link\"> <a href=\"https://tech.okcupid.com\" target=\"_blank\"> Tech Blog </a> </li>  <li class=\"footer-nav-link\"> <a href=\"https://goo.gl/forms/5JtI49tC2Wftx12d2\" target=\"_blank\"> Submit a Success Story </a> </li>  <li class=\"footer-nav-link\"> <a href=\"/legal/privacy\" target=\"_blank\"> Privacy Policy </a> </li>  <li class=\"footer-nav-link\"> <a href=\"/legal/cookies\" target=\"_blank\"> Cookie Policy </a> </li>  <li class=\"footer-nav-link\"> <a href=\"/legal/terms\" target=\"_blank\"> Terms and Conditions </a> </li>  <li class=\"footer-nav-link\"> <a href=\"/legal/safety-tips\" target=\"_blank\"> Dating Safety Tips </a> </li>  </ul> <div class=\"footer-copyright\"> &copy; OkCupid 2018 </div> </div>  </footer> </main>   <div id=\"im_footer\" class=\"clearfix needingtokens haspane\"> <div id=\"event_display_container\"> <div id=\"event_display\" onMouseOver=\"EventUiManager.mouseover();\" onMouseOut=\"EventUiManager.mouseout();\"> <div id=\"boost_activity_toggler\"> <a href=\"#\"> <span class=\"icon i-boost\"></span> <span class=\"text_boost\">Boost</span> <span class=\"text_autoboost\">Auto-Boost</span> activity <span class=\"action icon i-minimize\"></span> <span class=\"action icon i-maximize\"></span> <span class=\"close\"> <span class=\"okicon i-close\"></span> </span> </a> </div> <div id=\"event_display_body\">   </div> </div> </div>  <div id=\"global_messaging_container\" class=\"hidden\"></div> </div>  <div id=\"okphotos_overlay\">  <div class=\"content\"> <div id=\"okphotos_action_area\"> <div id=\"okphotos_upload\" class=\"action\"> <div class=\"action_content\"> <h3 class=\"title\">Where’s your photo?</h3> <div id=\"service_picker\"> <div class=\"picker_wrapper\"> <div class=\"services\"> <a id=\"service_facebook\" class=\"service\" href=\"javascript:void(0)\"> <i class=\"icon i-facebook-inverted\"></i> <div class=\"label\">Facebook</div> </a> <form id=\"okphotos_upload_form\" action=\"/ajaxuploader\" method=\"POST\"> <label id=\"service_computer\" class=\"service\" for=\"okphotos_file_input\"> <i class=\"icon i-pc\"></i> <div class=\"label\"> <span class=\"pc_only\">My PC</span> <span class=\"mac_only\">My Mac</span> </div> </label> <input type=\"file\" value=\"Upload\" id=\"okphotos_file_input\" name=\"file\" accept=\"image/*\"/> <input type=\"hidden\" name=\"userid\" value=\"9782433068778445801\" /> <input type=\"hidden\" name=\"simple_ajax\" value=\"1\" /> </form> <a id=\"service_instagram\" class=\"service\" href=\"javascript:void(0)\"> <i class=\"icon i-instagram\"></i> <div class=\"label\">Instagram</div> </a> </div> <div id=\"iframe_container\"></div> </div> <p class=\"dragndrop_message\"> Drop it like it’s hot </p> <div id=\"okphotos_dragndrop\"></div> </div> <div id=\"okphotos_rules\" class=\"user_tips\"> <span class=\"rules-profile-photos\"> Photos need to be larger than 400 x 400px and you need to be in the photo. Also, no naughty bits! </span> <span class=\"rules-more-photos\"> Photos need to be larger than 400 x 400px<br /> and must be of you or taken by you. Also, no naughty bits! </span> </div> </div> </div> <div id=\"okphotos_photo_tiles\" class=\"action\"> <div id=\"photo_tiles_header\" class=\"action_header\"> <div class=\"title\" href=\"javascript:void(0)\"></div> <a class=\"subtitle\" href=\"javascript:void(0)\"></a> </div> <div class=\"action_content has_header has_footer\"> <div id=\"photo_tile_holder\" class=\"tile_holder\"> </div> <div id=\"photo_subtile_holder\" class=\"tile_holder\"> </div> <div id=\"photo_tiles_loader\"> <div class=\"icon\"></div> </div> </div> <div class=\"action_footer\"> <button id=\"photo_tiles_done\" class=\"flatbutton green disabled\">Next</button> </div> </div> <div id=\"okphotos_edit\" class=\"action\"> <div class=\"action_header\"> <div class=\"crop_header\"> <div class=\"title\">Edit thumbnail</div> </div> <div class=\"caption_header\"> <div class=\"title\">Add a caption</div> </div> </div> <div class=\"action_content has_header has_footer\"> <div id=\"okphotos_edit_wrapper\"> <img id=\"okphotos_photo\"/> </div> </div> <div id=\"okphotos_edit_actions\" class=\"action_footer okform\"> <textarea id=\"photo_caption\" placeholder=\"Say something about your photo (optional)\" maxlength=\"100\"></textarea> <a id=\"okphotos_edit_next\" class=\"flatbutton green\">Done</a> </div> </div> <div id=\"okphotos_finished\" class=\"action\"> <div class=\"content\"> <div class=\"action_content\"> <div class=\"reassurance\">You look great!</div> <img id=\"okphotos_cropped_photo\"/> <button id=\"upload_another\" class=\"flatbutton blue\"> Add more </button> <a href=\"javascript:;\" id=\"done_uploading\"> I’m Done </a> </div> </div> </div> <div id=\"okphotos_error\" class=\"action\"> <div class=\"action_content\"> <div class=\"content\"> <div class=\"container\"> <div class=\"error_icon\"> <i class=\"icon i-alert\"></i> </div> <div class=\"message\"></div> <button class=\"flatbutton white\">Try again</button> </div> </div> </div> </div> <a id=\"okphotos_action_close\" href=\"javascript:void(0)\"> <i class=\"icon i-close\"></i> </a> </div> </div>   </div>  <div id=\"rush_hour_modal\" class=\"modal aligncenter noclose default_type\">  <div class=\"heading\">  <h3>It’s rush hour!</h3>  </div>     <div class=\"desc\"> <p>We’re experiencing peak site traffic. <br/> Boost now and be seen by more matches.</p> </div>  <div class=\"content \">   <button id=\"rush_hour_promote\" class=\"flatbutton blue\"> <span class=\"icon i-boost\"></span> Promote me </button> <a href=\"javascript:void(0)\" id=\"rush_hour_dismiss\"> No thanks </a>   </div>  <div class=\"drag_area\"> <div class=\"top\"></div> <div class=\"left\"></div> <div class=\"right\"></div> <div class=\"bottom\"></div> </div> <a class=\"close\" href=\"javascript:void(0)\" onclick=\"Modal.close('rush_hour_modal')\"> <span class=\"icon i-close\"></span> </a>  </div>   <div id=\"boost_purchase_modal\" class=\"modal fixed aligncenter cornerclose default_type no_close\">     <div class=\"content \">   <div class=\"boostcontent version2\"> <div class=\"boosticon\"></div>   <div class=\"selectboosts-item--carousel\"> <div class=\"selectboosts-item--slides selectboosts-item--slides-2 selectboosts-item--active-slide-0\">   <div class=\"active selectboosts-item--slide0 selectboosts-item--slide\"> <h2>Step into the spotlight!</h2>  <p>When you Boost we show you to more people, faster. You’ll get a full day of activity in 15 minutes.</p>  </div>  <div class=\"selectboosts-item--slide1 selectboosts-item--slide\"> <h2>Skip to the front of the line</h2>  <p>You’ll be seen first in DoubleTake and shown more in match results on the OkCupid site and app!</p>  </div>   </div> <div class=\"selectboosts-item--slide-controller\">   <button class=\"selectboosts-item--slide-controller-button active\" data-slide-index=\"0\"> <span class=\"reader-text\"> slide 1 </span> </button>   <button class=\"selectboosts-item--slide-controller-button\" data-slide-index=\"1\"> <span class=\"reader-text\"> slide 2 </span> </button>  </div> </div>   </div> <div class=\"selectboosts\"> <form id=\"select_boost_package\" class=\"okform boost-select-form\"> <ul id=\"boostpackages\" class=\"boost-select-packages boost-select-list\"> <li> <input type=\"radio\" id=\"pkg3\" value=\"pkg3\" name=\"boostpkgs\" checked=\"checked\" /> <label class=\"radio\" for=\"pkg3\"> <strong>10 boosts</strong> for US&nbsp;$1.69 each </label> </li> <li> <input type=\"radio\" id=\"pkg2\" value=\"pkg2\" name=\"boostpkgs\" /> <label class=\"radio\" for=\"pkg2\"> <strong>5 boosts</strong> for US&nbsp;$1.89 each </label> </li> <li> <input type=\"radio\" id=\"pkg1\" value=\"pkg1\" name=\"boostpkgs\" /> <label class=\"radio\" for=\"pkg1\"> <strong>1 boost</strong> for US&nbsp;$1.99 each </label> </li> </ul>  <button class=\"boost-buy blue flatbutton big\">Boost now</button> <a href=\"javascript:;\" class=\"boost-cancel\">No thanks</a> </form> </div>   </div>  <div class=\"drag_area\"> <div class=\"top\"></div> <div class=\"left\"></div> <div class=\"right\"></div> <div class=\"bottom\"></div> </div> <a class=\"close\" href=\"javascript:void(0)\" onclick=\"Modal.close('boost_purchase_modal')\"> <span class=\"icon i-close\"></span> </a>  </div>    <div id=\"block_modal\" class=\"modal alignleft noclose default_type\">    <div class=\"title_container\"> <h2 class=\"title\">Block this person</h2> </div>   <div class=\"desc\"> <p> Is <span id=\"block_modal_username\">this person</span> bothering you? Blocking hides you from them and prevents further messages from being exchanged. <br><br> If you're being harassed by this person, please report them. <span class=\"modal_error hidden\"> Something went wrong. Please refresh and try again. </span> </p> </div>  <div class=\"content empty\">  </div>  <div class=\"drag_area\"> <div class=\"top\"></div> <div class=\"left\"></div> <div class=\"right\"></div> <div class=\"bottom\"></div> </div> <a class=\"close\" href=\"javascript:void(0)\" onclick=\"Modal.close('block_modal')\"> <span class=\"icon i-close\"></span> </a>  <div class=\"buttons\"> <ul>  <li> <button class=\"flatbutton red confirm\">\n",
      "\t\t\t\tBlock\n",
      "\t\t\t</button> </li>  <li> <button class=\"flatbutton silver cancel\">\n",
      "\t\t\t\tCancel\n",
      "\t\t\t</button> </li>  </ul> </div>  </div>      <div class=\"quickview\"> <div class=\"inner\"> <div class=\"quickview-top\"> <div class=\"quickview-top-photo\"> <a><img class=\"active\" src=\"\"></a> <div class=\"quickview-top-photo-online\"></div> </div> <a class=\"quickview-top-username\"></a> <div class=\"quickview-top-demo\"> <div class=\"quickview-top-demo-age\"></div> <div class=\"quickview-top-demo-location\"></div> </div> <div class=\"quickview-top-percentage\"></div> </div> <div class=\"quickview-bottom\"> </div>  </div> <div class=\"quickview-arrow\"></div> </div>   <div id=\"authtoken_refresh_notice\" class=\"modal fixed aligncenter noclose default_type\">    <div class=\"title_container\"> <h2 class=\"title\">Your session has expired</h2> </div>   <div class=\"content \">   <p> Still there? </p> <style> #authtoken_refresh_notice { width: 340px; } #authtoken_refresh_notice .buttons { margin-top: 30px; margin-bottom: 10px; } #authtoken_refresh_notice .flatbutton.blue { width: 160px; } </style>   </div>  <div class=\"drag_area\"> <div class=\"top\"></div> <div class=\"left\"></div> <div class=\"right\"></div> <div class=\"bottom\"></div> </div> <a class=\"close\" href=\"javascript:void(0)\" onclick=\"Modal.close('authtoken_refresh_notice')\"> <span class=\"icon i-close\"></span> </a>  <div class=\"buttons\"> <ul>  <li> <button class=\"big flatbutton blue\" onclick=\"Modal.close()\">Resume dating</button> </li>  </ul> </div>  </div>   <div id=\"OkModal\" class=\"OkModal\"></div> <div id=\"windowshade\" class=\"windowshade-okpay\"> <div id=\"okpay-wrapper\"></div> </div>  <script src=\"//includes.okccdn.com/flat/synced/desktop/js/ads.min.js?v=deb37f70e76ad6c41e4a1dd4ab20a668\" async></script><script src=\"//includes.okccdn.com/flat/synced/desktop/js/matchsearch.min.js?v=45e2f6a481cf519e9c5ebd2e815782de\" async></script><script src=\"//includes.okccdn.com/flat/synced/desktop/js/experimentalfeatures.min.js?v=b314f8a476500256d1a6830ca1a69603\" async></script> <script>\n",
      "\t\n",
      "\t\ttry {\n",
      "\t\t\tif (localStorage.getItem(\"facebook_ad_visitor\") &&\n",
      "\t\t\t\ttypeof AjaxSookie !== \"undefined\") {\n",
      "\t\t\t\tAjaxSookie.set(\"paid_acq_user\", true, 86400*365*5, \"69b1a3ef0e45f92b4b91b8f8d093fed20faefb0c\");\n",
      "\t\t\t}\n",
      "\t\t} catch (e) {\n",
      "\n",
      "\t\t}\n",
      "\t\n",
      "\tif (typeof(emojione) !== \"undefined\") {\n",
      "\t\temojione.imagePathPNG = ImagePath.cdn + 'media/img/emojis/emojione/';\n",
      "\t}\n",
      "\tif (typeof(QuickTooltip) !== \"undefined\") {\n",
      "\t\tQuickTooltip.init();\n",
      "\t}\n",
      "\tif (typeof(Modal) !== \"undefined\") {\n",
      "\t\tModal.init();\n",
      "\t}\n",
      "\n",
      "\tOkCanary();\n",
      " \r\n",
      "\t\t\tvar spotlight_controller = new Product({\"hasbilling\" : false, \"product_fields\" : {\"source\" : \"https://www.okcupid.com/match?filter1%3d0%2c48%26filter2%3d2%2c100%2c18%26filter3%3d5%2c26%2520%2520%2520%2520%2520%2520%2520%252078400%26filter4%3d1%2c1%26locid%3d0%26timekey%3d1%26matchOrderBy%3dSPECIAL_BLEND%26custom_search%3d0%26%2520%2520%2520%2520%2520%2520%2520%2520fromWhoOnline%3d0%26mygender%3dm%26update_prefs%3d1%26sort_type%3d0%26sa%3d1%26using_saved_search%3d%26count%3d30\", \"product\" : \"spotlight\", \"cf\" : \"\", \"prefix\" : \"https://www.okcupid.com\"}, \"productid\" : \"spotlight\", \"secure_prefix\" : \"https://www.okcupid.com\"});\r\n",
      "\t\t\t\r\n",
      "\t\t\t\r\n",
      "\t\t\t\r\n",
      "\t\t\t\r\n",
      "\t\t\t\tspotlight_controller.successaction = \n",
      "\t\t\t\t\tfunction(response) {\n",
      "\t\t\t\t\t\tif (typeof(BoostController) != 'undefined') {\n",
      "\t\t\t\t\t\t\tBoostController.validatePurchase(response);\n",
      "\t\t\t\t\t\t} else {\n",
      "\t\t\t\t\t\t\twindow.location.reload();\n",
      "\t\t\t\t\t\t}\n",
      "\t\t\t\t\t}\n",
      "\t\t\t\t;\r\n",
      "\t\t\t\r\n",
      "\t\t \n",
      " \n",
      "\t\tif (isOkC()) {\n",
      "\t\t\tvar mParticleIsLoaded = false;\n",
      "\t\t\tvar mParticlsIsChangingSession = false;\n",
      "\n",
      "\t\t\tmParticle.ready(function() {\n",
      "\t\t\t\tmParticleIsLoaded = true;\n",
      "\n",
      "\t\t\t\t\n",
      "\t\t\t\t\t\tif (OkAnalytics && OkAnalytics.logInIfNeeded) {\n",
      "\t\t\t\t\t\t\tOkAnalytics.logInIfNeeded(\"9782433068778445801\");\n",
      "\t\t\t\t\t\t}\n",
      "\t\t\t\t\t\n",
      "\n",
      "\t\t\t\t/**/\n",
      "\t\t\t\tvar url = window.location.hostname + window.location.pathname;\n",
      "\n",
      "\t\t\t\tif (window.location.search) {\n",
      "\t\t\t\t\turl += window.location.search;\n",
      "\t\t\t\t}\n",
      "\n",
      "\t\t\t\tvar pageviewData = { url: url };\n",
      "\n",
      "\t\t\t\tif (url.indexOf(\"profile\") >= 0 && Context && Context.get(\"username\")) {\n",
      "\t\t\t\t\tif (url.indexOf(Context.get(\"username\")) >= 0) {\n",
      "\t\t\t\t\t\tpageviewData.source = \"self view\";\n",
      "\t\t\t\t\t} else {\n",
      "\t\t\t\t\t\tpageviewData.source = \"public view\";\n",
      "\t\t\t\t\t}\n",
      "\t\t\t\t}\n",
      "\n",
      "\t\t\t\tmParticle.logPageView(\"pageview\", pageviewData);\n",
      "\n",
      "\t\t\t\tif (!url) {\n",
      "\t\t\t\t\twindow.onerror(\"bad url when window location is \" + JSON.stringify(window.location || {}), \"mparticle_tracking.html\", 666);\n",
      "\t\t\t\t}\n",
      "\t\t\t});\n",
      "\t\t}\n",
      "\t \n",
      " \n",
      "\t\t\tif (isOkC()) {\n",
      "\t\t\t\tmParticle.ready(function() {\n",
      "\t\t\t\t\tif (typeof OkAnalytics !== \"undefined\") {\n",
      "\t\t\t\t\t\tOkAnalytics.loadUserProperties(\"9782433068778445801\", {\"desired relationship\" : [\"open to non-monogamy\"]});\n",
      "\t\t\t\t\t}\n",
      "\t\t\t\t});\n",
      "\t\t\t}\n",
      "\t\t \n",
      " \r\n",
      "\t\t\tHeaderBar.init({});\r\n",
      "\t\t \n",
      " \r\n",
      "\t\t\t// delay 10ms so we ignore the first few instant events\r\n",
      "\t\t\tsetTimeout(function() {\r\n",
      "\t\t\t\tNavigation.init({\"mailbox\" : {\"count\" : 0, \"text\" : \"Conversations\"}, \"ratings\" : {\"count\" : 25, \"text\" : \"Likes\", \"attention\" : true}});\r\n",
      "\t\t\t}, 10);\r\n",
      "\t\t \n",
      " \r\n",
      "\t\t\tBoostController.init({\"now\" : 1542888581091, \"thumb_params\" : {\"maxrows\" : 8, \"maxcols\" : 5}, \"boostSubsPromoOnly\" : true, \"isrushhour\" : true, \"default_spotlight_duration\" : 900, \"tokens\" : 0, \"check_time\" : 450, \"default_time\" : 900, \"time_to_check_for_extension\" : 450});\r\n",
      "\t\t \n",
      "Modal.init();\n",
      " \n",
      "\t\t\t\tif (typeof(DetectTimezone) != 'undefined') {\n",
      "\t\t\t\t\tDetectTimezone.initialize({\"offset\" : 480});\n",
      "\t\t\t\t}\n",
      "\t\t\t \n",
      " \n",
      "\t\t\t\tif (typeof(DetectTimezone) != 'undefined') {\n",
      "\t\t\t\t\tDetectTimezone.initialize({\"offset\" : 480});\n",
      "\t\t\t\t}\n",
      "\t\t\t \n",
      " \n",
      "\t\t\tif (typeof GlobalMessaging !== \"undefined\" && GlobalMessaging !== null) {\n",
      "\t\t\t\tGlobalMessaging.init({\n",
      "\t\t\t\t\tinitialData: \"{}\",\n",
      "\t\t\t\t\topenWindows: {\"enter_to_send\" : false, \"states\" : {}, \"order\" : [], \"allow_overflow_notification\" : true},\n",
      "\t\t\t\t\tmobileMode: false,\n",
      "\t\t\t\t\tmaxOverflow: 20\n",
      "\t\t\t\t});\n",
      "\n",
      "\t\t\t\t\n",
      "\t\t\t}\n",
      "\t\t \n",
      " \n",
      "\t\t\t\t\t\tsetTimeout(function() {\n",
      "\t\t\t\t\t\t\tInstantEvents.invoke('im_footer', { off: true });\n",
      "\t\t\t\t\t\t}, 100);\n",
      "\t\t\t\t\t \n",
      " \n",
      "\t\tif (typeof(OkPhotos) != \"undefined\") {\n",
      "\t\t\tOkPhotos.initialize({\n",
      "\t\t\t\tuserid: '9782433068778445801',\n",
      "\t\t\t\tauthcode: '1,0,1542974981,0x87c22f0be792dbe9;ceeca394f9680b12408bbd8ac3d76c67c03a6921'\n",
      "\t\t\t});\n",
      "\t\t\tOkPhotos.setPhotoCount(1);\n",
      "\n",
      "\t\t\t\n",
      "\t\t}\n",
      "\t \n",
      " \n",
      "\t\t\tif (typeof ReportMessage !== \"undefined\" && ReportMessage !== null) {\n",
      "\t\t\t  ReportMessage.init();\n",
      "\t\t\t}\n",
      "\t\t \n",
      " \n",
      "\t\tProfileQuickview.init({\"theirscreenname\" : null, \"interestsType\" : false, \"screenname\" : \"9782433068778445801\"});\n",
      "\t \n",
      "\r\n",
      "\t\t\t\t\tif (typeof(DeferredJS) !== 'undefined') {\r\n",
      "\t\t\t\t\t\tDeferredJS.addBundles(\r\n",
      "\t\t\t\t\t\t\t[{\"hierarchy\" : [\"MatchSearch\", \"init\"], \"params\" : [{\"metric\" : false, \"sortOptions\" : [{\"value\" : \"SPECIAL_BLEND\", \"name\" : \"Special Blend\"}, {\"name\" : \"Match %\", \"value\" : \"MATCH\"}, {\"value\" : \"MATCH_AND_DISTANCE\", \"name\" : \"Distance\"}, {\"value\" : \"LOGIN\", \"name\" : \"Last online\"}], \"filters\" : {\"interest_ids\" : [], \"answers_or\" : [], \"last_login\" : 26, \"speaks_my_language\" : false, \"maximum_age\" : 99, \"locid\" : 0, \"questions\" : [], \"location\" : null, \"gentation\" : 48, \"answers\" : [], \"interest_ids_or\" : [], \"personality_filters\" : {}, \"questions_or\" : [], \"located_anywhere\" : 1, \"order_by\" : \"SPECIAL_BLEND\", \"minimum_age\" : 18}, \"lang\" : \"en\", \"isLoggedIn\" : true, \"isExpanded\" : false, \"questionInfo\" : {}, \"interestSearch\" : false, \"interestInfo\" : {}}]}, {\"hierarchy\" : [\"MatchResults\", \"init\"], \"params\" : [{\"total_matches\" : 1, \"paging\" : {\"cursors\" : {\"before\" : \"MTc2NTgzMjI3MzMwODg0NTUxNTQsMCwyMA==\", \"current\" : \"MTc2NTgzMjI3MzMwODg0NTUxNTQsMCwyMA==\", \"after\" : \"MTc2NTgzMjI3MzMwODg0NTUxNTQsMjAsMjA=\"}, \"end\" : true}, \"extras\" : {\"matchFiltersUserGuide\" : {\"cta\" : \"Got it\", \"guide\" : \"APP_MATCH_OPTIONS\", \"text\" : \"Save yourself some serious time. Filter by age, distance and more.\", \"title\" : \"Add search filters\"}, \"blank\" : {\"subtitle\" : \"The best searches are often less restrictive. Give it another shot!\", \"title\" : \"Try fewer options\", \"buttons\" : [{\"rel\" : \"/match?settings=1\", \"text\" : \"Edit Filters\"}]}, \"promos\" : {\"promoOffset\" : 6, \"data\" : [{\"target\" : \"modal\", \"type\" : \"onboarding\", \"source\" : \"search\", \"name\" : \"onboarding_xuf\", \"title\" : \"Discover even more compatible matches in 15 seconds.\", \"cta\" : \"Play now\", \"rel\" : \"/onboarding_xuf\"}, {\"desc\" : \"Filter matches by attractiveness and body type.\", \"type\" : \"upsell\", \"source\" : \"search\", \"layoutInfo\" : {\"layout\" : \"titleSubtitleImageHorizontal\"}, \"mark\" : \"illustrations-search\", \"name\" : \"alist.filtermatches\", \"upsellType\" : \"AList\", \"upsell\" : \"searchby\", \"title\" : \"Get more with A-List\", \"cta\" : \"Learn more\", \"color\" : \"#FF597E\", \"cf\" : \"filtermatches\"}, {\"desc\" : \"Get an entire day\\u2019s worth of activity in just 15 minutes.\", \"type\" : \"upsell\", \"source\" : \"search\", \"mark\" : \"illustrations-boost\", \"name\" : \"spotlight.colorful\", \"upsellType\" : \"Boost Token\", \"cta\" : \"Learn more\", \"title\" : \"It\\u2019s rush hour!\", \"color\" : \"#4FC5D0\", \"rel\" : \"/spotlight\"}], \"promoEvery\" : 54}}, \"numOnline\" : 57159, \"isLoggedIn\" : true, \"understandsHiding\" : false, \"atEnd\" : true, \"data\" : [{\"online\" : true, \"userinfo\" : {\"realname\" : \"Harlan\", \"gender_letter\" : \"M\", \"gender\" : \"Man\", \"age\" : 26, \"rel_status\" : \"Single\", \"location\" : \"Berlin, Germany\", \"orientation\" : \"Bisexual\", \"displayname\" : \"Harlan\"}, \"last_login\" : 1542888564, \"likes\" : {\"mutual_like_vote\" : 0, \"recycled\" : 0, \"passed_on\" : 0, \"they_like\" : null, \"you_like\" : null, \"via_spotlight\" : null, \"mutual_like\" : 0}, \"percentages\" : {\"match\" : 40, \"enemy\" : 0}, \"inactive\" : false, \"userid\" : \"16403472158589901979\", \"username\" : \"hrothcat\", \"staff\" : false, \"thumbs\" : [{\"225x225\" : \"https://k3.okccdn.com/php/load_okc_image.php/images/225x225/225x225/0x159/942x1101/2/14649323401465990503.jpeg?v=1\", \"100x100\" : \"https://k3.okccdn.com/php/load_okc_image.php/images/100x100/100x100/0x159/942x1101/2/14649323401465990503.jpeg?v=1\", \"400x400\" : \"https://k3.okccdn.com/php/load_okc_image.php/images/400x400/400x400/0x159/942x1101/2/14649323401465990503.jpeg?v=1\", \"60x60\" : \"https://k3.okccdn.com/php/load_okc_image.php/images/60x60/60x60/0x159/942x1101/2/14649323401465990503.jpeg?v=1\", \"82x82\" : \"https://k3.okccdn.com/php/load_okc_image.php/images/82x82/82x82/0x159/942x1101/2/14649323401465990503.jpeg?v=1\", \"383x230\" : \"https://k3.okccdn.com/php/load_okc_image.php/images/383x230/383x230/0x159/942x1101/2/14649323401465990503.jpeg?v=1\", \"info\" : {\"path\" : \"0x159/942x1101/0/14649323401465990503.jpeg\", \"when_taken\" : 0, \"type\" : 0, \"lower_right_x\" : 942, \"lower_right_y\" : 1101, \"ordinal\" : 0, \"caption\" : \"\", \"width\" : 960, \"height\" : 1280, \"has_photos\" : true, \"when_uploaded\" : 1531499458, \"upper_left_x\" : 0, \"upper_left_y\" : 159, \"thumbnail\" : \"0x159/942x1101/2/14649323401465990503.jpeg\", \"picid\" : \"14649323401465990503\"}, \"800x800\" : \"https://k3.okccdn.com/php/load_okc_image.php/images/800x800/800x800/0x159/942x1101/2/14649323401465990503.jpeg?v=1\", \"160x160\" : \"https://k3.okccdn.com/php/load_okc_image.php/images/160x160/160x160/0x159/942x1101/2/14649323401465990503.jpeg?v=1\", \"120x120\" : \"https://k3.okccdn.com/php/load_okc_image.php/images/120x120/120x120/0x159/942x1101/2/14649323401465990503.jpeg?v=1\"}, {\"225x225\" : \"https://k1.okccdn.com/php/load_okc_image.php/images/225x225/225x225/0x97/600x697/2/18417448278306062965.jpeg?v=1\", \"100x100\" : \"https://k1.okccdn.com/php/load_okc_image.php/images/100x100/100x100/0x97/600x697/2/18417448278306062965.jpeg?v=1\", \"400x400\" : \"https://k1.okccdn.com/php/load_okc_image.php/images/400x400/400x400/0x97/600x697/2/18417448278306062965.jpeg?v=1\", \"60x60\" : \"https://k1.okccdn.com/php/load_okc_image.php/images/60x60/60x60/0x97/600x697/2/18417448278306062965.jpeg?v=1\", \"82x82\" : \"https://k1.okccdn.com/php/load_okc_image.php/images/82x82/82x82/0x97/600x697/2/18417448278306062965.jpeg?v=1\", \"383x230\" : \"https://k1.okccdn.com/php/load_okc_image.php/images/383x230/383x230/0x97/600x697/2/18417448278306062965.jpeg?v=1\", \"info\" : {\"path\" : \"0x97/600x697/0/18417448278306062965.jpeg\", \"when_taken\" : 0, \"type\" : 0, \"lower_right_x\" : 600, \"lower_right_y\" : 697, \"ordinal\" : 1, \"caption\" : \"\", \"width\" : 600, \"height\" : 800, \"has_photos\" : true, \"when_uploaded\" : 1531499526, \"upper_left_x\" : 0, \"upper_left_y\" : 97, \"thumbnail\" : \"0x97/600x697/2/18417448278306062965.jpeg\", \"picid\" : \"18417448278306062965\"}, \"800x800\" : \"https://k1.okccdn.com/php/load_okc_image.php/images/800x800/800x800/0x97/600x697/2/18417448278306062965.jpeg?v=1\", \"160x160\" : \"https://k1.okccdn.com/php/load_okc_image.php/images/160x160/160x160/0x97/600x697/2/18417448278306062965.jpeg?v=1\", \"120x120\" : \"https://k1.okccdn.com/php/load_okc_image.php/images/120x120/120x120/0x97/600x697/2/18417448278306062965.jpeg?v=1\"}, {\"225x225\" : \"https://k3.okccdn.com/php/load_okc_image.php/images/225x225/225x225/304x149/942x787/2/14090421717711255150.jpeg?v=1\", \"100x100\" : \"https://k3.okccdn.com/php/load_okc_image.php/images/100x100/100x100/304x149/942x787/2/14090421717711255150.jpeg?v=1\", \"400x400\" : \"https://k3.okccdn.com/php/load_okc_image.php/images/400x400/400x400/304x149/942x787/2/14090421717711255150.jpeg?v=1\", \"60x60\" : \"https://k3.okccdn.com/php/load_okc_image.php/images/60x60/60x60/304x149/942x787/2/14090421717711255150.jpeg?v=1\", \"82x82\" : \"https://k3.okccdn.com/php/load_okc_image.php/images/82x82/82x82/304x149/942x787/2/14090421717711255150.jpeg?v=1\", \"383x230\" : \"https://k3.okccdn.com/php/load_okc_image.php/images/383x230/383x230/304x149/942x787/2/14090421717711255150.jpeg?v=1\", \"info\" : {\"path\" : \"304x149/942x787/0/14090421717711255150.jpeg\", \"when_taken\" : 0, \"type\" : 0, \"lower_right_x\" : 942, \"lower_right_y\" : 787, \"ordinal\" : 2, \"caption\" : \"\", \"width\" : 1280, \"height\" : 854, \"has_photos\" : true, \"when_uploaded\" : 1531499789, \"upper_left_x\" : 304, \"upper_left_y\" : 149, \"thumbnail\" : \"304x149/942x787/2/14090421717711255150.jpeg\", \"picid\" : \"14090421717711255150\"}, \"800x800\" : \"https://k3.okccdn.com/php/load_okc_image.php/images/800x800/800x800/304x149/942x787/2/14090421717711255150.jpeg?v=1\", \"160x160\" : \"https://k3.okccdn.com/php/load_okc_image.php/images/160x160/160x160/304x149/942x787/2/14090421717711255150.jpeg?v=1\", \"120x120\" : \"https://k3.okccdn.com/php/load_okc_image.php/images/120x120/120x120/304x149/942x787/2/14090421717711255150.jpeg?v=1\"}, {\"225x225\" : \"https://k3.okccdn.com/php/load_okc_image.php/images/225x225/225x225/286x97/1011x822/2/641693665039665450.jpeg?v=1\", \"100x100\" : \"https://k3.okccdn.com/php/load_okc_image.php/images/100x100/100x100/286x97/1011x822/2/641693665039665450.jpeg?v=1\", \"400x400\" : \"https://k3.okccdn.com/php/load_okc_image.php/images/400x400/400x400/286x97/1011x822/2/641693665039665450.jpeg?v=1\", \"60x60\" : \"https://k3.okccdn.com/php/load_okc_image.php/images/60x60/60x60/286x97/1011x822/2/641693665039665450.jpeg?v=1\", \"82x82\" : \"https://k3.okccdn.com/php/load_okc_image.php/images/82x82/82x82/286x97/1011x822/2/641693665039665450.jpeg?v=1\", \"383x230\" : \"https://k3.okccdn.com/php/load_okc_image.php/images/383x230/383x230/286x97/1011x822/2/641693665039665450.jpeg?v=1\", \"info\" : {\"path\" : \"286x97/1011x822/0/641693665039665450.jpeg\", \"when_taken\" : 0, \"type\" : 0, \"lower_right_x\" : 1011, \"lower_right_y\" : 822, \"ordinal\" : 3, \"caption\" : \"\", \"width\" : 1280, \"height\" : 960, \"has_photos\" : true, \"when_uploaded\" : 1519532345, \"upper_left_x\" : 286, \"upper_left_y\" : 97, \"thumbnail\" : \"286x97/1011x822/2/641693665039665450.jpeg\", \"picid\" : \"641693665039665450\"}, \"800x800\" : \"https://k3.okccdn.com/php/load_okc_image.php/images/800x800/800x800/286x97/1011x822/2/641693665039665450.jpeg?v=1\", \"160x160\" : \"https://k3.okccdn.com/php/load_okc_image.php/images/160x160/160x160/286x97/1011x822/2/641693665039665450.jpeg?v=1\", \"120x120\" : \"https://k3.okccdn.com/php/load_okc_image.php/images/120x120/120x120/286x97/1011x822/2/641693665039665450.jpeg?v=1\"}], \"isAdmin\" : false, \"last_contacts\" : {\"forward\" : 0, \"reverse\" : 0}}]}]}, {\"hierarchy\" : [\"Block\", \"init\"], \"params\" : []}, {\"hierarchy\" : [\"OnPageAds\", \"loadAds\"], \"params\" : [{\"units\" : [{\"format\" : \"leader\", \"id\" : \"div-gpt-ad-leader-8033\"}], \"keywords\" : {\"att\" : 70, \"byr\" : 1985, \"orient\" : 1, \"city\" : \"Singapore\", \"gender\" : \"m\", \"rand\" : 2805, \"accntage\" : 1, \"ord\" : 87458, \"state\" : \"00\", \"hashid\" : \"9b8407e1cd3ad21062fbd0dbf6f46371b11d6b91\", \"rl\" : \"on\", \"gp\" : 2, \"userident\" : 1, \"ethn\" : \"\", \"tlPage\" : \"http://www.okcupid.com/\"}}]}]\r\n",
      "\t\t\t\t\t\t);\r\n",
      "\t\t\t\t\t}\r\n",
      "\t\t\t\t\n",
      "\n",
      "\tutil.executeDomLoad();\n",
      "\n",
      "\t\n",
      "</script>      <script>\n",
      "\t(function() {\n",
      "\t\tvar _sift = window._sift = window._sift || [];\n",
      "\t\t_sift.push(['_setAccount', '24e1d3c3ce']);\n",
      "\t\t_sift.push(['_setUserId', \"9782433068778445801\"]);\n",
      "\t\t_sift.push(['_setSessionId', \"2159079866333839670\"]);\n",
      "\t\t_sift.push(['_trackPageview']);\n",
      "\n",
      "\t\tfunction ls() {\n",
      "\t\t\tvar e = document.createElement('script');\n",
      "\t\t\te.src = 'https://cdn.siftscience.com/s.js';\n",
      "\t\t\tdocument.body.appendChild(e);\n",
      "\n",
      "\t\t}\n",
      "\n",
      "\t\tif (window.attachEvent) {\n",
      "\t\t\twindow.attachEvent('onload', ls);\n",
      "\t\t} else {\n",
      "\t\t\twindow.addEventListener('load', ls, false);\n",
      "\t\t}\n",
      "\n",
      "\t})();\n",
      "</script> <!-- Google Code for Remarketing Tag --> <!-------------------------------------------------- Remarketing tags may not be associated with personally identifiable information or placed on pages related to sensitive categories. See more information and instructions on how to setup the tag on: http://google.com/ads/remarketingsetup ---------------------------------------------------> <script type=\"text/javascript\">\n",
      "/* <![CDATA[ */\n",
      "var google_conversion_id = 829392633;\n",
      "var google_custom_params = window.google_tag_params;\n",
      "var google_remarketing_only = true;\n",
      "/* ]]> */\n",
      "</script> <script type=\"text/javascript\" src=\"//www.googleadservices.com/pagead/conversion.js\">\n",
      "</script> <noscript> <div style=\"display:inline;\"> <img height=\"1\" width=\"1\" style=\"border-style:none;\" alt=\"\" src=\"//googleads.g.doubleclick.net/pagead/viewthroughconversion/829392633/?guid=ON&amp;script=0\"/> </div> </noscript>       </body> </html>  \n"
     ]
    }
   ],
   "source": [
    "def get_users_page(session):\n",
    "\n",
    "    url = 'http://www.okcupid.com/match?filter1=0,48&filter2=2,100,18&filter3=5,26\\\n",
    "        78400&filter4=1,1&locid=0&timekey=1&matchOrderBy=SPECIAL_BLEND&custom_search=0&\\\n",
    "        fromWhoOnline=0&mygender=m&update_prefs=1&sort_type=0&sa=1&using_saved_search=&count=30'\n",
    "    page = session.get(url).text\n",
    "\n",
    "    return page\n",
    "\n",
    "page = get_users_page(session)\n",
    "print(page)"
   ]
  },
  {
   "cell_type": "code",
   "execution_count": 145,
   "metadata": {
    "slideshow": {
     "slide_type": "subslide"
    }
   },
   "outputs": [
    {
     "name": "stdout",
     "output_type": "stream",
     "text": [
      "\n",
      "\t\n",
      "\t\ttry {\n",
      "\t\t\tif (localStorage.getItem(\"facebook_ad_visitor\") &&\n",
      "\t\t\t\ttypeof AjaxSookie !== \"undefined\") {\n",
      "\t\t\t\tAjaxSookie.set(\"paid_acq_user\", true, 86400*365*5, \"69b1a3ef0e45f92b4b91b8f8d093fed20faefb0c\");\n",
      "\t\t\t}\n",
      "\t\t} catch (e) {\n",
      "\n",
      "\t\t}\n",
      "\t\n",
      "\tif (typeof(emojione) !== \"undefined\") {\n",
      "\t\temojione.imagePathPNG = ImagePath.cdn + 'media/img/emojis/emojione/';\n",
      "\t}\n",
      "\tif (typeof(QuickTooltip) !== \"undefined\") {\n",
      "\t\tQuickTooltip.init();\n",
      "\t}\n",
      "\tif (typeof(Modal) !== \"undefined\") {\n",
      "\t\tModal.init();\n",
      "\t}\n",
      "\n",
      "\tOkCanary();\n",
      " \n",
      "\t\t\tvar spotlight_controller = new Product({\"hasbilling\" : false, \"product_fields\" : {\"source\" : \"https://www.okcupid.com/match?filter1%3d0%2c48%26filter2%3d2%2c100%2c18%26filter3%3d5%2c26%2520%2520%2520%2520%2520%2520%2520%252078400%26filter4%3d1%2c1%26locid%3d0%26timekey%3d1%26matchOrderBy%3dSPECIAL_BLEND%26custom_search%3d0%26%2520%2520%2520%2520%2520%2520%2520%2520fromWhoOnline%3d0%26mygender%3dm%26update_prefs%3d1%26sort_type%3d0%26sa%3d1%26using_saved_search%3d%26count%3d30\", \"product\" : \"spotlight\", \"cf\" : \"\", \"prefix\" : \"https://www.okcupid.com\"}, \"productid\" : \"spotlight\", \"secure_prefix\" : \"https://www.okcupid.com\"});\n",
      "\t\t\t\n",
      "\t\t\t\n",
      "\t\t\t\n",
      "\t\t\t\n",
      "\t\t\t\tspotlight_controller.successaction = \n",
      "\t\t\t\t\tfunction(response) {\n",
      "\t\t\t\t\t\tif (typeof(BoostController) != 'undefined') {\n",
      "\t\t\t\t\t\t\tBoostController.validatePurchase(response);\n",
      "\t\t\t\t\t\t} else {\n",
      "\t\t\t\t\t\t\twindow.location.reload();\n",
      "\t\t\t\t\t\t}\n",
      "\t\t\t\t\t}\n",
      "\t\t\t\t;\n",
      "\t\t\t\n",
      "\t\t \n",
      " \n",
      "\t\tif (isOkC()) {\n",
      "\t\t\tvar mParticleIsLoaded = false;\n",
      "\t\t\tvar mParticlsIsChangingSession = false;\n",
      "\n",
      "\t\t\tmParticle.ready(function() {\n",
      "\t\t\t\tmParticleIsLoaded = true;\n",
      "\n",
      "\t\t\t\t\n",
      "\t\t\t\t\t\tif (OkAnalytics && OkAnalytics.logInIfNeeded) {\n",
      "\t\t\t\t\t\t\tOkAnalytics.logInIfNeeded(\"9782433068778445801\");\n",
      "\t\t\t\t\t\t}\n",
      "\t\t\t\t\t\n",
      "\n",
      "\t\t\t\t/**/\n",
      "\t\t\t\tvar url = window.location.hostname + window.location.pathname;\n",
      "\n",
      "\t\t\t\tif (window.location.search) {\n",
      "\t\t\t\t\turl += window.location.search;\n",
      "\t\t\t\t}\n",
      "\n",
      "\t\t\t\tvar pageviewData = { url: url };\n",
      "\n",
      "\t\t\t\tif (url.indexOf(\"profile\") >= 0 && Context && Context.get(\"username\")) {\n",
      "\t\t\t\t\tif (url.indexOf(Context.get(\"username\")) >= 0) {\n",
      "\t\t\t\t\t\tpageviewData.source = \"self view\";\n",
      "\t\t\t\t\t} else {\n",
      "\t\t\t\t\t\tpageviewData.source = \"public view\";\n",
      "\t\t\t\t\t}\n",
      "\t\t\t\t}\n",
      "\n",
      "\t\t\t\tmParticle.logPageView(\"pageview\", pageviewData);\n",
      "\n",
      "\t\t\t\tif (!url) {\n",
      "\t\t\t\t\twindow.onerror(\"bad url when window location is \" + JSON.stringify(window.location || {}), \"mparticle_tracking.html\", 666);\n",
      "\t\t\t\t}\n",
      "\t\t\t});\n",
      "\t\t}\n",
      "\t \n",
      " \n",
      "\t\t\tif (isOkC()) {\n",
      "\t\t\t\tmParticle.ready(function() {\n",
      "\t\t\t\t\tif (typeof OkAnalytics !== \"undefined\") {\n",
      "\t\t\t\t\t\tOkAnalytics.loadUserProperties(\"9782433068778445801\", {\"desired relationship\" : [\"open to non-monogamy\"]});\n",
      "\t\t\t\t\t}\n",
      "\t\t\t\t});\n",
      "\t\t\t}\n",
      "\t\t \n",
      " \n",
      "\t\t\tHeaderBar.init({});\n",
      "\t\t \n",
      " \n",
      "\t\t\t// delay 10ms so we ignore the first few instant events\n",
      "\t\t\tsetTimeout(function() {\n",
      "\t\t\t\tNavigation.init({\"mailbox\" : {\"count\" : 0, \"text\" : \"Conversations\"}, \"ratings\" : {\"count\" : 25, \"text\" : \"Likes\", \"attention\" : true}});\n",
      "\t\t\t}, 10);\n",
      "\t\t \n",
      " \n",
      "\t\t\tBoostController.init({\"now\" : 1542888581091, \"thumb_params\" : {\"maxrows\" : 8, \"maxcols\" : 5}, \"boostSubsPromoOnly\" : true, \"isrushhour\" : true, \"default_spotlight_duration\" : 900, \"tokens\" : 0, \"check_time\" : 450, \"default_time\" : 900, \"time_to_check_for_extension\" : 450});\n",
      "\t\t \n",
      "Modal.init();\n",
      " \n",
      "\t\t\t\tif (typeof(DetectTimezone) != 'undefined') {\n",
      "\t\t\t\t\tDetectTimezone.initialize({\"offset\" : 480});\n",
      "\t\t\t\t}\n",
      "\t\t\t \n",
      " \n",
      "\t\t\t\tif (typeof(DetectTimezone) != 'undefined') {\n",
      "\t\t\t\t\tDetectTimezone.initialize({\"offset\" : 480});\n",
      "\t\t\t\t}\n",
      "\t\t\t \n",
      " \n",
      "\t\t\tif (typeof GlobalMessaging !== \"undefined\" && GlobalMessaging !== null) {\n",
      "\t\t\t\tGlobalMessaging.init({\n",
      "\t\t\t\t\tinitialData: \"{}\",\n",
      "\t\t\t\t\topenWindows: {\"enter_to_send\" : false, \"states\" : {}, \"order\" : [], \"allow_overflow_notification\" : true},\n",
      "\t\t\t\t\tmobileMode: false,\n",
      "\t\t\t\t\tmaxOverflow: 20\n",
      "\t\t\t\t});\n",
      "\n",
      "\t\t\t\t\n",
      "\t\t\t}\n",
      "\t\t \n",
      " \n",
      "\t\t\t\t\t\tsetTimeout(function() {\n",
      "\t\t\t\t\t\t\tInstantEvents.invoke('im_footer', { off: true });\n",
      "\t\t\t\t\t\t}, 100);\n",
      "\t\t\t\t\t \n",
      " \n",
      "\t\tif (typeof(OkPhotos) != \"undefined\") {\n",
      "\t\t\tOkPhotos.initialize({\n",
      "\t\t\t\tuserid: '9782433068778445801',\n",
      "\t\t\t\tauthcode: '1,0,1542974981,0x87c22f0be792dbe9;ceeca394f9680b12408bbd8ac3d76c67c03a6921'\n",
      "\t\t\t});\n",
      "\t\t\tOkPhotos.setPhotoCount(1);\n",
      "\n",
      "\t\t\t\n",
      "\t\t}\n",
      "\t \n",
      " \n",
      "\t\t\tif (typeof ReportMessage !== \"undefined\" && ReportMessage !== null) {\n",
      "\t\t\t  ReportMessage.init();\n",
      "\t\t\t}\n",
      "\t\t \n",
      " \n",
      "\t\tProfileQuickview.init({\"theirscreenname\" : null, \"interestsType\" : false, \"screenname\" : \"9782433068778445801\"});\n",
      "\t \n",
      "\n",
      "\t\t\t\t\tif (typeof(DeferredJS) !== 'undefined') {\n",
      "\t\t\t\t\t\tDeferredJS.addBundles(\n",
      "\t\t\t\t\t\t\t[{\"hierarchy\" : [\"MatchSearch\", \"init\"], \"params\" : [{\"metric\" : false, \"sortOptions\" : [{\"value\" : \"SPECIAL_BLEND\", \"name\" : \"Special Blend\"}, {\"name\" : \"Match %\", \"value\" : \"MATCH\"}, {\"value\" : \"MATCH_AND_DISTANCE\", \"name\" : \"Distance\"}, {\"value\" : \"LOGIN\", \"name\" : \"Last online\"}], \"filters\" : {\"interest_ids\" : [], \"answers_or\" : [], \"last_login\" : 26, \"speaks_my_language\" : false, \"maximum_age\" : 99, \"locid\" : 0, \"questions\" : [], \"location\" : null, \"gentation\" : 48, \"answers\" : [], \"interest_ids_or\" : [], \"personality_filters\" : {}, \"questions_or\" : [], \"located_anywhere\" : 1, \"order_by\" : \"SPECIAL_BLEND\", \"minimum_age\" : 18}, \"lang\" : \"en\", \"isLoggedIn\" : true, \"isExpanded\" : false, \"questionInfo\" : {}, \"interestSearch\" : false, \"interestInfo\" : {}}]}, {\"hierarchy\" : [\"MatchResults\", \"init\"], \"params\" : [{\"total_matches\" : 1, \"paging\" : {\"cursors\" : {\"before\" : \"MTc2NTgzMjI3MzMwODg0NTUxNTQsMCwyMA==\", \"current\" : \"MTc2NTgzMjI3MzMwODg0NTUxNTQsMCwyMA==\", \"after\" : \"MTc2NTgzMjI3MzMwODg0NTUxNTQsMjAsMjA=\"}, \"end\" : true}, \"extras\" : {\"matchFiltersUserGuide\" : {\"cta\" : \"Got it\", \"guide\" : \"APP_MATCH_OPTIONS\", \"text\" : \"Save yourself some serious time. Filter by age, distance and more.\", \"title\" : \"Add search filters\"}, \"blank\" : {\"subtitle\" : \"The best searches are often less restrictive. Give it another shot!\", \"title\" : \"Try fewer options\", \"buttons\" : [{\"rel\" : \"/match?settings=1\", \"text\" : \"Edit Filters\"}]}, \"promos\" : {\"promoOffset\" : 6, \"data\" : [{\"target\" : \"modal\", \"type\" : \"onboarding\", \"source\" : \"search\", \"name\" : \"onboarding_xuf\", \"title\" : \"Discover even more compatible matches in 15 seconds.\", \"cta\" : \"Play now\", \"rel\" : \"/onboarding_xuf\"}, {\"desc\" : \"Filter matches by attractiveness and body type.\", \"type\" : \"upsell\", \"source\" : \"search\", \"layoutInfo\" : {\"layout\" : \"titleSubtitleImageHorizontal\"}, \"mark\" : \"illustrations-search\", \"name\" : \"alist.filtermatches\", \"upsellType\" : \"AList\", \"upsell\" : \"searchby\", \"title\" : \"Get more with A-List\", \"cta\" : \"Learn more\", \"color\" : \"#FF597E\", \"cf\" : \"filtermatches\"}, {\"desc\" : \"Get an entire day\\u2019s worth of activity in just 15 minutes.\", \"type\" : \"upsell\", \"source\" : \"search\", \"mark\" : \"illustrations-boost\", \"name\" : \"spotlight.colorful\", \"upsellType\" : \"Boost Token\", \"cta\" : \"Learn more\", \"title\" : \"It\\u2019s rush hour!\", \"color\" : \"#4FC5D0\", \"rel\" : \"/spotlight\"}], \"promoEvery\" : 54}}, \"numOnline\" : 57159, \"isLoggedIn\" : true, \"understandsHiding\" : false, \"atEnd\" : true, \"data\" : [{\"online\" : true, \"userinfo\" : {\"realname\" : \"Harlan\", \"gender_letter\" : \"M\", \"gender\" : \"Man\", \"age\" : 26, \"rel_status\" : \"Single\", \"location\" : \"Berlin, Germany\", \"orientation\" : \"Bisexual\", \"displayname\" : \"Harlan\"}, \"last_login\" : 1542888564, \"likes\" : {\"mutual_like_vote\" : 0, \"recycled\" : 0, \"passed_on\" : 0, \"they_like\" : null, \"you_like\" : null, \"via_spotlight\" : null, \"mutual_like\" : 0}, \"percentages\" : {\"match\" : 40, \"enemy\" : 0}, \"inactive\" : false, \"userid\" : \"16403472158589901979\", \"username\" : \"hrothcat\", \"staff\" : false, \"thumbs\" : [{\"225x225\" : \"https://k3.okccdn.com/php/load_okc_image.php/images/225x225/225x225/0x159/942x1101/2/14649323401465990503.jpeg?v=1\", \"100x100\" : \"https://k3.okccdn.com/php/load_okc_image.php/images/100x100/100x100/0x159/942x1101/2/14649323401465990503.jpeg?v=1\", \"400x400\" : \"https://k3.okccdn.com/php/load_okc_image.php/images/400x400/400x400/0x159/942x1101/2/14649323401465990503.jpeg?v=1\", \"60x60\" : \"https://k3.okccdn.com/php/load_okc_image.php/images/60x60/60x60/0x159/942x1101/2/14649323401465990503.jpeg?v=1\", \"82x82\" : \"https://k3.okccdn.com/php/load_okc_image.php/images/82x82/82x82/0x159/942x1101/2/14649323401465990503.jpeg?v=1\", \"383x230\" : \"https://k3.okccdn.com/php/load_okc_image.php/images/383x230/383x230/0x159/942x1101/2/14649323401465990503.jpeg?v=1\", \"info\" : {\"path\" : \"0x159/942x1101/0/14649323401465990503.jpeg\", \"when_taken\" : 0, \"type\" : 0, \"lower_right_x\" : 942, \"lower_right_y\" : 1101, \"ordinal\" : 0, \"caption\" : \"\", \"width\" : 960, \"height\" : 1280, \"has_photos\" : true, \"when_uploaded\" : 1531499458, \"upper_left_x\" : 0, \"upper_left_y\" : 159, \"thumbnail\" : \"0x159/942x1101/2/14649323401465990503.jpeg\", \"picid\" : \"14649323401465990503\"}, \"800x800\" : \"https://k3.okccdn.com/php/load_okc_image.php/images/800x800/800x800/0x159/942x1101/2/14649323401465990503.jpeg?v=1\", \"160x160\" : \"https://k3.okccdn.com/php/load_okc_image.php/images/160x160/160x160/0x159/942x1101/2/14649323401465990503.jpeg?v=1\", \"120x120\" : \"https://k3.okccdn.com/php/load_okc_image.php/images/120x120/120x120/0x159/942x1101/2/14649323401465990503.jpeg?v=1\"}, {\"225x225\" : \"https://k1.okccdn.com/php/load_okc_image.php/images/225x225/225x225/0x97/600x697/2/18417448278306062965.jpeg?v=1\", \"100x100\" : \"https://k1.okccdn.com/php/load_okc_image.php/images/100x100/100x100/0x97/600x697/2/18417448278306062965.jpeg?v=1\", \"400x400\" : \"https://k1.okccdn.com/php/load_okc_image.php/images/400x400/400x400/0x97/600x697/2/18417448278306062965.jpeg?v=1\", \"60x60\" : \"https://k1.okccdn.com/php/load_okc_image.php/images/60x60/60x60/0x97/600x697/2/18417448278306062965.jpeg?v=1\", \"82x82\" : \"https://k1.okccdn.com/php/load_okc_image.php/images/82x82/82x82/0x97/600x697/2/18417448278306062965.jpeg?v=1\", \"383x230\" : \"https://k1.okccdn.com/php/load_okc_image.php/images/383x230/383x230/0x97/600x697/2/18417448278306062965.jpeg?v=1\", \"info\" : {\"path\" : \"0x97/600x697/0/18417448278306062965.jpeg\", \"when_taken\" : 0, \"type\" : 0, \"lower_right_x\" : 600, \"lower_right_y\" : 697, \"ordinal\" : 1, \"caption\" : \"\", \"width\" : 600, \"height\" : 800, \"has_photos\" : true, \"when_uploaded\" : 1531499526, \"upper_left_x\" : 0, \"upper_left_y\" : 97, \"thumbnail\" : \"0x97/600x697/2/18417448278306062965.jpeg\", \"picid\" : \"18417448278306062965\"}, \"800x800\" : \"https://k1.okccdn.com/php/load_okc_image.php/images/800x800/800x800/0x97/600x697/2/18417448278306062965.jpeg?v=1\", \"160x160\" : \"https://k1.okccdn.com/php/load_okc_image.php/images/160x160/160x160/0x97/600x697/2/18417448278306062965.jpeg?v=1\", \"120x120\" : \"https://k1.okccdn.com/php/load_okc_image.php/images/120x120/120x120/0x97/600x697/2/18417448278306062965.jpeg?v=1\"}, {\"225x225\" : \"https://k3.okccdn.com/php/load_okc_image.php/images/225x225/225x225/304x149/942x787/2/14090421717711255150.jpeg?v=1\", \"100x100\" : \"https://k3.okccdn.com/php/load_okc_image.php/images/100x100/100x100/304x149/942x787/2/14090421717711255150.jpeg?v=1\", \"400x400\" : \"https://k3.okccdn.com/php/load_okc_image.php/images/400x400/400x400/304x149/942x787/2/14090421717711255150.jpeg?v=1\", \"60x60\" : \"https://k3.okccdn.com/php/load_okc_image.php/images/60x60/60x60/304x149/942x787/2/14090421717711255150.jpeg?v=1\", \"82x82\" : \"https://k3.okccdn.com/php/load_okc_image.php/images/82x82/82x82/304x149/942x787/2/14090421717711255150.jpeg?v=1\", \"383x230\" : \"https://k3.okccdn.com/php/load_okc_image.php/images/383x230/383x230/304x149/942x787/2/14090421717711255150.jpeg?v=1\", \"info\" : {\"path\" : \"304x149/942x787/0/14090421717711255150.jpeg\", \"when_taken\" : 0, \"type\" : 0, \"lower_right_x\" : 942, \"lower_right_y\" : 787, \"ordinal\" : 2, \"caption\" : \"\", \"width\" : 1280, \"height\" : 854, \"has_photos\" : true, \"when_uploaded\" : 1531499789, \"upper_left_x\" : 304, \"upper_left_y\" : 149, \"thumbnail\" : \"304x149/942x787/2/14090421717711255150.jpeg\", \"picid\" : \"14090421717711255150\"}, \"800x800\" : \"https://k3.okccdn.com/php/load_okc_image.php/images/800x800/800x800/304x149/942x787/2/14090421717711255150.jpeg?v=1\", \"160x160\" : \"https://k3.okccdn.com/php/load_okc_image.php/images/160x160/160x160/304x149/942x787/2/14090421717711255150.jpeg?v=1\", \"120x120\" : \"https://k3.okccdn.com/php/load_okc_image.php/images/120x120/120x120/304x149/942x787/2/14090421717711255150.jpeg?v=1\"}, {\"225x225\" : \"https://k3.okccdn.com/php/load_okc_image.php/images/225x225/225x225/286x97/1011x822/2/641693665039665450.jpeg?v=1\", \"100x100\" : \"https://k3.okccdn.com/php/load_okc_image.php/images/100x100/100x100/286x97/1011x822/2/641693665039665450.jpeg?v=1\", \"400x400\" : \"https://k3.okccdn.com/php/load_okc_image.php/images/400x400/400x400/286x97/1011x822/2/641693665039665450.jpeg?v=1\", \"60x60\" : \"https://k3.okccdn.com/php/load_okc_image.php/images/60x60/60x60/286x97/1011x822/2/641693665039665450.jpeg?v=1\", \"82x82\" : \"https://k3.okccdn.com/php/load_okc_image.php/images/82x82/82x82/286x97/1011x822/2/641693665039665450.jpeg?v=1\", \"383x230\" : \"https://k3.okccdn.com/php/load_okc_image.php/images/383x230/383x230/286x97/1011x822/2/641693665039665450.jpeg?v=1\", \"info\" : {\"path\" : \"286x97/1011x822/0/641693665039665450.jpeg\", \"when_taken\" : 0, \"type\" : 0, \"lower_right_x\" : 1011, \"lower_right_y\" : 822, \"ordinal\" : 3, \"caption\" : \"\", \"width\" : 1280, \"height\" : 960, \"has_photos\" : true, \"when_uploaded\" : 1519532345, \"upper_left_x\" : 286, \"upper_left_y\" : 97, \"thumbnail\" : \"286x97/1011x822/2/641693665039665450.jpeg\", \"picid\" : \"641693665039665450\"}, \"800x800\" : \"https://k3.okccdn.com/php/load_okc_image.php/images/800x800/800x800/286x97/1011x822/2/641693665039665450.jpeg?v=1\", \"160x160\" : \"https://k3.okccdn.com/php/load_okc_image.php/images/160x160/160x160/286x97/1011x822/2/641693665039665450.jpeg?v=1\", \"120x120\" : \"https://k3.okccdn.com/php/load_okc_image.php/images/120x120/120x120/286x97/1011x822/2/641693665039665450.jpeg?v=1\"}], \"isAdmin\" : false, \"last_contacts\" : {\"forward\" : 0, \"reverse\" : 0}}]}]}, {\"hierarchy\" : [\"Block\", \"init\"], \"params\" : []}, {\"hierarchy\" : [\"OnPageAds\", \"loadAds\"], \"params\" : [{\"units\" : [{\"format\" : \"leader\", \"id\" : \"div-gpt-ad-leader-8033\"}], \"keywords\" : {\"att\" : 70, \"byr\" : 1985, \"orient\" : 1, \"city\" : \"Singapore\", \"gender\" : \"m\", \"rand\" : 2805, \"accntage\" : 1, \"ord\" : 87458, \"state\" : \"00\", \"hashid\" : \"9b8407e1cd3ad21062fbd0dbf6f46371b11d6b91\", \"rl\" : \"on\", \"gp\" : 2, \"userident\" : 1, \"ethn\" : \"\", \"tlPage\" : \"http://www.okcupid.com/\"}}]}]\n",
      "\t\t\t\t\t\t);\n",
      "\t\t\t\t\t}\n",
      "\t\t\t\t\n",
      "\n",
      "\tutil.executeDomLoad();\n",
      "\n",
      "\t\n",
      "\n"
     ]
    }
   ],
   "source": [
    "def get_script_usrers_info(page):\n",
    "    soup = BeautifulSoup(page)\n",
    "    pattern = re.compile(r'DeferredJS.addBundles\\(.*?\\{.*?\\}.*?\\)', re.MULTILINE | re.DOTALL)\n",
    "    script = soup.find('script', text=pattern)\n",
    "    \n",
    "    return script.text\n",
    "\n",
    "script_users = get_script_usrers_info(page)\n",
    "print(script_users)"
   ]
  },
  {
   "cell_type": "code",
   "execution_count": 146,
   "metadata": {
    "slideshow": {
     "slide_type": "subslide"
    }
   },
   "outputs": [
    {
     "name": "stdout",
     "output_type": "stream",
     "text": [
      "\n",
      "\t\t\t\t\t\t\t[{\"hierarchy\" : [\"MatchSearch\", \"init\"], \"params\" : [{\"metric\" : false, \"sortOptions\" : [{\"value\" : \"SPECIAL_BLEND\", \"name\" : \"Special Blend\"}, {\"name\" : \"Match %\", \"value\" : \"MATCH\"}, {\"value\" : \"MATCH_AND_DISTANCE\", \"name\" : \"Distance\"}, {\"value\" : \"LOGIN\", \"name\" : \"Last online\"}], \"filters\" : {\"interest_ids\" : [], \"answers_or\" : [], \"last_login\" : 26, \"speaks_my_language\" : false, \"maximum_age\" : 99, \"locid\" : 0, \"questions\" : [], \"location\" : null, \"gentation\" : 48, \"answers\" : [], \"interest_ids_or\" : [], \"personality_filters\" : {}, \"questions_or\" : [], \"located_anywhere\" : 1, \"order_by\" : \"SPECIAL_BLEND\", \"minimum_age\" : 18}, \"lang\" : \"en\", \"isLoggedIn\" : true, \"isExpanded\" : false, \"questionInfo\" : {}, \"interestSearch\" : false, \"interestInfo\" : {}}]}, {\"hierarchy\" : [\"MatchResults\", \"init\"], \"params\" : [{\"total_matches\" : 1, \"paging\" : {\"cursors\" : {\"before\" : \"MTc2NTgzMjI3MzMwODg0NTUxNTQsMCwyMA==\", \"current\" : \"MTc2NTgzMjI3MzMwODg0NTUxNTQsMCwyMA==\", \"after\" : \"MTc2NTgzMjI3MzMwODg0NTUxNTQsMjAsMjA=\"}, \"end\" : true}, \"extras\" : {\"matchFiltersUserGuide\" : {\"cta\" : \"Got it\", \"guide\" : \"APP_MATCH_OPTIONS\", \"text\" : \"Save yourself some serious time. Filter by age, distance and more.\", \"title\" : \"Add search filters\"}, \"blank\" : {\"subtitle\" : \"The best searches are often less restrictive. Give it another shot!\", \"title\" : \"Try fewer options\", \"buttons\" : [{\"rel\" : \"/match?settings=1\", \"text\" : \"Edit Filters\"}]}, \"promos\" : {\"promoOffset\" : 6, \"data\" : [{\"target\" : \"modal\", \"type\" : \"onboarding\", \"source\" : \"search\", \"name\" : \"onboarding_xuf\", \"title\" : \"Discover even more compatible matches in 15 seconds.\", \"cta\" : \"Play now\", \"rel\" : \"/onboarding_xuf\"}, {\"desc\" : \"Filter matches by attractiveness and body type.\", \"type\" : \"upsell\", \"source\" : \"search\", \"layoutInfo\" : {\"layout\" : \"titleSubtitleImageHorizontal\"}, \"mark\" : \"illustrations-search\", \"name\" : \"alist.filtermatches\", \"upsellType\" : \"AList\", \"upsell\" : \"searchby\", \"title\" : \"Get more with A-List\", \"cta\" : \"Learn more\", \"color\" : \"#FF597E\", \"cf\" : \"filtermatches\"}, {\"desc\" : \"Get an entire day\\u2019s worth of activity in just 15 minutes.\", \"type\" : \"upsell\", \"source\" : \"search\", \"mark\" : \"illustrations-boost\", \"name\" : \"spotlight.colorful\", \"upsellType\" : \"Boost Token\", \"cta\" : \"Learn more\", \"title\" : \"It\\u2019s rush hour!\", \"color\" : \"#4FC5D0\", \"rel\" : \"/spotlight\"}], \"promoEvery\" : 54}}, \"numOnline\" : 57159, \"isLoggedIn\" : true, \"understandsHiding\" : false, \"atEnd\" : true, \"data\" : [{\"online\" : true, \"userinfo\" : {\"realname\" : \"Harlan\", \"gender_letter\" : \"M\", \"gender\" : \"Man\", \"age\" : 26, \"rel_status\" : \"Single\", \"location\" : \"Berlin, Germany\", \"orientation\" : \"Bisexual\", \"displayname\" : \"Harlan\"}, \"last_login\" : 1542888564, \"likes\" : {\"mutual_like_vote\" : 0, \"recycled\" : 0, \"passed_on\" : 0, \"they_like\" : null, \"you_like\" : null, \"via_spotlight\" : null, \"mutual_like\" : 0}, \"percentages\" : {\"match\" : 40, \"enemy\" : 0}, \"inactive\" : false, \"userid\" : \"16403472158589901979\", \"username\" : \"hrothcat\", \"staff\" : false, \"thumbs\" : [{\"225x225\" : \"https://k3.okccdn.com/php/load_okc_image.php/images/225x225/225x225/0x159/942x1101/2/14649323401465990503.jpeg?v=1\", \"100x100\" : \"https://k3.okccdn.com/php/load_okc_image.php/images/100x100/100x100/0x159/942x1101/2/14649323401465990503.jpeg?v=1\", \"400x400\" : \"https://k3.okccdn.com/php/load_okc_image.php/images/400x400/400x400/0x159/942x1101/2/14649323401465990503.jpeg?v=1\", \"60x60\" : \"https://k3.okccdn.com/php/load_okc_image.php/images/60x60/60x60/0x159/942x1101/2/14649323401465990503.jpeg?v=1\", \"82x82\" : \"https://k3.okccdn.com/php/load_okc_image.php/images/82x82/82x82/0x159/942x1101/2/14649323401465990503.jpeg?v=1\", \"383x230\" : \"https://k3.okccdn.com/php/load_okc_image.php/images/383x230/383x230/0x159/942x1101/2/14649323401465990503.jpeg?v=1\", \"info\" : {\"path\" : \"0x159/942x1101/0/14649323401465990503.jpeg\", \"when_taken\" : 0, \"type\" : 0, \"lower_right_x\" : 942, \"lower_right_y\" : 1101, \"ordinal\" : 0, \"caption\" : \"\", \"width\" : 960, \"height\" : 1280, \"has_photos\" : true, \"when_uploaded\" : 1531499458, \"upper_left_x\" : 0, \"upper_left_y\" : 159, \"thumbnail\" : \"0x159/942x1101/2/14649323401465990503.jpeg\", \"picid\" : \"14649323401465990503\"}, \"800x800\" : \"https://k3.okccdn.com/php/load_okc_image.php/images/800x800/800x800/0x159/942x1101/2/14649323401465990503.jpeg?v=1\", \"160x160\" : \"https://k3.okccdn.com/php/load_okc_image.php/images/160x160/160x160/0x159/942x1101/2/14649323401465990503.jpeg?v=1\", \"120x120\" : \"https://k3.okccdn.com/php/load_okc_image.php/images/120x120/120x120/0x159/942x1101/2/14649323401465990503.jpeg?v=1\"}, {\"225x225\" : \"https://k1.okccdn.com/php/load_okc_image.php/images/225x225/225x225/0x97/600x697/2/18417448278306062965.jpeg?v=1\", \"100x100\" : \"https://k1.okccdn.com/php/load_okc_image.php/images/100x100/100x100/0x97/600x697/2/18417448278306062965.jpeg?v=1\", \"400x400\" : \"https://k1.okccdn.com/php/load_okc_image.php/images/400x400/400x400/0x97/600x697/2/18417448278306062965.jpeg?v=1\", \"60x60\" : \"https://k1.okccdn.com/php/load_okc_image.php/images/60x60/60x60/0x97/600x697/2/18417448278306062965.jpeg?v=1\", \"82x82\" : \"https://k1.okccdn.com/php/load_okc_image.php/images/82x82/82x82/0x97/600x697/2/18417448278306062965.jpeg?v=1\", \"383x230\" : \"https://k1.okccdn.com/php/load_okc_image.php/images/383x230/383x230/0x97/600x697/2/18417448278306062965.jpeg?v=1\", \"info\" : {\"path\" : \"0x97/600x697/0/18417448278306062965.jpeg\", \"when_taken\" : 0, \"type\" : 0, \"lower_right_x\" : 600, \"lower_right_y\" : 697, \"ordinal\" : 1, \"caption\" : \"\", \"width\" : 600, \"height\" : 800, \"has_photos\" : true, \"when_uploaded\" : 1531499526, \"upper_left_x\" : 0, \"upper_left_y\" : 97, \"thumbnail\" : \"0x97/600x697/2/18417448278306062965.jpeg\", \"picid\" : \"18417448278306062965\"}, \"800x800\" : \"https://k1.okccdn.com/php/load_okc_image.php/images/800x800/800x800/0x97/600x697/2/18417448278306062965.jpeg?v=1\", \"160x160\" : \"https://k1.okccdn.com/php/load_okc_image.php/images/160x160/160x160/0x97/600x697/2/18417448278306062965.jpeg?v=1\", \"120x120\" : \"https://k1.okccdn.com/php/load_okc_image.php/images/120x120/120x120/0x97/600x697/2/18417448278306062965.jpeg?v=1\"}, {\"225x225\" : \"https://k3.okccdn.com/php/load_okc_image.php/images/225x225/225x225/304x149/942x787/2/14090421717711255150.jpeg?v=1\", \"100x100\" : \"https://k3.okccdn.com/php/load_okc_image.php/images/100x100/100x100/304x149/942x787/2/14090421717711255150.jpeg?v=1\", \"400x400\" : \"https://k3.okccdn.com/php/load_okc_image.php/images/400x400/400x400/304x149/942x787/2/14090421717711255150.jpeg?v=1\", \"60x60\" : \"https://k3.okccdn.com/php/load_okc_image.php/images/60x60/60x60/304x149/942x787/2/14090421717711255150.jpeg?v=1\", \"82x82\" : \"https://k3.okccdn.com/php/load_okc_image.php/images/82x82/82x82/304x149/942x787/2/14090421717711255150.jpeg?v=1\", \"383x230\" : \"https://k3.okccdn.com/php/load_okc_image.php/images/383x230/383x230/304x149/942x787/2/14090421717711255150.jpeg?v=1\", \"info\" : {\"path\" : \"304x149/942x787/0/14090421717711255150.jpeg\", \"when_taken\" : 0, \"type\" : 0, \"lower_right_x\" : 942, \"lower_right_y\" : 787, \"ordinal\" : 2, \"caption\" : \"\", \"width\" : 1280, \"height\" : 854, \"has_photos\" : true, \"when_uploaded\" : 1531499789, \"upper_left_x\" : 304, \"upper_left_y\" : 149, \"thumbnail\" : \"304x149/942x787/2/14090421717711255150.jpeg\", \"picid\" : \"14090421717711255150\"}, \"800x800\" : \"https://k3.okccdn.com/php/load_okc_image.php/images/800x800/800x800/304x149/942x787/2/14090421717711255150.jpeg?v=1\", \"160x160\" : \"https://k3.okccdn.com/php/load_okc_image.php/images/160x160/160x160/304x149/942x787/2/14090421717711255150.jpeg?v=1\", \"120x120\" : \"https://k3.okccdn.com/php/load_okc_image.php/images/120x120/120x120/304x149/942x787/2/14090421717711255150.jpeg?v=1\"}, {\"225x225\" : \"https://k3.okccdn.com/php/load_okc_image.php/images/225x225/225x225/286x97/1011x822/2/641693665039665450.jpeg?v=1\", \"100x100\" : \"https://k3.okccdn.com/php/load_okc_image.php/images/100x100/100x100/286x97/1011x822/2/641693665039665450.jpeg?v=1\", \"400x400\" : \"https://k3.okccdn.com/php/load_okc_image.php/images/400x400/400x400/286x97/1011x822/2/641693665039665450.jpeg?v=1\", \"60x60\" : \"https://k3.okccdn.com/php/load_okc_image.php/images/60x60/60x60/286x97/1011x822/2/641693665039665450.jpeg?v=1\", \"82x82\" : \"https://k3.okccdn.com/php/load_okc_image.php/images/82x82/82x82/286x97/1011x822/2/641693665039665450.jpeg?v=1\", \"383x230\" : \"https://k3.okccdn.com/php/load_okc_image.php/images/383x230/383x230/286x97/1011x822/2/641693665039665450.jpeg?v=1\", \"info\" : {\"path\" : \"286x97/1011x822/0/641693665039665450.jpeg\", \"when_taken\" : 0, \"type\" : 0, \"lower_right_x\" : 1011, \"lower_right_y\" : 822, \"ordinal\" : 3, \"caption\" : \"\", \"width\" : 1280, \"height\" : 960, \"has_photos\" : true, \"when_uploaded\" : 1519532345, \"upper_left_x\" : 286, \"upper_left_y\" : 97, \"thumbnail\" : \"286x97/1011x822/2/641693665039665450.jpeg\", \"picid\" : \"641693665039665450\"}, \"800x800\" : \"https://k3.okccdn.com/php/load_okc_image.php/images/800x800/800x800/286x97/1011x822/2/641693665039665450.jpeg?v=1\", \"160x160\" : \"https://k3.okccdn.com/php/load_okc_image.php/images/160x160/160x160/286x97/1011x822/2/641693665039665450.jpeg?v=1\", \"120x120\" : \"https://k3.okccdn.com/php/load_okc_image.php/images/120x120/120x120/286x97/1011x822/2/641693665039665450.jpeg?v=1\"}], \"isAdmin\" : false, \"last_contacts\" : {\"forward\" : 0, \"reverse\" : 0}}]}]}, {\"hierarchy\" : [\"Block\", \"init\"], \"params\" : []}, {\"hierarchy\" : [\"OnPageAds\", \"loadAds\"], \"params\" : [{\"units\" : [{\"format\" : \"leader\", \"id\" : \"div-gpt-ad-leader-8033\"}], \"keywords\" : {\"att\" : 70, \"byr\" : 1985, \"orient\" : 1, \"city\" : \"Singapore\", \"gender\" : \"m\", \"rand\" : 2805, \"accntage\" : 1, \"ord\" : 87458, \"state\" : \"00\", \"hashid\" : \"9b8407e1cd3ad21062fbd0dbf6f46371b11d6b91\", \"rl\" : \"on\", \"gp\" : 2, \"userident\" : 1, \"ethn\" : \"\", \"tlPage\" : \"http://www.okcupid.com/\"}}]}]\n",
      "\t\t\t\t\t\t\n"
     ]
    }
   ],
   "source": [
    "def json_from_script(script):\n",
    "    data = re.search(r'DeferredJS.addBundles\\(.*?\\);', script, re.MULTILINE | re.DOTALL).group()\n",
    "    data = data.replace('DeferredJS.addBundles(','')\n",
    "    data = data.replace(');','')\n",
    "    \n",
    "    return data\n",
    "\n",
    "json_users = json_from_script(script_users)\n",
    "print(json_users)"
   ]
  },
  {
   "cell_type": "code",
   "execution_count": 149,
   "metadata": {
    "slideshow": {
     "slide_type": "subslide"
    }
   },
   "outputs": [
    {
     "name": "stdout",
     "output_type": "stream",
     "text": [
      "{'online': True, 'userinfo': {'realname': 'Harlan', 'gender_letter': 'M', 'gender': 'Man', 'age': 26, 'rel_status': 'Single', 'location': 'Berlin, Germany', 'orientation': 'Bisexual', 'displayname': 'Harlan'}, 'last_login': 1542888564, 'likes': {'mutual_like_vote': 0, 'recycled': 0, 'passed_on': 0, 'they_like': None, 'you_like': None, 'via_spotlight': None, 'mutual_like': 0}, 'percentages': {'match': 40, 'enemy': 0}, 'inactive': False, 'userid': '16403472158589901979', 'username': 'hrothcat', 'staff': False, 'thumbs': [{'225x225': 'https://k3.okccdn.com/php/load_okc_image.php/images/225x225/225x225/0x159/942x1101/2/14649323401465990503.jpeg?v=1', '100x100': 'https://k3.okccdn.com/php/load_okc_image.php/images/100x100/100x100/0x159/942x1101/2/14649323401465990503.jpeg?v=1', '400x400': 'https://k3.okccdn.com/php/load_okc_image.php/images/400x400/400x400/0x159/942x1101/2/14649323401465990503.jpeg?v=1', '60x60': 'https://k3.okccdn.com/php/load_okc_image.php/images/60x60/60x60/0x159/942x1101/2/14649323401465990503.jpeg?v=1', '82x82': 'https://k3.okccdn.com/php/load_okc_image.php/images/82x82/82x82/0x159/942x1101/2/14649323401465990503.jpeg?v=1', '383x230': 'https://k3.okccdn.com/php/load_okc_image.php/images/383x230/383x230/0x159/942x1101/2/14649323401465990503.jpeg?v=1', 'info': {'path': '0x159/942x1101/0/14649323401465990503.jpeg', 'when_taken': 0, 'type': 0, 'lower_right_x': 942, 'lower_right_y': 1101, 'ordinal': 0, 'caption': '', 'width': 960, 'height': 1280, 'has_photos': True, 'when_uploaded': 1531499458, 'upper_left_x': 0, 'upper_left_y': 159, 'thumbnail': '0x159/942x1101/2/14649323401465990503.jpeg', 'picid': '14649323401465990503'}, '800x800': 'https://k3.okccdn.com/php/load_okc_image.php/images/800x800/800x800/0x159/942x1101/2/14649323401465990503.jpeg?v=1', '160x160': 'https://k3.okccdn.com/php/load_okc_image.php/images/160x160/160x160/0x159/942x1101/2/14649323401465990503.jpeg?v=1', '120x120': 'https://k3.okccdn.com/php/load_okc_image.php/images/120x120/120x120/0x159/942x1101/2/14649323401465990503.jpeg?v=1'}, {'225x225': 'https://k1.okccdn.com/php/load_okc_image.php/images/225x225/225x225/0x97/600x697/2/18417448278306062965.jpeg?v=1', '100x100': 'https://k1.okccdn.com/php/load_okc_image.php/images/100x100/100x100/0x97/600x697/2/18417448278306062965.jpeg?v=1', '400x400': 'https://k1.okccdn.com/php/load_okc_image.php/images/400x400/400x400/0x97/600x697/2/18417448278306062965.jpeg?v=1', '60x60': 'https://k1.okccdn.com/php/load_okc_image.php/images/60x60/60x60/0x97/600x697/2/18417448278306062965.jpeg?v=1', '82x82': 'https://k1.okccdn.com/php/load_okc_image.php/images/82x82/82x82/0x97/600x697/2/18417448278306062965.jpeg?v=1', '383x230': 'https://k1.okccdn.com/php/load_okc_image.php/images/383x230/383x230/0x97/600x697/2/18417448278306062965.jpeg?v=1', 'info': {'path': '0x97/600x697/0/18417448278306062965.jpeg', 'when_taken': 0, 'type': 0, 'lower_right_x': 600, 'lower_right_y': 697, 'ordinal': 1, 'caption': '', 'width': 600, 'height': 800, 'has_photos': True, 'when_uploaded': 1531499526, 'upper_left_x': 0, 'upper_left_y': 97, 'thumbnail': '0x97/600x697/2/18417448278306062965.jpeg', 'picid': '18417448278306062965'}, '800x800': 'https://k1.okccdn.com/php/load_okc_image.php/images/800x800/800x800/0x97/600x697/2/18417448278306062965.jpeg?v=1', '160x160': 'https://k1.okccdn.com/php/load_okc_image.php/images/160x160/160x160/0x97/600x697/2/18417448278306062965.jpeg?v=1', '120x120': 'https://k1.okccdn.com/php/load_okc_image.php/images/120x120/120x120/0x97/600x697/2/18417448278306062965.jpeg?v=1'}, {'225x225': 'https://k3.okccdn.com/php/load_okc_image.php/images/225x225/225x225/304x149/942x787/2/14090421717711255150.jpeg?v=1', '100x100': 'https://k3.okccdn.com/php/load_okc_image.php/images/100x100/100x100/304x149/942x787/2/14090421717711255150.jpeg?v=1', '400x400': 'https://k3.okccdn.com/php/load_okc_image.php/images/400x400/400x400/304x149/942x787/2/14090421717711255150.jpeg?v=1', '60x60': 'https://k3.okccdn.com/php/load_okc_image.php/images/60x60/60x60/304x149/942x787/2/14090421717711255150.jpeg?v=1', '82x82': 'https://k3.okccdn.com/php/load_okc_image.php/images/82x82/82x82/304x149/942x787/2/14090421717711255150.jpeg?v=1', '383x230': 'https://k3.okccdn.com/php/load_okc_image.php/images/383x230/383x230/304x149/942x787/2/14090421717711255150.jpeg?v=1', 'info': {'path': '304x149/942x787/0/14090421717711255150.jpeg', 'when_taken': 0, 'type': 0, 'lower_right_x': 942, 'lower_right_y': 787, 'ordinal': 2, 'caption': '', 'width': 1280, 'height': 854, 'has_photos': True, 'when_uploaded': 1531499789, 'upper_left_x': 304, 'upper_left_y': 149, 'thumbnail': '304x149/942x787/2/14090421717711255150.jpeg', 'picid': '14090421717711255150'}, '800x800': 'https://k3.okccdn.com/php/load_okc_image.php/images/800x800/800x800/304x149/942x787/2/14090421717711255150.jpeg?v=1', '160x160': 'https://k3.okccdn.com/php/load_okc_image.php/images/160x160/160x160/304x149/942x787/2/14090421717711255150.jpeg?v=1', '120x120': 'https://k3.okccdn.com/php/load_okc_image.php/images/120x120/120x120/304x149/942x787/2/14090421717711255150.jpeg?v=1'}, {'225x225': 'https://k3.okccdn.com/php/load_okc_image.php/images/225x225/225x225/286x97/1011x822/2/641693665039665450.jpeg?v=1', '100x100': 'https://k3.okccdn.com/php/load_okc_image.php/images/100x100/100x100/286x97/1011x822/2/641693665039665450.jpeg?v=1', '400x400': 'https://k3.okccdn.com/php/load_okc_image.php/images/400x400/400x400/286x97/1011x822/2/641693665039665450.jpeg?v=1', '60x60': 'https://k3.okccdn.com/php/load_okc_image.php/images/60x60/60x60/286x97/1011x822/2/641693665039665450.jpeg?v=1', '82x82': 'https://k3.okccdn.com/php/load_okc_image.php/images/82x82/82x82/286x97/1011x822/2/641693665039665450.jpeg?v=1', '383x230': 'https://k3.okccdn.com/php/load_okc_image.php/images/383x230/383x230/286x97/1011x822/2/641693665039665450.jpeg?v=1', 'info': {'path': '286x97/1011x822/0/641693665039665450.jpeg', 'when_taken': 0, 'type': 0, 'lower_right_x': 1011, 'lower_right_y': 822, 'ordinal': 3, 'caption': '', 'width': 1280, 'height': 960, 'has_photos': True, 'when_uploaded': 1519532345, 'upper_left_x': 286, 'upper_left_y': 97, 'thumbnail': '286x97/1011x822/2/641693665039665450.jpeg', 'picid': '641693665039665450'}, '800x800': 'https://k3.okccdn.com/php/load_okc_image.php/images/800x800/800x800/286x97/1011x822/2/641693665039665450.jpeg?v=1', '160x160': 'https://k3.okccdn.com/php/load_okc_image.php/images/160x160/160x160/286x97/1011x822/2/641693665039665450.jpeg?v=1', '120x120': 'https://k3.okccdn.com/php/load_okc_image.php/images/120x120/120x120/286x97/1011x822/2/641693665039665450.jpeg?v=1'}], 'isAdmin': False, 'last_contacts': {'forward': 0, 'reverse': 0}}\n"
     ]
    }
   ],
   "source": [
    "users_data = json.loads(json_users)\n",
    "print(users_data[1]['params'][0]['data'][0])"
   ]
  },
  {
   "cell_type": "code",
   "execution_count": 151,
   "metadata": {
    "slideshow": {
     "slide_type": "subslide"
    }
   },
   "outputs": [],
   "source": [
    "def print_user_data(user):\n",
    "    print('Online:', user['online'])\n",
    "    print('Realname:', 'I\\'m skipping this one :D') # print('Realname:', j['userinfo']['gender'])\n",
    "    print('Gender:', user['userinfo']['gender'])\n",
    "    print('Age:', user['userinfo']['age'])\n",
    "    print('Relationship status:', user['userinfo']['rel_status'])\n",
    "    print('Location:', user['userinfo']['location'])\n",
    "    print('Orientation:', user['userinfo']['orientation'])\n",
    "    print('Display Name:','I\\'m skipping this one :D') # print('Display Name:',j['userinfo']['displayname'])\n",
    "    print('Last login:', time.strftime('%Y-%m-%d %H:%M:%S', time.localtime(user['last_login'])))\n",
    "    print('Username:', user['username'])\n",
    "    print('UserId:', user['userid'])\n",
    "    print('Match:', str(user['percentages']['match'])+'%')\n",
    "    print('Enemy:', str(user['percentages']['enemy'])+'%')\n",
    "    print('-'*10)"
   ]
  },
  {
   "cell_type": "code",
   "execution_count": 152,
   "metadata": {
    "slideshow": {
     "slide_type": "subslide"
    }
   },
   "outputs": [
    {
     "name": "stdout",
     "output_type": "stream",
     "text": [
      "Online: True\n",
      "Realname: I'm skipping this one :D\n",
      "Gender: Man\n",
      "Age: 26\n",
      "Relationship status: Single\n",
      "Location: Berlin, Germany\n",
      "Orientation: Bisexual\n",
      "Display Name: I'm skipping this one :D\n",
      "Last login: 2018-11-22 20:09:24\n",
      "Username: hrothcat\n",
      "UserId: 16403472158589901979\n",
      "Match: 40%\n",
      "Enemy: 0%\n",
      "----------\n"
     ]
    }
   ],
   "source": [
    "for j in users_data[1]['params'][0]['data']:\n",
    "    print_user_data(j)"
   ]
  },
  {
   "cell_type": "code",
   "execution_count": 153,
   "metadata": {
    "slideshow": {
     "slide_type": "subslide"
    }
   },
   "outputs": [
    {
     "name": "stdout",
     "output_type": "stream",
     "text": [
      "UserId: 13551160287661905233\n",
      "UserId: 13285781601961433420\n",
      "UserId: 17624605014680713250\n",
      "UserId: 16318357252203416077\n",
      "UserId: 14651466052289961019\n",
      "UserId: 3177744840247787432\n",
      "UserId: 13822683589444973784\n",
      "UserId: 13285781601961433420\n",
      "UserId: 13551160287661905233\n",
      "UserId: 17624605014680713250\n",
      "UserId: 3177744840247787432\n",
      "UserId: 14651466052289961019\n",
      "UserId: 16318357252203416077\n",
      "UserId: 13822683589444973784\n",
      "UserId: 13551160287661905233\n",
      "UserId: 17624605014680713250\n",
      "UserId: 14651466052289961019\n",
      "UserId: 3177744840247787432\n",
      "UserId: 13285781601961433420\n",
      "UserId: 16318357252203416077\n",
      "UserId: 13551160287661905233\n",
      "UserId: 13822683589444973784\n",
      "UserId: 13285781601961433420\n",
      "UserId: 17624605014680713250\n",
      "UserId: 14651466052289961019\n",
      "UserId: 3177744840247787432\n",
      "UserId: 16318357252203416077\n",
      "UserId: 15777016899725588169\n",
      "UserId: 13551160287661905233\n",
      "UserId: 13822683589444973784\n",
      "UserId: 16318357252203416077\n",
      "UserId: 17624605014680713250\n",
      "UserId: 13822683589444973784\n",
      "UserId: 11530150177392289933\n",
      "UserId: 13551160287661905233\n",
      "UserId: 15777016899725588169\n",
      "UserId: 16318357252203416077\n",
      "UserId: 13822683589444973784\n",
      "UserId: 11530150177392289933\n",
      "UserId: 15777016899725588169\n",
      "UserId: 16318357252203416077\n",
      "UserId: 13822683589444973784\n",
      "UserId: 11530150177392289933\n",
      "UserId: 15777016899725588169\n",
      "UserId: 16318357252203416077\n",
      "UserId: 7484855609015640300\n",
      "UserId: 18276558694065085947\n",
      "UserId: 13822683589444973784\n",
      "UserId: 15777016899725588169\n",
      "UserId: 11530150177392289933\n",
      "11\n"
     ]
    }
   ],
   "source": [
    "users = set()\n",
    "users_to_scrap = 10\n",
    "\n",
    "session = perform_login('https://www.okcupid.com/login', username, password)\n",
    "\n",
    "while len(users) < users_to_scrap:\n",
    "    page = get_users_page(session)\n",
    "    script_users = get_script_usrers_info(page)\n",
    "    json_users = json.loads( json_from_script(script_users) )\n",
    "    for j in json_users[1]['params'][0]['data']:\n",
    "        print('UserId:', j['userid'])\n",
    "        users.add(str(j))\n",
    "    time.sleep(2)\n",
    "        \n",
    "print(len(users))"
   ]
  },
  {
   "cell_type": "markdown",
   "metadata": {
    "slideshow": {
     "slide_type": "slide"
    }
   },
   "source": [
    "# Let's find a data set:\n",
    "\n",
    "### 60000 online dating profiles\n",
    "\n",
    "### [Published](http://ww2.amstat.org/publications/jse/v23n2/kim.pdf) in the [Journal of Statistics Education](http://ww2.amstat.org/publications/jse/), Volume 23, Number 2 (2015) by Albert Y. Kim et al.\n",
    "\n",
    "### CFAA: Explecitly allowed by OkCupid co-founder and CEO [Christian Rudder](http://blog.okcupid.com/)\n",
    "\n",
    "### Ethically and legally acceptable\n",
    "\n",
    "### [Wired article about ethical issues](https://www.wired.com/2016/05/okcupid-study-reveals-perils-big-data-science/))"
   ]
  },
  {
   "cell_type": "code",
   "execution_count": 154,
   "metadata": {
    "slideshow": {
     "slide_type": "subslide"
    }
   },
   "outputs": [
    {
     "name": "stderr",
     "output_type": "stream",
     "text": [
      "/home/mkspk/anaconda3/envs/ds1_workshop/lib/python3.6/site-packages/urllib3/connectionpool.py:857: InsecureRequestWarning: Unverified HTTPS request is being made. Adding certificate verification is strongly advised. See: https://urllib3.readthedocs.io/en/latest/advanced-usage.html#ssl-warnings\n",
      "  InsecureRequestWarning)\n",
      "/home/mkspk/anaconda3/envs/ds1_workshop/lib/python3.6/site-packages/urllib3/connectionpool.py:857: InsecureRequestWarning: Unverified HTTPS request is being made. Adding certificate verification is strongly advised. See: https://urllib3.readthedocs.io/en/latest/advanced-usage.html#ssl-warnings\n",
      "  InsecureRequestWarning)\n"
     ]
    }
   ],
   "source": [
    "import urllib3\n",
    "connection_pool = urllib3.PoolManager()\n",
    "resp = connection_pool.request('GET', 'https://github.com/rudeboybert/JSE_OkCupid/raw/master/profiles.csv.zip' )\n",
    "f = open('profiles.csv.zip', 'wb')\n",
    "f.write(resp.data)\n",
    "f.close()\n",
    "resp.release_conn()"
   ]
  },
  {
   "cell_type": "code",
   "execution_count": null,
   "metadata": {
    "slideshow": {
     "slide_type": "subslide"
    }
   },
   "outputs": [
    {
     "name": "stdout",
     "output_type": "stream",
     "text": [
      "Archive:  profiles.csv.zip\r\n",
      "replace profiles.csv? [y]es, [n]o, [A]ll, [N]one, [r]ename: "
     ]
    }
   ],
   "source": [
    "!unzip profiles.csv.zip"
   ]
  },
  {
   "cell_type": "code",
   "execution_count": 1,
   "metadata": {
    "slideshow": {
     "slide_type": "subslide"
    }
   },
   "outputs": [],
   "source": [
    "import pandas as pd\n",
    "import matplotlib.pyplot as plt\n",
    "import seaborn as sns\n",
    "import numpy as np"
   ]
  },
  {
   "cell_type": "code",
   "execution_count": 2,
   "metadata": {
    "slideshow": {
     "slide_type": "subslide"
    }
   },
   "outputs": [],
   "source": [
    "data = pd.read_csv(\"profiles.csv\")"
   ]
  },
  {
   "cell_type": "code",
   "execution_count": 3,
   "metadata": {
    "scrolled": true,
    "slideshow": {
     "slide_type": "subslide"
    }
   },
   "outputs": [
    {
     "data": {
      "text/html": [
       "<div>\n",
       "<style scoped>\n",
       "    .dataframe tbody tr th:only-of-type {\n",
       "        vertical-align: middle;\n",
       "    }\n",
       "\n",
       "    .dataframe tbody tr th {\n",
       "        vertical-align: top;\n",
       "    }\n",
       "\n",
       "    .dataframe thead th {\n",
       "        text-align: right;\n",
       "    }\n",
       "</style>\n",
       "<table border=\"1\" class=\"dataframe\">\n",
       "  <thead>\n",
       "    <tr style=\"text-align: right;\">\n",
       "      <th></th>\n",
       "      <th>age</th>\n",
       "      <th>body_type</th>\n",
       "      <th>diet</th>\n",
       "      <th>drinks</th>\n",
       "      <th>drugs</th>\n",
       "      <th>education</th>\n",
       "      <th>essay0</th>\n",
       "      <th>essay1</th>\n",
       "      <th>essay2</th>\n",
       "      <th>essay3</th>\n",
       "      <th>...</th>\n",
       "      <th>location</th>\n",
       "      <th>offspring</th>\n",
       "      <th>orientation</th>\n",
       "      <th>pets</th>\n",
       "      <th>religion</th>\n",
       "      <th>sex</th>\n",
       "      <th>sign</th>\n",
       "      <th>smokes</th>\n",
       "      <th>speaks</th>\n",
       "      <th>status</th>\n",
       "    </tr>\n",
       "  </thead>\n",
       "  <tbody>\n",
       "    <tr>\n",
       "      <th>59941</th>\n",
       "      <td>59</td>\n",
       "      <td>NaN</td>\n",
       "      <td>NaN</td>\n",
       "      <td>socially</td>\n",
       "      <td>never</td>\n",
       "      <td>graduated from college/university</td>\n",
       "      <td>vibrant, expressive, caring optimist. i love b...</td>\n",
       "      <td>the happiest times have been when life came to...</td>\n",
       "      <td>i make an outstanding osso bucco. i am also ve...</td>\n",
       "      <td>i am told that people notice my smile, eyes an...</td>\n",
       "      <td>...</td>\n",
       "      <td>oakland, california</td>\n",
       "      <td>has kids</td>\n",
       "      <td>straight</td>\n",
       "      <td>has dogs</td>\n",
       "      <td>catholicism but not too serious about it</td>\n",
       "      <td>f</td>\n",
       "      <td>cancer and it&amp;rsquo;s fun to think about</td>\n",
       "      <td>no</td>\n",
       "      <td>english</td>\n",
       "      <td>single</td>\n",
       "    </tr>\n",
       "    <tr>\n",
       "      <th>59942</th>\n",
       "      <td>24</td>\n",
       "      <td>fit</td>\n",
       "      <td>mostly anything</td>\n",
       "      <td>often</td>\n",
       "      <td>sometimes</td>\n",
       "      <td>working on college/university</td>\n",
       "      <td>i'm nick.&lt;br /&gt;\\ni never know what to write ab...</td>\n",
       "      <td>currently finishing school for film production...</td>\n",
       "      <td>&lt;a class=\"ilink\" href=\"/interests?i=filmmaking...</td>\n",
       "      <td>dude, i don't know.</td>\n",
       "      <td>...</td>\n",
       "      <td>san francisco, california</td>\n",
       "      <td>doesn&amp;rsquo;t have kids</td>\n",
       "      <td>straight</td>\n",
       "      <td>likes dogs and likes cats</td>\n",
       "      <td>agnosticism</td>\n",
       "      <td>m</td>\n",
       "      <td>leo but it doesn&amp;rsquo;t matter</td>\n",
       "      <td>no</td>\n",
       "      <td>english (fluently)</td>\n",
       "      <td>single</td>\n",
       "    </tr>\n",
       "    <tr>\n",
       "      <th>59943</th>\n",
       "      <td>42</td>\n",
       "      <td>average</td>\n",
       "      <td>mostly anything</td>\n",
       "      <td>not at all</td>\n",
       "      <td>never</td>\n",
       "      <td>graduated from masters program</td>\n",
       "      <td>hello! i enjoy traveling, watching movies, and...</td>\n",
       "      <td>i'm a civil engineer, who enjoys helping the c...</td>\n",
       "      <td>- looking at things objectively&lt;br /&gt;\\n- getti...</td>\n",
       "      <td>i'm quiet until i get used to the environment ...</td>\n",
       "      <td>...</td>\n",
       "      <td>south san francisco, california</td>\n",
       "      <td>doesn&amp;rsquo;t have kids</td>\n",
       "      <td>straight</td>\n",
       "      <td>NaN</td>\n",
       "      <td>christianity but not too serious about it</td>\n",
       "      <td>m</td>\n",
       "      <td>sagittarius but it doesn&amp;rsquo;t matter</td>\n",
       "      <td>no</td>\n",
       "      <td>english (fluently)</td>\n",
       "      <td>single</td>\n",
       "    </tr>\n",
       "    <tr>\n",
       "      <th>59944</th>\n",
       "      <td>27</td>\n",
       "      <td>athletic</td>\n",
       "      <td>mostly anything</td>\n",
       "      <td>socially</td>\n",
       "      <td>often</td>\n",
       "      <td>working on college/university</td>\n",
       "      <td>\"all i have in this world are my balls and my ...</td>\n",
       "      <td>following my dreams...&lt;br /&gt;\\n\"you got a dream...</td>\n",
       "      <td>listening</td>\n",
       "      <td>it used to be the hair until i mowed it off bu...</td>\n",
       "      <td>...</td>\n",
       "      <td>san francisco, california</td>\n",
       "      <td>doesn&amp;rsquo;t have kids, but wants them</td>\n",
       "      <td>straight</td>\n",
       "      <td>likes dogs and likes cats</td>\n",
       "      <td>agnosticism but not too serious about it</td>\n",
       "      <td>m</td>\n",
       "      <td>leo and it&amp;rsquo;s fun to think about</td>\n",
       "      <td>trying to quit</td>\n",
       "      <td>english (fluently), spanish (poorly), chinese ...</td>\n",
       "      <td>single</td>\n",
       "    </tr>\n",
       "    <tr>\n",
       "      <th>59945</th>\n",
       "      <td>39</td>\n",
       "      <td>average</td>\n",
       "      <td>NaN</td>\n",
       "      <td>socially</td>\n",
       "      <td>NaN</td>\n",
       "      <td>graduated from masters program</td>\n",
       "      <td>is it odd that having a little \"enemy\" status ...</td>\n",
       "      <td>i work with elderly people (psychotherapy and ...</td>\n",
       "      <td>i'm a great bullshitter. i don't know what it ...</td>\n",
       "      <td>either that i am funny/sarcastic, or that i am...</td>\n",
       "      <td>...</td>\n",
       "      <td>san francisco, california</td>\n",
       "      <td>NaN</td>\n",
       "      <td>gay</td>\n",
       "      <td>likes dogs and likes cats</td>\n",
       "      <td>catholicism and laughing about it</td>\n",
       "      <td>m</td>\n",
       "      <td>gemini and it&amp;rsquo;s fun to think about</td>\n",
       "      <td>sometimes</td>\n",
       "      <td>english</td>\n",
       "      <td>single</td>\n",
       "    </tr>\n",
       "  </tbody>\n",
       "</table>\n",
       "<p>5 rows × 31 columns</p>\n",
       "</div>"
      ],
      "text/plain": [
       "       age body_type             diet      drinks      drugs  \\\n",
       "59941   59       NaN              NaN    socially      never   \n",
       "59942   24       fit  mostly anything       often  sometimes   \n",
       "59943   42   average  mostly anything  not at all      never   \n",
       "59944   27  athletic  mostly anything    socially      often   \n",
       "59945   39   average              NaN    socially        NaN   \n",
       "\n",
       "                               education  \\\n",
       "59941  graduated from college/university   \n",
       "59942      working on college/university   \n",
       "59943     graduated from masters program   \n",
       "59944      working on college/university   \n",
       "59945     graduated from masters program   \n",
       "\n",
       "                                                  essay0  \\\n",
       "59941  vibrant, expressive, caring optimist. i love b...   \n",
       "59942  i'm nick.<br />\\ni never know what to write ab...   \n",
       "59943  hello! i enjoy traveling, watching movies, and...   \n",
       "59944  \"all i have in this world are my balls and my ...   \n",
       "59945  is it odd that having a little \"enemy\" status ...   \n",
       "\n",
       "                                                  essay1  \\\n",
       "59941  the happiest times have been when life came to...   \n",
       "59942  currently finishing school for film production...   \n",
       "59943  i'm a civil engineer, who enjoys helping the c...   \n",
       "59944  following my dreams...<br />\\n\"you got a dream...   \n",
       "59945  i work with elderly people (psychotherapy and ...   \n",
       "\n",
       "                                                  essay2  \\\n",
       "59941  i make an outstanding osso bucco. i am also ve...   \n",
       "59942  <a class=\"ilink\" href=\"/interests?i=filmmaking...   \n",
       "59943  - looking at things objectively<br />\\n- getti...   \n",
       "59944                                          listening   \n",
       "59945  i'm a great bullshitter. i don't know what it ...   \n",
       "\n",
       "                                                  essay3   ...    \\\n",
       "59941  i am told that people notice my smile, eyes an...   ...     \n",
       "59942                                dude, i don't know.   ...     \n",
       "59943  i'm quiet until i get used to the environment ...   ...     \n",
       "59944  it used to be the hair until i mowed it off bu...   ...     \n",
       "59945  either that i am funny/sarcastic, or that i am...   ...     \n",
       "\n",
       "                              location  \\\n",
       "59941              oakland, california   \n",
       "59942        san francisco, california   \n",
       "59943  south san francisco, california   \n",
       "59944        san francisco, california   \n",
       "59945        san francisco, california   \n",
       "\n",
       "                                     offspring orientation  \\\n",
       "59941                                 has kids    straight   \n",
       "59942                  doesn&rsquo;t have kids    straight   \n",
       "59943                  doesn&rsquo;t have kids    straight   \n",
       "59944  doesn&rsquo;t have kids, but wants them    straight   \n",
       "59945                                      NaN         gay   \n",
       "\n",
       "                            pets                                   religion  \\\n",
       "59941                   has dogs   catholicism but not too serious about it   \n",
       "59942  likes dogs and likes cats                                agnosticism   \n",
       "59943                        NaN  christianity but not too serious about it   \n",
       "59944  likes dogs and likes cats   agnosticism but not too serious about it   \n",
       "59945  likes dogs and likes cats          catholicism and laughing about it   \n",
       "\n",
       "      sex                                      sign          smokes  \\\n",
       "59941   f  cancer and it&rsquo;s fun to think about              no   \n",
       "59942   m           leo but it doesn&rsquo;t matter              no   \n",
       "59943   m   sagittarius but it doesn&rsquo;t matter              no   \n",
       "59944   m     leo and it&rsquo;s fun to think about  trying to quit   \n",
       "59945   m  gemini and it&rsquo;s fun to think about       sometimes   \n",
       "\n",
       "                                                  speaks  status  \n",
       "59941                                            english  single  \n",
       "59942                                 english (fluently)  single  \n",
       "59943                                 english (fluently)  single  \n",
       "59944  english (fluently), spanish (poorly), chinese ...  single  \n",
       "59945                                            english  single  \n",
       "\n",
       "[5 rows x 31 columns]"
      ]
     },
     "execution_count": 3,
     "metadata": {},
     "output_type": "execute_result"
    }
   ],
   "source": [
    "data.tail()"
   ]
  },
  {
   "cell_type": "code",
   "execution_count": 4,
   "metadata": {
    "slideshow": {
     "slide_type": "subslide"
    }
   },
   "outputs": [
    {
     "data": {
      "text/plain": [
       "(59946, 31)"
      ]
     },
     "execution_count": 4,
     "metadata": {},
     "output_type": "execute_result"
    }
   ],
   "source": [
    "data.shape"
   ]
  },
  {
   "cell_type": "code",
   "execution_count": 5,
   "metadata": {
    "slideshow": {
     "slide_type": "subslide"
    }
   },
   "outputs": [
    {
     "data": {
      "text/plain": [
       "1858326"
      ]
     },
     "execution_count": 5,
     "metadata": {},
     "output_type": "execute_result"
    }
   ],
   "source": [
    "data.size"
   ]
  },
  {
   "cell_type": "code",
   "execution_count": 12,
   "metadata": {
    "slideshow": {
     "slide_type": "subslide"
    }
   },
   "outputs": [
    {
     "data": {
      "text/plain": [
       "59946"
      ]
     },
     "execution_count": 12,
     "metadata": {},
     "output_type": "execute_result"
    }
   ],
   "source": [
    "len(data)"
   ]
  },
  {
   "cell_type": "code",
   "execution_count": 6,
   "metadata": {
    "slideshow": {
     "slide_type": "subslide"
    }
   },
   "outputs": [
    {
     "data": {
      "text/plain": [
       "Index(['age', 'body_type', 'diet', 'drinks', 'drugs', 'education', 'essay0',\n",
       "       'essay1', 'essay2', 'essay3', 'essay4', 'essay5', 'essay6', 'essay7',\n",
       "       'essay8', 'essay9', 'ethnicity', 'height', 'income', 'job',\n",
       "       'last_online', 'location', 'offspring', 'orientation', 'pets',\n",
       "       'religion', 'sex', 'sign', 'smokes', 'speaks', 'status'],\n",
       "      dtype='object')"
      ]
     },
     "execution_count": 6,
     "metadata": {},
     "output_type": "execute_result"
    }
   ],
   "source": [
    "data.columns"
   ]
  },
  {
   "cell_type": "code",
   "execution_count": 15,
   "metadata": {
    "slideshow": {
     "slide_type": "subslide"
    }
   },
   "outputs": [
    {
     "data": {
      "text/plain": [
       "32.3402895939679"
      ]
     },
     "execution_count": 15,
     "metadata": {},
     "output_type": "execute_result"
    }
   ],
   "source": [
    "data['age'].mean()"
   ]
  },
  {
   "cell_type": "code",
   "execution_count": 7,
   "metadata": {
    "slideshow": {
     "slide_type": "subslide"
    }
   },
   "outputs": [
    {
     "name": "stdout",
     "output_type": "stream",
     "text": [
      "35829 males (59.8%), 24117 females (40.2%)\n"
     ]
    }
   ],
   "source": [
    "m=data[data[\"sex\"]==\"m\"] # male users\n",
    "f=data[data[\"sex\"]==\"f\"] # female users\n",
    "print(\"{} males ({:.1%}), {} females ({:.1%})\".format(\n",
    "    len(m),len(m)/len(data),\n",
    "    len(f),len(f)/len(data)))"
   ]
  },
  {
   "cell_type": "code",
   "execution_count": 8,
   "metadata": {
    "slideshow": {
     "slide_type": "subslide"
    }
   },
   "outputs": [
    {
     "data": {
      "text/plain": [
       "doesn&rsquo;t have kids                                7560\n",
       "doesn&rsquo;t have kids, but might want them           3875\n",
       "doesn&rsquo;t have kids, but wants them                3565\n",
       "doesn&rsquo;t want kids                                2927\n",
       "has kids                                               1883\n",
       "has a kid                                              1881\n",
       "doesn&rsquo;t have kids, and doesn&rsquo;t want any    1132\n",
       "has kids, but doesn&rsquo;t want more                   442\n",
       "has a kid, but doesn&rsquo;t want more                  275\n",
       "has a kid, and might want more                          231\n",
       "wants kids                                              225\n",
       "might want kids                                         182\n",
       "has kids, and might want more                           115\n",
       "has a kid, and wants more                                71\n",
       "has kids, and wants more                                 21\n",
       "Name: offspring, dtype: int64"
      ]
     },
     "execution_count": 8,
     "metadata": {},
     "output_type": "execute_result"
    }
   ],
   "source": [
    "data['offspring'].value_counts()"
   ]
  },
  {
   "cell_type": "code",
   "execution_count": 9,
   "metadata": {
    "slideshow": {
     "slide_type": "subslide"
    }
   },
   "outputs": [],
   "source": [
    "sexual_orientation = data['orientation'].value_counts()"
   ]
  },
  {
   "cell_type": "code",
   "execution_count": 10,
   "metadata": {
    "slideshow": {
     "slide_type": "subslide"
    }
   },
   "outputs": [
    {
     "data": {
      "text/plain": [
       "<matplotlib.axes._subplots.AxesSubplot at 0x7fc47b20b7b8>"
      ]
     },
     "execution_count": 10,
     "metadata": {},
     "output_type": "execute_result"
    },
    {
     "data": {
      "image/png": "[encoded data removed]",
      "text/plain": [
       "<Figure size 432x288 with 1 Axes>"
      ]
     },
     "metadata": {},
     "output_type": "display_data"
    }
   ],
   "source": [
    "%matplotlib inline\n",
    "sexual_orientation.plot(kind=\"pie\")"
   ]
  },
  {
   "cell_type": "code",
   "execution_count": 11,
   "metadata": {
    "slideshow": {
     "slide_type": "subslide"
    }
   },
   "outputs": [
    {
     "name": "stdout",
     "output_type": "stream",
     "text": [
      "Age statistics:\n",
      "count    59946.000000\n",
      "mean        32.340290\n",
      "std          9.452779\n",
      "min         18.000000\n",
      "25%         26.000000\n",
      "50%         30.000000\n",
      "75%         37.000000\n",
      "max        110.000000\n",
      "Name: age, dtype: float64\n",
      "\n",
      "There are 2 users older than 80\n"
     ]
    }
   ],
   "source": [
    "print(\"Age statistics:\\n{}\".format(data[\"age\"].describe()))\n",
    "print()\n",
    "print(\"There are {} users older than 80\".format((data[\"age\"]>80).sum()))"
   ]
  },
  {
   "cell_type": "markdown",
   "metadata": {
    "slideshow": {
     "slide_type": "subslide"
    }
   },
   "source": [
    "\n",
    "## Prepare data: find the outliers\n",
    "\n",
    "Apparently we have one 110-year-old user, and only another one over-80. They might be outliers, let's have a look at their data.\n"
   ]
  },
  {
   "cell_type": "code",
   "execution_count": 12,
   "metadata": {
    "slideshow": {
     "slide_type": "subslide"
    }
   },
   "outputs": [
    {
     "data": {
      "text/html": [
       "<div>\n",
       "<style scoped>\n",
       "    .dataframe tbody tr th:only-of-type {\n",
       "        vertical-align: middle;\n",
       "    }\n",
       "\n",
       "    .dataframe tbody tr th {\n",
       "        vertical-align: top;\n",
       "    }\n",
       "\n",
       "    .dataframe thead th {\n",
       "        text-align: right;\n",
       "    }\n",
       "</style>\n",
       "<table border=\"1\" class=\"dataframe\">\n",
       "  <thead>\n",
       "    <tr style=\"text-align: right;\">\n",
       "      <th></th>\n",
       "      <th>age</th>\n",
       "      <th>body_type</th>\n",
       "      <th>diet</th>\n",
       "      <th>drinks</th>\n",
       "      <th>drugs</th>\n",
       "      <th>education</th>\n",
       "      <th>essay0</th>\n",
       "      <th>essay1</th>\n",
       "      <th>essay2</th>\n",
       "      <th>essay3</th>\n",
       "      <th>...</th>\n",
       "      <th>location</th>\n",
       "      <th>offspring</th>\n",
       "      <th>orientation</th>\n",
       "      <th>pets</th>\n",
       "      <th>religion</th>\n",
       "      <th>sex</th>\n",
       "      <th>sign</th>\n",
       "      <th>smokes</th>\n",
       "      <th>speaks</th>\n",
       "      <th>status</th>\n",
       "    </tr>\n",
       "  </thead>\n",
       "  <tbody>\n",
       "    <tr>\n",
       "      <th>2512</th>\n",
       "      <td>110</td>\n",
       "      <td>NaN</td>\n",
       "      <td>NaN</td>\n",
       "      <td>NaN</td>\n",
       "      <td>NaN</td>\n",
       "      <td>NaN</td>\n",
       "      <td>NaN</td>\n",
       "      <td>NaN</td>\n",
       "      <td>NaN</td>\n",
       "      <td>NaN</td>\n",
       "      <td>...</td>\n",
       "      <td>daly city, california</td>\n",
       "      <td>NaN</td>\n",
       "      <td>straight</td>\n",
       "      <td>NaN</td>\n",
       "      <td>NaN</td>\n",
       "      <td>f</td>\n",
       "      <td>NaN</td>\n",
       "      <td>NaN</td>\n",
       "      <td>english</td>\n",
       "      <td>single</td>\n",
       "    </tr>\n",
       "    <tr>\n",
       "      <th>25324</th>\n",
       "      <td>109</td>\n",
       "      <td>athletic</td>\n",
       "      <td>mostly other</td>\n",
       "      <td>NaN</td>\n",
       "      <td>never</td>\n",
       "      <td>working on masters program</td>\n",
       "      <td>NaN</td>\n",
       "      <td>NaN</td>\n",
       "      <td>NaN</td>\n",
       "      <td>nothing</td>\n",
       "      <td>...</td>\n",
       "      <td>san francisco, california</td>\n",
       "      <td>might want kids</td>\n",
       "      <td>straight</td>\n",
       "      <td>NaN</td>\n",
       "      <td>other and somewhat serious about it</td>\n",
       "      <td>m</td>\n",
       "      <td>aquarius but it doesn&amp;rsquo;t matter</td>\n",
       "      <td>when drinking</td>\n",
       "      <td>english (okay)</td>\n",
       "      <td>available</td>\n",
       "    </tr>\n",
       "  </tbody>\n",
       "</table>\n",
       "<p>2 rows × 31 columns</p>\n",
       "</div>"
      ],
      "text/plain": [
       "       age body_type          diet drinks  drugs                   education  \\\n",
       "2512   110       NaN           NaN    NaN    NaN                         NaN   \n",
       "25324  109  athletic  mostly other    NaN  never  working on masters program   \n",
       "\n",
       "      essay0 essay1 essay2   essay3    ...                       location  \\\n",
       "2512     NaN    NaN    NaN      NaN    ...          daly city, california   \n",
       "25324    NaN    NaN    NaN  nothing    ...      san francisco, california   \n",
       "\n",
       "             offspring orientation pets                             religion  \\\n",
       "2512               NaN    straight  NaN                                  NaN   \n",
       "25324  might want kids    straight  NaN  other and somewhat serious about it   \n",
       "\n",
       "      sex                                  sign         smokes  \\\n",
       "2512    f                                   NaN            NaN   \n",
       "25324   m  aquarius but it doesn&rsquo;t matter  when drinking   \n",
       "\n",
       "               speaks     status  \n",
       "2512          english     single  \n",
       "25324  english (okay)  available  \n",
       "\n",
       "[2 rows x 31 columns]"
      ]
     },
     "execution_count": 12,
     "metadata": {},
     "output_type": "execute_result"
    }
   ],
   "source": [
    "data[data[\"age\"]>80].head()"
   ]
  },
  {
   "cell_type": "markdown",
   "metadata": {
    "slideshow": {
     "slide_type": "subslide"
    }
   },
   "source": [
    "Let's assume the 110-year-old lady and the athletic 109-year-old gentleman (who's working on a masters program) are outliers: we get rid of them so the following plots look better. They didn't say much else about themselves, anyway."
   ]
  },
  {
   "cell_type": "code",
   "execution_count": 15,
   "metadata": {
    "slideshow": {
     "slide_type": "subslide"
    }
   },
   "outputs": [
    {
     "name": "stdout",
     "output_type": "stream",
     "text": [
      "The dataset now contains 59944 records\n",
      "35828 males (59.8%), 24116 females (40.2%)\n",
      "\n",
      "Age statistics:\n",
      "count    59944.000000\n",
      "mean        32.337715\n",
      "std          9.442423\n",
      "min         18.000000\n",
      "25%         26.000000\n",
      "50%         30.000000\n",
      "75%         37.000000\n",
      "max         69.000000\n",
      "Name: age, dtype: float64\n"
     ]
    }
   ],
   "source": [
    "data=data[data[\"age\"]<=80] # sorry guys\n",
    "\n",
    "print(\"The dataset now contains {} records\".format(len(data)))\n",
    "\n",
    "m=data[data[\"sex\"]==\"m\"] # male users\n",
    "f=data[data[\"sex\"]==\"f\"] # female users\n",
    "print(\"{} males ({:.1%}), {} females ({:.1%})\".format(\n",
    "    len(m),len(m)/len(data),\n",
    "    len(f),len(f)/len(data)))\n",
    "\n",
    "print()\n",
    "print(\"Age statistics:\\n{}\".format(data[\"age\"].describe()))"
   ]
  },
  {
   "cell_type": "code",
   "execution_count": 16,
   "metadata": {
    "slideshow": {
     "slide_type": "subslide"
    }
   },
   "outputs": [
    {
     "data": {
      "image/png": "[encoded data removed]",
      "text/plain": [
       "<Figure size 720x216 with 2 Axes>"
      ]
     },
     "metadata": {},
     "output_type": "display_data"
    }
   ],
   "source": [
    "fig,(ax1,ax2) = plt.subplots(ncols=2,figsize=(10,3),sharey=True,sharex=True)\n",
    "sns.distplot(m[\"age\"], ax=ax1,\n",
    "             bins=range(data[\"age\"].min(),data[\"age\"].max()),\n",
    "             kde=False,\n",
    "             color=\"b\")\n",
    "ax1.set_title(\"Age distribution for males\")\n",
    "sns.distplot(f[\"age\"], ax=ax2,\n",
    "             bins=range(data[\"age\"].min(),data[\"age\"].max()),\n",
    "             kde=False,\n",
    "             color=\"r\")\n",
    "ax2.set_title(\"Age distribution for females\")\n",
    "ax1.set_ylabel(\"Number of users in age group\")\n",
    "for ax in (ax1,ax2):\n",
    "    sns.despine(ax=ax)\n",
    "fig.tight_layout()"
   ]
  },
  {
   "cell_type": "markdown",
   "metadata": {
    "slideshow": {
     "slide_type": "subslide"
    }
   },
   "source": [
    "Note that both distributions are [right-skewed](https://en.wikipedia.org/wiki/Skewness).  Then, as is often (but [not always](http://ww2.amstat.org/publications/jse/v13n2/vonhippel.html)!) the case, the mean is larger than the median."
   ]
  },
  {
   "cell_type": "code",
   "execution_count": 17,
   "metadata": {
    "slideshow": {
     "slide_type": "subslide"
    }
   },
   "outputs": [
    {
     "name": "stdout",
     "output_type": "stream",
     "text": [
      "Mean and median age for males:   32.02, 30.00\n",
      "Mean and median age for females: 32.82, 30.00\n"
     ]
    }
   ],
   "source": [
    "print(\"Mean and median age for males:   {:.2f}, {:.2f}\".format(m[\"age\"].mean(),m[\"age\"].median()))\n",
    "print(\"Mean and median age for females: {:.2f}, {:.2f}\".format(f[\"age\"].mean(),f[\"age\"].median()))"
   ]
  },
  {
   "cell_type": "markdown",
   "metadata": {
    "slideshow": {
     "slide_type": "subslide"
    }
   },
   "source": [
    "Females seem to be on average slightly older than males. Let's compare the age distributions in a single plot"
   ]
  },
  {
   "cell_type": "code",
   "execution_count": 74,
   "metadata": {
    "slideshow": {
     "slide_type": "subslide"
    }
   },
   "outputs": [
    {
     "name": "stderr",
     "output_type": "stream",
     "text": [
      "/home/mkspk/anaconda3/envs/ds1_workshop/lib/python3.6/site-packages/matplotlib/__init__.py:1867: MatplotlibDeprecationWarning: The *left* kwarg to `bar` is deprecated use *x* instead. Support for *left* will be removed in Matplotlib 3.0\n",
      "  return func(ax, *args, **kwargs)\n"
     ]
    },
    {
     "data": {
      "image/png": "[encoded data removed]",
      "text/plain": [
       "<Figure size 720x432 with 2 Axes>"
      ]
     },
     "metadata": {},
     "output_type": "display_data"
    }
   ],
   "source": [
    "fig,(ax1,ax2) = plt.subplots(nrows=2,figsize=(10,6),sharex=True)\n",
    "\n",
    "# Plot the age distributions of males and females on the same axis\n",
    "sns.distplot(m[\"age\"], ax=ax1,\n",
    "             bins=range(data[\"age\"].min(),data[\"age\"].max()),\n",
    "             kde=False,\n",
    "             color=\"b\",\n",
    "             label=\"males\")\n",
    "sns.distplot(f[\"age\"], ax=ax1,\n",
    "             bins=range(data[\"age\"].min(),data[\"age\"].max()),\n",
    "             kde=False,\n",
    "             color=\"r\",\n",
    "             label=\"females\")\n",
    "ax1.set_ylabel(\"Number of users in age group\")\n",
    "ax1.set_xlabel(\"\")\n",
    "ax1.legend()\n",
    "\n",
    "# Compute the fraction of males for every age value\n",
    "fraction_of_males=(m[\"age\"].value_counts()/data[\"age\"].value_counts())\n",
    "# Ignore values computed from age groups in which we have less than 100 total users (else estimates are too unstable)\n",
    "fraction_of_males[data[\"age\"].value_counts()<100]=None\n",
    "barlist=ax2.bar(left=fraction_of_males.index,\n",
    "        height=fraction_of_males*100-50,\n",
    "        bottom=50, width=1, color=\"gray\")\n",
    "for bar,frac in zip(barlist,fraction_of_males):\n",
    "    bar.set_color(\"b\" if frac>.5 else \"r\")\n",
    "    bar.set_alpha(0.4)\n",
    "ax2.set_xlim([18,70])\n",
    "ax2.set_xlabel(\"age\")\n",
    "ax2.set_ylabel(\"percentage of males in age group\")\n",
    "ax2.axhline(y=50,color=\"k\")\n",
    "\n",
    "for ax in (ax1,ax2):\n",
    "    sns.despine(ax=ax)\n",
    "fig.tight_layout()"
   ]
  },
  {
   "cell_type": "markdown",
   "metadata": {
    "slideshow": {
     "slide_type": "subslide"
    }
   },
   "source": [
    "Over-60 users are not many, but in this group there are significantly more females than males.  This may be explained by the fact that, in this age group, there are more females than males in the general population.\n",
    "\n",
    "![USA by Sex and Age 2015-07-01](https://upload.wikimedia.org/wikipedia/commons/thumb/0/03/USA_by_Sex_and_Age_2015-07-01.svg/512px-USA_by_Sex_and_Age_2015-07-01.svg.png)\n",
    "[Picture](https://commons.wikimedia.org/wiki/File%3AUSA_by_Sex_and_Age_2015-07-01.svg) By Delphi234 (Own work) [CC0], via [Wikimedia Commons](https://commons.wikimedia.org).\n",
    "\n",
    "On this topic, also see page 5 of the [2010 US Census Brief on Age and Sex Composition](http://www.census.gov/prod/cen2010/briefs/c2010br-03.pdf).  The ratio between males and females in a given population is called [Sex Ratio](https://en.wikipedia.org/wiki/Sex_ratio)."
   ]
  },
  {
   "cell_type": "markdown",
   "metadata": {
    "slideshow": {
     "slide_type": "subslide"
    }
   },
   "source": [
    "## Let's study height distribution\n",
    "\n",
    "We first plot the height distribution for males and females in the whole dataset"
   ]
  },
  {
   "cell_type": "code",
   "execution_count": 19,
   "metadata": {
    "slideshow": {
     "slide_type": "subslide"
    }
   },
   "outputs": [
    {
     "data": {
      "image/png": "[encoded data removed]",
      "text/plain": [
       "<Figure size 432x432 with 2 Axes>"
      ]
     },
     "metadata": {},
     "output_type": "display_data"
    }
   ],
   "source": [
    "fig,(ax,ax2) = plt.subplots(nrows=2,sharex=True,figsize=(6,6),gridspec_kw={'height_ratios':[2,1]})\n",
    "\n",
    "# Plot histograms of height\n",
    "bins=range(55,80)\n",
    "sns.distplot(m[\"height\"].dropna(), ax=ax,\n",
    "             bins=bins,\n",
    "             kde=False,\n",
    "             color=\"b\",\n",
    "             label=\"males\")\n",
    "sns.distplot(f[\"height\"].dropna(), ax=ax,\n",
    "             bins=bins,\n",
    "             kde=False,\n",
    "             color=\"r\",\n",
    "             label=\"females\")\n",
    "ax.legend(loc=\"upper left\")\n",
    "ax.set_xlabel(\"\")\n",
    "ax.set_ylabel(\"Number of users with given height\")\n",
    "ax.set_title(\"height distribution of male and female users\");\n",
    "\n",
    "# Make aligned boxplots\n",
    "sns.boxplot(data=data,y=\"sex\",x=\"height\",orient=\"h\",ax=ax2,palette={\"m\":\"b\",\"f\":\"r\"})\n",
    "plt.setp(ax2.artists, alpha=.5)\n",
    "ax2.set_xlim([min(bins),max(bins)])\n",
    "ax2.set_xlabel(\"Self-reported height [inches]\")\n",
    "\n",
    "sns.despine(ax=ax)\n",
    "fig.tight_layout()"
   ]
  },
  {
   "cell_type": "markdown",
   "metadata": {
    "slideshow": {
     "slide_type": "subslide"
    }
   },
   "source": [
    "Males are obviously taller than females, and the two distributions make sense.\n",
    "\n",
    "How does this compare with general population data?  Are OkCupid users maybe cheating and overreporting their height?\n",
    "\n",
    "The US Centers of Disease Control and Prevention ([CDC](https://www.cdc.gov/)) publishes [growth charts](https://www.cdc.gov/growthcharts/), which contain height data for the general US population.  The dataset reports statistics (3rd, 5th, 10th, 25th, 50th, 75th, 90th, 95th, 97th percentiles) for stature for different ages from 2 to 20 years.  This (and more) data is plotted by the CDC in [these beautiful charts](https://www.cdc.gov/growthcharts/data/set2clinical/set2color.pdf)."
   ]
  },
  {
   "cell_type": "code",
   "execution_count": 20,
   "metadata": {
    "slideshow": {
     "slide_type": "subslide"
    }
   },
   "outputs": [
    {
     "name": "stdout",
     "output_type": "stream",
     "text": [
      "First 10 rows of raw cdc growth chart data\n"
     ]
    },
    {
     "data": {
      "text/html": [
       "<div>\n",
       "<style scoped>\n",
       "    .dataframe tbody tr th:only-of-type {\n",
       "        vertical-align: middle;\n",
       "    }\n",
       "\n",
       "    .dataframe tbody tr th {\n",
       "        vertical-align: top;\n",
       "    }\n",
       "\n",
       "    .dataframe thead th {\n",
       "        text-align: right;\n",
       "    }\n",
       "</style>\n",
       "<table border=\"1\" class=\"dataframe\">\n",
       "  <thead>\n",
       "    <tr style=\"text-align: right;\">\n",
       "      <th></th>\n",
       "      <th>Sex</th>\n",
       "      <th>Agemos</th>\n",
       "      <th>L</th>\n",
       "      <th>M</th>\n",
       "      <th>S</th>\n",
       "      <th>P3</th>\n",
       "      <th>P5</th>\n",
       "      <th>P10</th>\n",
       "      <th>P25</th>\n",
       "      <th>P50</th>\n",
       "      <th>P75</th>\n",
       "      <th>P90</th>\n",
       "      <th>P95</th>\n",
       "      <th>P97</th>\n",
       "    </tr>\n",
       "  </thead>\n",
       "  <tbody>\n",
       "    <tr>\n",
       "      <th>0</th>\n",
       "      <td>1</td>\n",
       "      <td>24.0</td>\n",
       "      <td>0.941524</td>\n",
       "      <td>86.452201</td>\n",
       "      <td>0.040322</td>\n",
       "      <td>79.910844</td>\n",
       "      <td>80.729773</td>\n",
       "      <td>81.991714</td>\n",
       "      <td>84.102892</td>\n",
       "      <td>86.452201</td>\n",
       "      <td>88.805249</td>\n",
       "      <td>90.926191</td>\n",
       "      <td>92.196879</td>\n",
       "      <td>93.022654</td>\n",
       "    </tr>\n",
       "    <tr>\n",
       "      <th>1</th>\n",
       "      <td>1</td>\n",
       "      <td>24.5</td>\n",
       "      <td>1.007208</td>\n",
       "      <td>86.861609</td>\n",
       "      <td>0.040396</td>\n",
       "      <td>80.260371</td>\n",
       "      <td>81.088685</td>\n",
       "      <td>82.364010</td>\n",
       "      <td>84.494706</td>\n",
       "      <td>86.861609</td>\n",
       "      <td>89.228048</td>\n",
       "      <td>91.357530</td>\n",
       "      <td>92.631767</td>\n",
       "      <td>93.459230</td>\n",
       "    </tr>\n",
       "    <tr>\n",
       "      <th>2</th>\n",
       "      <td>1</td>\n",
       "      <td>25.5</td>\n",
       "      <td>0.837251</td>\n",
       "      <td>87.652473</td>\n",
       "      <td>0.040578</td>\n",
       "      <td>81.005294</td>\n",
       "      <td>81.834452</td>\n",
       "      <td>83.113871</td>\n",
       "      <td>85.258877</td>\n",
       "      <td>87.652473</td>\n",
       "      <td>90.056755</td>\n",
       "      <td>92.229661</td>\n",
       "      <td>93.534066</td>\n",
       "      <td>94.382780</td>\n",
       "    </tr>\n",
       "    <tr>\n",
       "      <th>3</th>\n",
       "      <td>1</td>\n",
       "      <td>26.5</td>\n",
       "      <td>0.681493</td>\n",
       "      <td>88.423264</td>\n",
       "      <td>0.040723</td>\n",
       "      <td>81.734157</td>\n",
       "      <td>82.564061</td>\n",
       "      <td>83.847162</td>\n",
       "      <td>86.005173</td>\n",
       "      <td>88.423264</td>\n",
       "      <td>90.862604</td>\n",
       "      <td>93.076082</td>\n",
       "      <td>94.408849</td>\n",
       "      <td>95.277617</td>\n",
       "    </tr>\n",
       "    <tr>\n",
       "      <th>4</th>\n",
       "      <td>1</td>\n",
       "      <td>27.5</td>\n",
       "      <td>0.538780</td>\n",
       "      <td>89.175492</td>\n",
       "      <td>0.040833</td>\n",
       "      <td>82.448456</td>\n",
       "      <td>83.278986</td>\n",
       "      <td>84.565344</td>\n",
       "      <td>86.735069</td>\n",
       "      <td>89.175492</td>\n",
       "      <td>91.647114</td>\n",
       "      <td>93.898271</td>\n",
       "      <td>95.257541</td>\n",
       "      <td>96.145118</td>\n",
       "    </tr>\n",
       "    <tr>\n",
       "      <th>5</th>\n",
       "      <td>1</td>\n",
       "      <td>28.5</td>\n",
       "      <td>0.407697</td>\n",
       "      <td>89.910409</td>\n",
       "      <td>0.040909</td>\n",
       "      <td>83.149450</td>\n",
       "      <td>83.980453</td>\n",
       "      <td>85.269620</td>\n",
       "      <td>87.449772</td>\n",
       "      <td>89.910409</td>\n",
       "      <td>92.411590</td>\n",
       "      <td>94.697570</td>\n",
       "      <td>96.081488</td>\n",
       "      <td>96.986625</td>\n",
       "    </tr>\n",
       "    <tr>\n",
       "      <th>6</th>\n",
       "      <td>1</td>\n",
       "      <td>29.5</td>\n",
       "      <td>0.286762</td>\n",
       "      <td>90.629078</td>\n",
       "      <td>0.040952</td>\n",
       "      <td>83.838194</td>\n",
       "      <td>84.669484</td>\n",
       "      <td>85.960983</td>\n",
       "      <td>88.150284</td>\n",
       "      <td>90.629078</td>\n",
       "      <td>93.157190</td>\n",
       "      <td>95.475221</td>\n",
       "      <td>96.881980</td>\n",
       "      <td>97.803453</td>\n",
       "    </tr>\n",
       "    <tr>\n",
       "      <th>7</th>\n",
       "      <td>1</td>\n",
       "      <td>30.5</td>\n",
       "      <td>0.174489</td>\n",
       "      <td>91.332424</td>\n",
       "      <td>0.040965</td>\n",
       "      <td>84.515583</td>\n",
       "      <td>85.346943</td>\n",
       "      <td>86.640272</td>\n",
       "      <td>88.837454</td>\n",
       "      <td>91.332424</td>\n",
       "      <td>93.884956</td>\n",
       "      <td>96.232394</td>\n",
       "      <td>97.660267</td>\n",
       "      <td>98.596905</td>\n",
       "    </tr>\n",
       "    <tr>\n",
       "      <th>8</th>\n",
       "      <td>1</td>\n",
       "      <td>31.5</td>\n",
       "      <td>0.069445</td>\n",
       "      <td>92.021272</td>\n",
       "      <td>0.040950</td>\n",
       "      <td>85.182380</td>\n",
       "      <td>86.013566</td>\n",
       "      <td>87.308201</td>\n",
       "      <td>89.512019</td>\n",
       "      <td>92.021272</td>\n",
       "      <td>94.595854</td>\n",
       "      <td>96.970215</td>\n",
       "      <td>98.417579</td>\n",
       "      <td>99.368283</td>\n",
       "    </tr>\n",
       "    <tr>\n",
       "      <th>9</th>\n",
       "      <td>1</td>\n",
       "      <td>32.5</td>\n",
       "      <td>-0.029721</td>\n",
       "      <td>92.696379</td>\n",
       "      <td>0.040909</td>\n",
       "      <td>85.839250</td>\n",
       "      <td>86.669993</td>\n",
       "      <td>87.965401</td>\n",
       "      <td>90.174637</td>\n",
       "      <td>92.696379</td>\n",
       "      <td>95.290799</td>\n",
       "      <td>97.689781</td>\n",
       "      <td>99.155138</td>\n",
       "      <td>100.118893</td>\n",
       "    </tr>\n",
       "  </tbody>\n",
       "</table>\n",
       "</div>"
      ],
      "text/plain": [
       "   Sex  Agemos         L          M         S         P3         P5  \\\n",
       "0    1    24.0  0.941524  86.452201  0.040322  79.910844  80.729773   \n",
       "1    1    24.5  1.007208  86.861609  0.040396  80.260371  81.088685   \n",
       "2    1    25.5  0.837251  87.652473  0.040578  81.005294  81.834452   \n",
       "3    1    26.5  0.681493  88.423264  0.040723  81.734157  82.564061   \n",
       "4    1    27.5  0.538780  89.175492  0.040833  82.448456  83.278986   \n",
       "5    1    28.5  0.407697  89.910409  0.040909  83.149450  83.980453   \n",
       "6    1    29.5  0.286762  90.629078  0.040952  83.838194  84.669484   \n",
       "7    1    30.5  0.174489  91.332424  0.040965  84.515583  85.346943   \n",
       "8    1    31.5  0.069445  92.021272  0.040950  85.182380  86.013566   \n",
       "9    1    32.5 -0.029721  92.696379  0.040909  85.839250  86.669993   \n",
       "\n",
       "         P10        P25        P50        P75        P90        P95  \\\n",
       "0  81.991714  84.102892  86.452201  88.805249  90.926191  92.196879   \n",
       "1  82.364010  84.494706  86.861609  89.228048  91.357530  92.631767   \n",
       "2  83.113871  85.258877  87.652473  90.056755  92.229661  93.534066   \n",
       "3  83.847162  86.005173  88.423264  90.862604  93.076082  94.408849   \n",
       "4  84.565344  86.735069  89.175492  91.647114  93.898271  95.257541   \n",
       "5  85.269620  87.449772  89.910409  92.411590  94.697570  96.081488   \n",
       "6  85.960983  88.150284  90.629078  93.157190  95.475221  96.881980   \n",
       "7  86.640272  88.837454  91.332424  93.884956  96.232394  97.660267   \n",
       "8  87.308201  89.512019  92.021272  94.595854  96.970215  98.417579   \n",
       "9  87.965401  90.174637  92.696379  95.290799  97.689781  99.155138   \n",
       "\n",
       "          P97  \n",
       "0   93.022654  \n",
       "1   93.459230  \n",
       "2   94.382780  \n",
       "3   95.277617  \n",
       "4   96.145118  \n",
       "5   96.986625  \n",
       "6   97.803453  \n",
       "7   98.596905  \n",
       "8   99.368283  \n",
       "9  100.118893  "
      ]
     },
     "metadata": {},
     "output_type": "display_data"
    }
   ],
   "source": [
    "# Import a CSV file for growth chart data\n",
    "cdc=pd.read_csv(\"https://www.cdc.gov/growthcharts/data/zscore/statage.csv\")\n",
    "\n",
    "print(\"First 10 rows of raw cdc growth chart data\")\n",
    "display(cdc.head(10))"
   ]
  },
  {
   "cell_type": "code",
   "execution_count": 21,
   "metadata": {},
   "outputs": [
    {
     "name": "stdout",
     "output_type": "stream",
     "text": [
      "Height Percentiles for 20-year-old US population [inches]\n"
     ]
    },
    {
     "data": {
      "text/html": [
       "<div>\n",
       "<style scoped>\n",
       "    .dataframe tbody tr th:only-of-type {\n",
       "        vertical-align: middle;\n",
       "    }\n",
       "\n",
       "    .dataframe tbody tr th {\n",
       "        vertical-align: top;\n",
       "    }\n",
       "\n",
       "    .dataframe thead th {\n",
       "        text-align: right;\n",
       "    }\n",
       "</style>\n",
       "<table border=\"1\" class=\"dataframe\">\n",
       "  <thead>\n",
       "    <tr style=\"text-align: right;\">\n",
       "      <th></th>\n",
       "      <th>P3</th>\n",
       "      <th>P5</th>\n",
       "      <th>P10</th>\n",
       "      <th>P25</th>\n",
       "      <th>P50</th>\n",
       "      <th>P75</th>\n",
       "      <th>P90</th>\n",
       "      <th>P95</th>\n",
       "      <th>P97</th>\n",
       "    </tr>\n",
       "    <tr>\n",
       "      <th>Sex</th>\n",
       "      <th></th>\n",
       "      <th></th>\n",
       "      <th></th>\n",
       "      <th></th>\n",
       "      <th></th>\n",
       "      <th></th>\n",
       "      <th></th>\n",
       "      <th></th>\n",
       "      <th></th>\n",
       "    </tr>\n",
       "  </thead>\n",
       "  <tbody>\n",
       "    <tr>\n",
       "      <th>m</th>\n",
       "      <td>64.304496</td>\n",
       "      <td>64.975961</td>\n",
       "      <td>66.007627</td>\n",
       "      <td>67.725520</td>\n",
       "      <td>69.625720</td>\n",
       "      <td>71.517283</td>\n",
       "      <td>73.212615</td>\n",
       "      <td>74.224061</td>\n",
       "      <td>74.879691</td>\n",
       "    </tr>\n",
       "    <tr>\n",
       "      <th>f</th>\n",
       "      <td>59.492618</td>\n",
       "      <td>60.098742</td>\n",
       "      <td>61.030770</td>\n",
       "      <td>62.584736</td>\n",
       "      <td>64.306433</td>\n",
       "      <td>66.023163</td>\n",
       "      <td>67.564157</td>\n",
       "      <td>68.484561</td>\n",
       "      <td>69.081584</td>\n",
       "    </tr>\n",
       "  </tbody>\n",
       "</table>\n",
       "</div>"
      ],
      "text/plain": [
       "            P3         P5        P10        P25        P50        P75  \\\n",
       "Sex                                                                     \n",
       "m    64.304496  64.975961  66.007627  67.725520  69.625720  71.517283   \n",
       "f    59.492618  60.098742  61.030770  62.584736  64.306433  66.023163   \n",
       "\n",
       "           P90        P95        P97  \n",
       "Sex                                   \n",
       "m    73.212615  74.224061  74.879691  \n",
       "f    67.564157  68.484561  69.081584  "
      ]
     },
     "metadata": {},
     "output_type": "display_data"
    }
   ],
   "source": [
    "# Adjust the data to fit our format\n",
    "cdc[\"Age\"]=cdc[\"Agemos\"]/12 # convert age in months to age in fractional years\n",
    "cdc[\"Sex\"]=cdc[\"Sex\"].replace({1:\"m\",2:\"f\"}) # align to our convention\n",
    "percentiles=[3,5,10,25,50,75,90,95,97]\n",
    "percentile_columns=[\"P\"+str(p) for p in percentiles] # names of percentile columns\n",
    "cdc[percentile_columns]=cdc[percentile_columns]*0.393701 # convert percentile columns from centimeters to inches (ugh)\n",
    "cdc20=cdc[cdc[\"Age\"]==20].set_index(\"Sex\") # Select the two rows corresponding to 20-year-olds (males and females)\n",
    "\n",
    "print(\"Height Percentiles for 20-year-old US population [inches]\")\n",
    "display(cdc20[percentile_columns].head(10))"
   ]
  },
  {
   "cell_type": "markdown",
   "metadata": {
    "slideshow": {
     "slide_type": "subslide"
    }
   },
   "source": [
    "Let's compare the stats for reported heights of our 20-year-olds to the CDC stats for 20-year-olds.\n",
    "\n",
    "Note that OKCupid height data are integers, which also causes all percentiles to be integer values. To fix this, we jitter the data by ±0.5\n",
    "inches by adding random uniformly distributed noise in the range [−0.5,+0.5] (which won't affect the mean, but will smooth the percentiles). This makes sense if we assume that users reported their height rounded to the nearest inch."
   ]
  },
  {
   "cell_type": "code",
   "execution_count": 22,
   "metadata": {
    "slideshow": {
     "slide_type": "subslide"
    }
   },
   "outputs": [
    {
     "name": "stdout",
     "output_type": "stream",
     "text": [
      "Height percentiles (in inches) for 20-year-old males\n"
     ]
    },
    {
     "data": {
      "text/html": [
       "<div>\n",
       "<style scoped>\n",
       "    .dataframe tbody tr th:only-of-type {\n",
       "        vertical-align: middle;\n",
       "    }\n",
       "\n",
       "    .dataframe tbody tr th {\n",
       "        vertical-align: top;\n",
       "    }\n",
       "\n",
       "    .dataframe thead th {\n",
       "        text-align: right;\n",
       "    }\n",
       "</style>\n",
       "<table border=\"1\" class=\"dataframe\">\n",
       "  <thead>\n",
       "    <tr style=\"text-align: right;\">\n",
       "      <th></th>\n",
       "      <th>CDC</th>\n",
       "      <th>users</th>\n",
       "      <th>gap</th>\n",
       "    </tr>\n",
       "    <tr>\n",
       "      <th>percentile</th>\n",
       "      <th></th>\n",
       "      <th></th>\n",
       "      <th></th>\n",
       "    </tr>\n",
       "  </thead>\n",
       "  <tbody>\n",
       "    <tr>\n",
       "      <th>3</th>\n",
       "      <td>64.304496</td>\n",
       "      <td>64.778205</td>\n",
       "      <td>0.473709</td>\n",
       "    </tr>\n",
       "    <tr>\n",
       "      <th>5</th>\n",
       "      <td>64.975961</td>\n",
       "      <td>65.585705</td>\n",
       "      <td>0.609744</td>\n",
       "    </tr>\n",
       "    <tr>\n",
       "      <th>10</th>\n",
       "      <td>66.007627</td>\n",
       "      <td>66.141780</td>\n",
       "      <td>0.134153</td>\n",
       "    </tr>\n",
       "    <tr>\n",
       "      <th>25</th>\n",
       "      <td>67.725520</td>\n",
       "      <td>67.870972</td>\n",
       "      <td>0.145453</td>\n",
       "    </tr>\n",
       "    <tr>\n",
       "      <th>50</th>\n",
       "      <td>69.625720</td>\n",
       "      <td>70.275608</td>\n",
       "      <td>0.649889</td>\n",
       "    </tr>\n",
       "    <tr>\n",
       "      <th>75</th>\n",
       "      <td>71.517283</td>\n",
       "      <td>72.166533</td>\n",
       "      <td>0.649251</td>\n",
       "    </tr>\n",
       "    <tr>\n",
       "      <th>90</th>\n",
       "      <td>73.212615</td>\n",
       "      <td>74.248244</td>\n",
       "      <td>1.035630</td>\n",
       "    </tr>\n",
       "    <tr>\n",
       "      <th>95</th>\n",
       "      <td>74.224061</td>\n",
       "      <td>75.238792</td>\n",
       "      <td>1.014732</td>\n",
       "    </tr>\n",
       "    <tr>\n",
       "      <th>97</th>\n",
       "      <td>74.879691</td>\n",
       "      <td>76.191972</td>\n",
       "      <td>1.312281</td>\n",
       "    </tr>\n",
       "  </tbody>\n",
       "</table>\n",
       "</div>"
      ],
      "text/plain": [
       "                  CDC      users       gap\n",
       "percentile                                \n",
       "3           64.304496  64.778205  0.473709\n",
       "5           64.975961  65.585705  0.609744\n",
       "10          66.007627  66.141780  0.134153\n",
       "25          67.725520  67.870972  0.145453\n",
       "50          69.625720  70.275608  0.649889\n",
       "75          71.517283  72.166533  0.649251\n",
       "90          73.212615  74.248244  1.035630\n",
       "95          74.224061  75.238792  1.014732\n",
       "97          74.879691  76.191972  1.312281"
      ]
     },
     "metadata": {},
     "output_type": "display_data"
    },
    {
     "name": "stdout",
     "output_type": "stream",
     "text": [
      "Height percentiles (in inches) for 20-year-old females\n"
     ]
    },
    {
     "data": {
      "text/html": [
       "<div>\n",
       "<style scoped>\n",
       "    .dataframe tbody tr th:only-of-type {\n",
       "        vertical-align: middle;\n",
       "    }\n",
       "\n",
       "    .dataframe tbody tr th {\n",
       "        vertical-align: top;\n",
       "    }\n",
       "\n",
       "    .dataframe thead th {\n",
       "        text-align: right;\n",
       "    }\n",
       "</style>\n",
       "<table border=\"1\" class=\"dataframe\">\n",
       "  <thead>\n",
       "    <tr style=\"text-align: right;\">\n",
       "      <th></th>\n",
       "      <th>CDC</th>\n",
       "      <th>users</th>\n",
       "      <th>gap</th>\n",
       "    </tr>\n",
       "    <tr>\n",
       "      <th>percentile</th>\n",
       "      <th></th>\n",
       "      <th></th>\n",
       "      <th></th>\n",
       "    </tr>\n",
       "  </thead>\n",
       "  <tbody>\n",
       "    <tr>\n",
       "      <th>3</th>\n",
       "      <td>59.492618</td>\n",
       "      <td>59.633304</td>\n",
       "      <td>0.140686</td>\n",
       "    </tr>\n",
       "    <tr>\n",
       "      <th>5</th>\n",
       "      <td>60.098742</td>\n",
       "      <td>60.289281</td>\n",
       "      <td>0.190539</td>\n",
       "    </tr>\n",
       "    <tr>\n",
       "      <th>10</th>\n",
       "      <td>61.030770</td>\n",
       "      <td>61.152102</td>\n",
       "      <td>0.121332</td>\n",
       "    </tr>\n",
       "    <tr>\n",
       "      <th>25</th>\n",
       "      <td>62.584736</td>\n",
       "      <td>62.807224</td>\n",
       "      <td>0.222488</td>\n",
       "    </tr>\n",
       "    <tr>\n",
       "      <th>50</th>\n",
       "      <td>64.306433</td>\n",
       "      <td>64.922767</td>\n",
       "      <td>0.616334</td>\n",
       "    </tr>\n",
       "    <tr>\n",
       "      <th>75</th>\n",
       "      <td>66.023163</td>\n",
       "      <td>66.637716</td>\n",
       "      <td>0.614553</td>\n",
       "    </tr>\n",
       "    <tr>\n",
       "      <th>90</th>\n",
       "      <td>67.564157</td>\n",
       "      <td>68.346083</td>\n",
       "      <td>0.781926</td>\n",
       "    </tr>\n",
       "    <tr>\n",
       "      <th>95</th>\n",
       "      <td>68.484561</td>\n",
       "      <td>69.494134</td>\n",
       "      <td>1.009573</td>\n",
       "    </tr>\n",
       "    <tr>\n",
       "      <th>97</th>\n",
       "      <td>69.081584</td>\n",
       "      <td>70.101287</td>\n",
       "      <td>1.019703</td>\n",
       "    </tr>\n",
       "  </tbody>\n",
       "</table>\n",
       "</div>"
      ],
      "text/plain": [
       "                  CDC      users       gap\n",
       "percentile                                \n",
       "3           59.492618  59.633304  0.140686\n",
       "5           60.098742  60.289281  0.190539\n",
       "10          61.030770  61.152102  0.121332\n",
       "25          62.584736  62.807224  0.222488\n",
       "50          64.306433  64.922767  0.616334\n",
       "75          66.023163  66.637716  0.614553\n",
       "90          67.564157  68.346083  0.781926\n",
       "95          68.484561  69.494134  1.009573\n",
       "97          69.081584  70.101287  1.019703"
      ]
     },
     "metadata": {},
     "output_type": "display_data"
    }
   ],
   "source": [
    "mheights=m.loc[m[\"age\"]==20,\"height\"] # heights of 20-year-old males\n",
    "fheights=f.loc[f[\"age\"]==20,\"height\"] # heights of 20-year-old females\n",
    "\n",
    "# To smooth the computation of percentiles, jitter height data by adding\n",
    "# uniformly distributed noise in the range [-0.5,+0.5]\n",
    "mheightsj=mheights+np.random.uniform(low=-0.5,high=+0.5,size=(len(mheights),))\n",
    "fheightsj=fheights+np.random.uniform(low=-0.5,high=+0.5,size=(len(fheights),))\n",
    "\n",
    "# For each of the available percentiles in CDC data, compute the corresponding percentile from our 20-year-old users\n",
    "stats=[]\n",
    "for percentile,percentile_column in zip(percentiles,percentile_columns):\n",
    "    stats.append({\"sex\":\"m\",\n",
    "                  \"percentile\":percentile,\n",
    "                  \"CDC\":cdc20.loc[\"m\",percentile_column],\n",
    "                  \"users\":mheightsj.quantile(percentile/100)})\n",
    "    stats.append({\"sex\":\"f\",\n",
    "                  \"percentile\":percentile,\n",
    "                  \"CDC\":cdc20.loc[\"f\",percentile_column],\n",
    "                  \"users\":fheightsj.quantile(percentile/100)})\n",
    "stats=pd.DataFrame(stats).set_index([\"sex\",\"percentile\"]).sort_index()\n",
    "\n",
    "# For each percentile, compute the gap between users and CDC\n",
    "stats[\"gap\"]=stats[\"users\"]-stats[\"CDC\"]\n",
    "\n",
    "print(\"Height percentiles (in inches) for 20-year-old males\")\n",
    "display(stats.loc[\"m\"].head(10))\n",
    "\n",
    "print(\"Height percentiles (in inches) for 20-year-old females\")\n",
    "display(stats.loc[\"f\"].head(10))"
   ]
  },
  {
   "cell_type": "markdown",
   "metadata": {
    "slideshow": {
     "slide_type": "subslide"
    }
   },
   "source": [
    "The height statistics of our user population matches remarkably well with CDC data.\n",
    "It looks like our users, males and females alike, may be slightly over-reporting their height (still, much less than one could expect), but there could be many other reasonable explanations for this gap. For example, the San-Francisco population may be taller than the general US population.  [This](http://opendata.stackexchange.com/questions/4683/average-height-of-males-and-females-for-each-of-the-50-us-states-where-can-i-do) might be a starting point to further investigate the issue.  \n",
    "\n",
    "Another explanation may be that short users are more likely to not report their height; in this case, even though other users report their height honestly, our statistics (which ignores missing values) would be biased.  This problem is well known to statisticians as [data missing not at random](https://en.wikipedia.org/wiki/Missing_data#Missing_not_at_random) (MNAR).  May we be victims of this?"
   ]
  },
  {
   "cell_type": "code",
   "execution_count": 23,
   "metadata": {
    "slideshow": {
     "slide_type": "subslide"
    }
   },
   "outputs": [
    {
     "data": {
      "text/plain": [
       "3"
      ]
     },
     "execution_count": 23,
     "metadata": {},
     "output_type": "execute_result"
    }
   ],
   "source": [
    "data[\"height\"].isnull().sum()"
   ]
  },
  {
   "cell_type": "markdown",
   "metadata": {
    "slideshow": {
     "slide_type": "subslide"
    }
   },
   "source": [
    "Apparently not, as we only have 3 users with missing height data, which could never explain the gap.  Probably, height is a required information to sign up.  The reason why a few users are missing this is unknown (maybe they signed up when the information was not compulsory?)\n",
    "\n",
    "Note that [this analysis (the biggest lies in online dating)](https://blog.okcupid.com/index.php/the-biggest-lies-in-online-dating/) on the whole population of OKCupid users found a larger tendency to height exaggeration."
   ]
  },
  {
   "cell_type": "code",
   "execution_count": 24,
   "metadata": {
    "slideshow": {
     "slide_type": "subslide"
    }
   },
   "outputs": [
    {
     "data": {
      "image/png": "[encoded data removed]",
      "text/plain": [
       "<Figure size 432x360 with 1 Axes>"
      ]
     },
     "metadata": {},
     "output_type": "display_data"
    }
   ],
   "source": [
    "fig,ax=plt.subplots(figsize=(6,5))\n",
    "sns.countplot(y=\"body_type\",hue=\"sex\",\n",
    "              order=data[\"body_type\"].value_counts().sort_values(ascending=False).index,\n",
    "              data=data,palette={\"m\":\"b\",\"f\":\"r\"},alpha=0.5,ax=ax);\n",
    "ax.set_title(\"Number of female and male users self-reporting each body type\")\n",
    "sns.despine(ax=ax)"
   ]
  },
  {
   "cell_type": "markdown",
   "metadata": {
    "slideshow": {
     "slide_type": "subslide"
    }
   },
   "source": [
    "In the plot above, males and females are two sub-groups of the population, whereas body_type is a categorical attribute. It is interesting to compare how users in each of the two sub-groups (i.e. males and females) are likely to use each of the available categorical values; this is normally done through contingency tables.\n",
    "\n",
    "* curvy\n",
    "* Little extra"
   ]
  },
  {
   "cell_type": "markdown",
   "metadata": {
    "slideshow": {
     "slide_type": "subslide"
    }
   },
   "source": [
    "# Let's hack OkCupid and find the love of our life"
   ]
  },
  {
   "cell_type": "markdown",
   "metadata": {
    "slideshow": {
     "slide_type": "subslide"
    }
   },
   "source": [
    "### [Chris McKinlay - I Hacked OkCupid](https://www.youtube.com/watch?v=mJod9kRYyao)\n",
    "### [Speaker Series 005 Chris McKinlay - Hacking OkCupid](https://www.youtube.com/watch?v=s8i5BWQnjHg)"
   ]
  },
  {
   "cell_type": "markdown",
   "metadata": {
    "slideshow": {
     "slide_type": "subslide"
    }
   },
   "source": [
    "# [Inside OKCupid: The math of online dating - Christian Rudder](https://www.youtube.com/watch?v=m9PiPlRuy6E)"
   ]
  },
  {
   "cell_type": "markdown",
   "metadata": {
    "slideshow": {
     "slide_type": "subslide"
    }
   },
   "source": [
    "<center><img src=\"images/okcupid01.png\" alt=\"OkCupid\"></center>"
   ]
  },
  {
   "cell_type": "markdown",
   "metadata": {
    "slideshow": {
     "slide_type": "subslide"
    }
   },
   "source": [
    "# The Matching algorithm:\n",
    "\n",
    "## {questions in common} = S\n",
    "\n",
    "## (2 questions)"
   ]
  },
  {
   "cell_type": "markdown",
   "metadata": {
    "slideshow": {
     "slide_type": "subslide"
    }
   },
   "source": [
    "### Irrelevant = 0\n",
    "### A little important = 1\n",
    "### Somewhat important = 10\n",
    "### Very important = 50\n",
    "### Mandatory = 250"
   ]
  },
  {
   "cell_type": "markdown",
   "metadata": {
    "slideshow": {
     "slide_type": "subslide"
    }
   },
   "source": [
    "# How much B satisfies A?\n",
    "\n",
    "## Question 1 -> Very important (right), 50/50\n",
    "## Question 2 -> A little important (wrong), still 50/51\n",
    "## 98% satisfactory"
   ]
  },
  {
   "cell_type": "markdown",
   "metadata": {
    "slideshow": {
     "slide_type": "subslide"
    }
   },
   "source": [
    "# How much A satisfies B?\n",
    "\n",
    "## Question 1 -> A little important (wrong), 0/1\n",
    "## Question 2 -> Somewhat important (right), still 10/11\n",
    "## 91% satisfactory"
   ]
  },
  {
   "cell_type": "markdown",
   "metadata": {
    "slideshow": {
     "slide_type": "subslide"
    }
   },
   "source": [
    "# Aeraging both scores (geometric mean)\n",
    "\n",
    "# n √ 98*91\n",
    "\n",
    "### *n = number of questions"
   ]
  },
  {
   "cell_type": "markdown",
   "metadata": {
    "slideshow": {
     "slide_type": "subslide"
    }
   },
   "source": [
    "# N = questions = 2\n",
    "\n",
    "# 2 √ 98*91 = 94% \n",
    "\n",
    "### * + some margin correction"
   ]
  },
  {
   "cell_type": "markdown",
   "metadata": {
    "slideshow": {
     "slide_type": "subslide"
    }
   },
   "source": [
    "## [The OKCupid dataset: A very large public dataset of dating site users](https://openpsych.net/files/papers/Kirkegaard_2016g.pdf)\n",
    "\n",
    "https://mega.nz/#F!QIpXkL4Q!b3QXepE6tgyZ3zDhWbv1eg"
   ]
  },
  {
   "cell_type": "markdown",
   "metadata": {
    "slideshow": {
     "slide_type": "subslide"
    }
   },
   "source": [
    "## 61371 unique users\n",
    "## At least 1000 questions answered\n",
    "## Up to 2541 questions"
   ]
  },
  {
   "cell_type": "code",
   "execution_count": 25,
   "metadata": {
    "slideshow": {
     "slide_type": "subslide"
    }
   },
   "outputs": [
    {
     "name": "stderr",
     "output_type": "stream",
     "text": [
      "/home/mkspk/anaconda3/envs/ds1_workshop/lib/python3.6/site-packages/IPython/core/interactiveshell.py:2785: DtypeWarning: Columns (0,1,2,3,4,5,6,7,8,9,10,11,12,13,14,15,16,17,18,19,20,21,22,23,24,25,26,27,28,29,30,31,32,33,34,35,36,37,38,39,40,41,42,43,44,45,46,47,48,49,50,51,52,53,54,55,56,57,58,59,60,61,62,63,64,65,66,67,68,69,70,71,72,73,74,75,76,77,78,79,80,81,82,83,84,85,86,87,88,89,90,91,92,93,94,95,96,97,98,99,100,101,102,103,104,105,106,107,108,109,110,111,112,113,114,115,116,117,118,119,120,121,122,123,124,125,126,127,128,129,130,131,132,133,134,135,136,138,139,140,141,142,143,144,146,147,148,149,150,151,152,153,154,155,156,157,158,159,160,161,162,163,164,165,166,167,168,169,170,171,172,173,174,175,176,177,178,179,180,181,182,183,184,185,186,187,188,189,190,191,192,193,194,195,196,197,198,199,200,201,202,203,204,205,206,207,208,209,210,211,212,213,214,215,216,217,218,219,220,221,222,223,224,225,226,227,228,229,230,231,232,233,234,235,236,237,238,239,240,241,242,243,244,245,246,247,248,249,250,251,252,253,254,255,256,257,258,259,260,261,262,263,264,265,266,267,268,269,270,271,272,273,274,275,276,277,278,279,280,281,282,283,284,285,286,287,288,289,290,291,292,293,294,295,296,297,298,299,300,301,302,303,304,305,306,307,308,309,310,311,312,313,314,315,316,317,318,319,320,321,322,323,324,325,326,327,328,329,330,331,332,333,334,335,336,337,338,339,340,341,342,343,344,345,346,347,348,349,350,351,352,353,354,355,356,357,358,359,360,361,362,363,364,365,366,367,368,369,370,371,372,373,374,375,376,377,378,379,380,381,382,383,384,385,386,387,388,389,390,391,392,393,394,395,396,397,398,399,400,401,402,403,404,405,406,407,408,409,410,411,412,413,414,415,416,417,418,419,420,421,422,423,424,425,426,427,428,429,430,431,432,433,434,435,436,437,438,439,440,441,442,443,444,445,446,447,448,449,450,451,452,453,454,455,456,457,458,459,460,461,462,463,464,465,466,467,468,469,470,471,472,473,474,475,476,477,478,479,480,481,482,483,484,485,486,487,488,489,490,491,492,493,494,495,496,497,498,499,500,501,502,503,504,505,506,507,508,509,510,511,512,513,514,515,516,517,518,519,520,521,522,523,524,525,526,527,528,529,530,531,532,533,534,535,537,538,539,540,541,542,543,544,545,546,547,548,549,550,551,552,553,554,555,556,557,558,559,560,561,562,563,564,565,566,567,568,569,570,571,572,573,574,575,576,577,578,579,580,581,582,583,584,585,586,587,588,589,590,591,592,593,594,595,596,597,598,599,600,601,602,603,604,605,606,607,608,609,610,611,612,613,614,615,616,617,618,619,620,621,622,623,624,625,626,627,628,629,630,631,632,633,634,635,636,637,638,639,640,641,642,643,644,645,646,647,648,649,650,651,652,653,654,655,656,657,658,659,660,661,662,663,664,665,666,667,668,669,670,671,672,673,674,675,676,677,678,679,680,681,682,683,684,685,686,687,688,689,690,691,692,693,694,695,696,697,698,699,700,701,702,703,704,705,706,707,708,709,710,711,712,713,714,715,716,717,718,719,720,721,722,723,724,725,726,727,728,729,730,731,732,733,734,735,736,737,738,739,740,741,742,743,744,745,746,747,748,749,750,751,752,753,754,755,756,757,758,759,760,761,762,763,764,765,766,767,768,769,770,771,772,773,774,775,776,777,778,779,780,781,782,783,784,785,786,787,788,789,790,791,792,793,794,795,796,797,798,799,800,801,802,803,804,805,806,807,808,809,810,811,812,813,814,815,816,817,818,819,820,821,822,823,825,826,827,828,829,830,831,832,833,834,835,836,837,838,839,840,841,842,843,844,845,846,847,848,849,850,851,852,853,854,855,856,857,858,859,860,861,862,863,864,865,866,867,868,869,870,871,872,873,874,875,876,877,878,879,880,881,882,883,884,885,886,887,888,889,890,891,892,893,894,895,896,897,898,899,900,901,902,903,904,905,906,907,908,909,910,911,912,913,914,915,916,917,918,919,920,921,922,923,924,925,926,927,928,929,930,931,932,933,934,935,936,937,938,939,940,941,942,943,944,945,946,947,948,949,950,951,952,953,954,955,956,957,958,959,960,961,962,963,964,965,966,967,968,969,970,971,972,973,974,975,976,977,978,979,980,981,982,983,984,985,986,987,988,989,990,991,992,993,994,995,996,997,998,999,1000,1001,1002,1003,1004,1005,1006,1007,1008,1009,1010,1011,1012,1013,1014,1015,1016,1017,1018,1019,1020,1021,1022,1023,1024,1025,1026,1027,1028,1029,1030,1031,1032,1033,1034,1035,1036,1037,1038,1039,1040,1041,1042,1043,1044,1045,1046,1047,1048,1049,1050,1051,1052,1053,1054,1055,1056,1057,1058,1059,1060,1061,1062,1063,1064,1065,1066,1067,1068,1069,1070,1071,1072,1073,1074,1075,1076,1077,1078,1079,1080,1081,1082,1083,1084,1085,1086,1087,1088,1089,1090,1091,1092,1093,1094,1095,1096,1097,1098,1099,1100,1101,1102,1103,1104,1105,1106,1107,1108,1109,1110,1111,1112,1113,1114,1115,1116,1117,1118,1119,1120,1121,1122,1123,1124,1125,1126,1127,1128,1129,1130,1131,1132,1133,1134,1135,1136,1137,1138,1139,1140,1141,1142,1143,1144,1145,1146,1147,1148,1149,1150,1151,1152,1153,1154,1155,1156,1157,1158,1159,1160,1161,1162,1163,1164,1165,1166,1167,1168,1169,1170,1171,1172,1173,1174,1175,1176,1177,1178,1179,1180,1181,1182,1183,1184,1185,1186,1187,1188,1189,1190,1191,1192,1193,1194,1195,1196,1197,1198,1199,1200,1201,1202,1203,1204,1205,1206,1207,1208,1209,1210,1211,1212,1213,1214,1215,1216,1217,1218,1219,1220,1221,1222,1223,1224,1225,1226,1227,1228,1229,1230,1231,1232,1233,1234,1235,1236,1237,1238,1239,1240,1241,1243,1244,1245,1246,1247,1248,1249,1250,1251,1252,1253,1254,1255,1256,1257,1258,1259,1260,1261,1262,1263,1264,1265,1266,1267,1268,1269,1270,1271,1272,1273,1274,1275,1276,1277,1278,1279,1280,1281,1282,1283,1284,1285,1286,1287,1288,1289,1290,1291,1292,1293,1294,1295,1296,1297,1298,1299,1300,1301,1302,1303,1304,1305,1306,1307,1308,1309,1310,1311,1312,1313,1314,1315,1316,1317,1318,1319,1320,1321,1322,1323,1324,1325,1326,1327,1328,1329,1330,1331,1332,1333,1334,1335,1336,1337,1338,1339,1340,1341,1342,1343,1344,1345,1346,1347,1348,1349,1350,1351,1352,1353,1354,1355,1356,1357,1358,1359,1360,1361,1362,1363,1364,1365,1366,1367,1368,1369,1370,1371,1372,1373,1374,1375,1376,1377,1378,1379,1380,1381,1382,1383,1384,1386,1387,1388,1389,1390,1391,1392,1393,1394,1395,1396,1397,1398,1399,1400,1401,1402,1403,1404,1405,1406,1407,1408,1409,1410,1411,1412,1413,1414,1415,1416,1417,1418,1419,1420,1421,1422,1423,1424,1425,1426,1427,1428,1429,1430,1431,1432,1433,1434,1435,1436,1437,1438,1439,1440,1441,1442,1443,1444,1445,1446,1447,1448,1449,1450,1451,1452,1453,1455,1456,1457,1458,1460,1462,1510,1536,1537,1538,1539,1540,1541,1542,1543,1544,1545,1546,1547,1548,1549,1550,1551,1552,1553,1554,1555,1556,1557,1558,1559,1560,1561,1562,1563,1564,1565,1566,1567,1568,1569,1570,1571,1572,1573,1574,1575,1576,1577,1578,1579,1580,1581,1582,1583,1584,1585,1586,1587,1588,1589,1590,1591,1592,1593,1594,1595,1596,1597,1598,1599,1600,1601,1602,1603,1604,1605,1606,1607,1608,1609,1610,1611,1612,1613,1614,1615,1616,1617,1618,1619,1620,1621,1622,1623,1624,1626,1627,1628,1629,1630,1631,1632,1633,1634,1635,1636,1637,1638,1639,1640,1641,1642,1643,1644,1645,1646,1647,1648,1649,1650,1651,1652,1653,1654,1655,1656,1657,1658,1659,1660,1661,1662,1663,1664,1665,1666,1667,1668,1669,1670,1671,1672,1673,1674,1675,1676,1677,1678,1679,1680,1681,1682,1683,1684,1685,1686,1687,1688,1689,1690,1691,1692,1693,1694,1695,1696,1697,1698,1699,1700,1701,1702,1703,1704,1705,1706,1707,1708,1709,1710,1711,1712,1713,1714,1715,1716,1717,1718,1719,1720,1721,1722,1723,1724,1725,1726,1727,1728,1729,1730,1731,1732,1733,1734,1735,1736,1737,1738,1739,1740,1741,1742,1743,1744,1745,1746,1747,1748,1749,1750,1751,1752,1753,1754,1755,1756,1757,1758,1759,1760,1761,1762,1763,1764,1765,1766,1767,1768,1769,1770,1771,1772,1773,1774,1775,1776,1777,1778,1779,1780,1781,1782,1783,1784,1785,1786,1787,1788,1789,1790,1791,1792,1793,1794,1795,1796,1797,1798,1799,1800,1801,1802,1803,1804,1805,1806,1807,1808,1809,1810,1811,1812,1813,1814,1815,1816,1817,1818,1819,1820,1821,1822,1823,1824,1825,1826,1827,1828,1829,1830,1831,1832,1833,1834,1835,1836,1837,1838,1839,1840,1841,1842,1843,1844,1845,1846,1847,1848,1849,1850,1851,1852,1853,1854,1855,1856,1857,1858,1859,1860,1861,1862,1863,1864,1865,1866,1867,1868,1869,1870,1871,1872,1873,1874,1875,1876,1877,1878,1879,1880,1881,1882,1883,1884,1885,1886,1887,1888,1889,1890,1891,1892,1893,1894,1895,1896,1897,1898,1899,1900,1901,1902,1903,1904,1905,1906,1907,1908,1909,1910,1911,1912,1913,1914,1915,1916,1917,1918,1919,1920,1921,1922,1923,1924,1925,1926,1927,1928,1929,1930,1931,1932,1933,1934,1935,1936,1937,1938,1939,1940,1941,1942,1943,1944,1945,1946,1947,1948,1949,1950,1951,1952,1953,1954,1955,1956,1957,1958,1959,1960,1961,1962,1963,1964,1965,1966,1967,1968,1969,1970,1971,1972,1973,1974,1975,1976,1977,1978,1979,1980,1981,1982,1983,1984,1985,1986,1987,1988,1989,1990,1991,1992,1993,1994,1995,1996,1997,1998,1999,2000,2001,2002,2003,2004,2005,2006,2007,2008,2009,2010,2011,2012,2013,2014,2015,2016,2017,2018,2019,2020,2021,2022,2023,2024,2025,2026,2027,2028,2029,2030,2031,2032,2033,2034,2035,2036,2037,2038,2039,2040,2041,2042,2043,2044,2045,2046,2047,2048,2049,2050,2051,2052,2053,2054,2055,2056,2057,2058,2059,2060,2061,2062,2063,2064,2065,2066,2067,2068,2069,2070,2071,2072,2073,2074,2075,2076,2077,2078,2079,2080,2081,2082,2083,2084,2085,2086,2087,2088,2089,2090,2091,2092,2093,2094,2095,2096,2097,2098,2099,2100,2101,2102,2103,2104,2105,2106,2107,2108,2109,2110,2111,2112,2113,2114,2115,2116,2117,2118,2119,2120,2121,2122,2123,2124,2125,2126,2127,2128,2129,2130,2131,2132,2133,2134,2135,2136,2137,2138,2139,2140,2141,2142,2143,2144,2145,2146,2147,2148,2149,2150,2151,2152,2153,2154,2155,2156,2157,2158,2159,2160,2161,2162,2163,2164,2165,2166,2167,2168,2169,2170,2171,2172,2173,2174,2175,2176,2177,2178,2179,2180,2181,2182,2183,2184,2185,2186,2187,2188,2189,2190,2191,2192,2193,2194,2195,2196,2197,2198,2199,2200,2201,2202,2203,2204,2205,2206,2207,2208,2209,2210,2211,2212,2213,2214,2215,2216,2217,2218,2219,2220,2221,2222,2223,2224,2225,2226,2227,2228,2229,2230,2231,2232,2233,2234,2235,2236,2237,2238,2239,2240,2241,2242,2243,2244,2245,2246,2247,2248,2249,2250,2251,2252,2253,2254,2255,2256,2257,2258,2259,2260,2261,2262,2263,2264,2265,2266,2267,2268,2269,2270,2271,2272,2273,2274,2275,2276,2277,2278,2279,2280,2281,2282,2283,2284,2285,2286,2287,2288,2289,2290,2291,2292,2293,2294,2295,2296,2297,2298,2299,2300,2301,2302,2303,2304,2305,2306,2307,2308,2309,2310,2311,2312,2313,2314,2315,2316,2317,2318,2319,2320,2321,2322,2323,2324,2325,2326,2327,2328,2329,2330,2331,2332,2333,2334,2335,2336,2337,2338,2339,2340,2341,2342,2343,2344,2345,2346,2347,2348,2349,2350,2351,2352,2353,2354,2355,2356,2357,2358,2359,2360,2361,2362,2363,2364,2365,2366,2367,2368,2369,2370,2371,2372,2373,2374,2375,2376,2377,2378,2379,2380,2381,2382,2383,2384,2385,2386,2387,2388,2389,2390,2391,2392,2393,2394,2395,2396,2397,2398,2399,2400,2401,2402,2403,2404,2405,2406,2407,2408,2409,2410,2411,2412,2413,2414,2415,2416,2417,2418,2419,2420,2421,2422,2423,2424,2425,2426,2427,2428,2429,2430,2431,2432,2433,2434,2435,2436,2437,2438,2439,2440,2441,2442,2443,2444,2445,2446,2447,2448,2449,2450,2451,2452,2453,2454,2455,2456,2457,2458,2459,2460,2461,2462,2463,2464,2465,2466,2467,2468,2469,2470,2471,2472,2473,2474,2475,2476,2477,2478,2479,2480,2481,2482,2483,2484,2485,2486,2487,2488,2489,2490,2491,2492,2493,2494,2495,2496,2497,2498,2499,2500,2501,2502,2503,2504,2505,2506,2507,2508,2509,2510,2511,2512,2513,2514,2515,2516,2517,2518,2519,2520,2521,2522,2523,2524,2525,2526,2527,2528,2529,2530,2531,2532,2533,2534,2535,2536,2537,2538,2539,2540,2541,2542,2543,2544,2545,2546,2547,2548,2549,2550,2551,2552,2553,2554,2555,2556,2557,2558,2559,2560,2561,2562,2563,2564,2565,2566,2567,2568,2569,2570,2571,2572,2573,2574,2575,2576,2577,2578,2579,2580,2581,2582,2583,2584,2585,2586,2587,2588,2589,2590,2591,2592,2593,2594,2595,2596,2597,2598,2599,2600,2601,2602,2603,2604,2605,2606,2607,2608,2609,2610,2611,2612,2613,2614,2615,2616,2617) have mixed types. Specify dtype option on import or set low_memory=False.\n",
      "  interactivity=interactivity, compiler=compiler, result=result)\n"
     ]
    }
   ],
   "source": [
    "qdata = pd.read_csv('data/user_data_public.csv')"
   ]
  },
  {
   "cell_type": "code",
   "execution_count": 26,
   "metadata": {
    "scrolled": true,
    "slideshow": {
     "slide_type": "subslide"
    }
   },
   "outputs": [
    {
     "data": {
      "text/html": [
       "<div>\n",
       "<style scoped>\n",
       "    .dataframe tbody tr th:only-of-type {\n",
       "        vertical-align: middle;\n",
       "    }\n",
       "\n",
       "    .dataframe tbody tr th {\n",
       "        vertical-align: top;\n",
       "    }\n",
       "\n",
       "    .dataframe thead th {\n",
       "        text-align: right;\n",
       "    }\n",
       "</style>\n",
       "<table border=\"1\" class=\"dataframe\">\n",
       "  <thead>\n",
       "    <tr style=\"text-align: right;\">\n",
       "      <th></th>\n",
       "      <th>q2</th>\n",
       "      <th>q11</th>\n",
       "      <th>q12</th>\n",
       "      <th>q13</th>\n",
       "      <th>q14</th>\n",
       "      <th>q16</th>\n",
       "      <th>q17</th>\n",
       "      <th>q18</th>\n",
       "      <th>q20</th>\n",
       "      <th>q22</th>\n",
       "      <th>...</th>\n",
       "      <th>q86615</th>\n",
       "      <th>q86699</th>\n",
       "      <th>q363047</th>\n",
       "      <th>CA</th>\n",
       "      <th>gender_orientation</th>\n",
       "      <th>gender</th>\n",
       "      <th>race</th>\n",
       "      <th>gender2</th>\n",
       "      <th>gender2_num</th>\n",
       "      <th>CA_items</th>\n",
       "    </tr>\n",
       "  </thead>\n",
       "  <tbody>\n",
       "    <tr>\n",
       "      <th>0</th>\n",
       "      <td>NaN</td>\n",
       "      <td>Horrified</td>\n",
       "      <td>NaN</td>\n",
       "      <td>NaN</td>\n",
       "      <td>NaN</td>\n",
       "      <td>NaN</td>\n",
       "      <td>No</td>\n",
       "      <td>NaN</td>\n",
       "      <td>NaN</td>\n",
       "      <td>NaN</td>\n",
       "      <td>...</td>\n",
       "      <td>NaN</td>\n",
       "      <td>NaN</td>\n",
       "      <td>NaN</td>\n",
       "      <td>0.763080</td>\n",
       "      <td>Hetero_female</td>\n",
       "      <td>Woman</td>\n",
       "      <td>White</td>\n",
       "      <td>Woman</td>\n",
       "      <td>0.0</td>\n",
       "      <td>4.0</td>\n",
       "    </tr>\n",
       "    <tr>\n",
       "      <th>1</th>\n",
       "      <td>NaN</td>\n",
       "      <td>NaN</td>\n",
       "      <td>NaN</td>\n",
       "      <td>NaN</td>\n",
       "      <td>NaN</td>\n",
       "      <td>NaN</td>\n",
       "      <td>NaN</td>\n",
       "      <td>NaN</td>\n",
       "      <td>NaN</td>\n",
       "      <td>NaN</td>\n",
       "      <td>...</td>\n",
       "      <td>NaN</td>\n",
       "      <td>NaN</td>\n",
       "      <td>NaN</td>\n",
       "      <td>NaN</td>\n",
       "      <td>Hetero_male</td>\n",
       "      <td>Man</td>\n",
       "      <td>NaN</td>\n",
       "      <td>Man</td>\n",
       "      <td>1.0</td>\n",
       "      <td>0.0</td>\n",
       "    </tr>\n",
       "    <tr>\n",
       "      <th>2</th>\n",
       "      <td>NaN</td>\n",
       "      <td>NaN</td>\n",
       "      <td>NaN</td>\n",
       "      <td>No</td>\n",
       "      <td>No</td>\n",
       "      <td>NaN</td>\n",
       "      <td>No</td>\n",
       "      <td>NaN</td>\n",
       "      <td>NaN</td>\n",
       "      <td>NaN</td>\n",
       "      <td>...</td>\n",
       "      <td>NaN</td>\n",
       "      <td>NaN</td>\n",
       "      <td>NaN</td>\n",
       "      <td>0.661309</td>\n",
       "      <td>Hetero_female</td>\n",
       "      <td>Woman</td>\n",
       "      <td>NaN</td>\n",
       "      <td>Woman</td>\n",
       "      <td>0.0</td>\n",
       "      <td>7.0</td>\n",
       "    </tr>\n",
       "    <tr>\n",
       "      <th>3</th>\n",
       "      <td>NaN</td>\n",
       "      <td>NaN</td>\n",
       "      <td>NaN</td>\n",
       "      <td>NaN</td>\n",
       "      <td>NaN</td>\n",
       "      <td>NaN</td>\n",
       "      <td>NaN</td>\n",
       "      <td>NaN</td>\n",
       "      <td>NaN</td>\n",
       "      <td>NaN</td>\n",
       "      <td>...</td>\n",
       "      <td>NaN</td>\n",
       "      <td>NaN</td>\n",
       "      <td>NaN</td>\n",
       "      <td>NaN</td>\n",
       "      <td>Hetero_female</td>\n",
       "      <td>Woman</td>\n",
       "      <td>White</td>\n",
       "      <td>Woman</td>\n",
       "      <td>0.0</td>\n",
       "      <td>0.0</td>\n",
       "    </tr>\n",
       "    <tr>\n",
       "      <th>4</th>\n",
       "      <td>NaN</td>\n",
       "      <td>NaN</td>\n",
       "      <td>NaN</td>\n",
       "      <td>NaN</td>\n",
       "      <td>NaN</td>\n",
       "      <td>NaN</td>\n",
       "      <td>NaN</td>\n",
       "      <td>NaN</td>\n",
       "      <td>NaN</td>\n",
       "      <td>NaN</td>\n",
       "      <td>...</td>\n",
       "      <td>NaN</td>\n",
       "      <td>NaN</td>\n",
       "      <td>NaN</td>\n",
       "      <td>0.875424</td>\n",
       "      <td>Bisexual_female</td>\n",
       "      <td>Woman</td>\n",
       "      <td>NaN</td>\n",
       "      <td>Woman</td>\n",
       "      <td>0.0</td>\n",
       "      <td>3.0</td>\n",
       "    </tr>\n",
       "    <tr>\n",
       "      <th>5</th>\n",
       "      <td>NaN</td>\n",
       "      <td>NaN</td>\n",
       "      <td>No</td>\n",
       "      <td>No</td>\n",
       "      <td>No</td>\n",
       "      <td>No</td>\n",
       "      <td>NaN</td>\n",
       "      <td>NaN</td>\n",
       "      <td>NaN</td>\n",
       "      <td>NaN</td>\n",
       "      <td>...</td>\n",
       "      <td>NaN</td>\n",
       "      <td>NaN</td>\n",
       "      <td>NaN</td>\n",
       "      <td>1.515351</td>\n",
       "      <td>Hetero_male</td>\n",
       "      <td>Man</td>\n",
       "      <td>White</td>\n",
       "      <td>Man</td>\n",
       "      <td>1.0</td>\n",
       "      <td>7.0</td>\n",
       "    </tr>\n",
       "    <tr>\n",
       "      <th>6</th>\n",
       "      <td>NaN</td>\n",
       "      <td>Indifferent</td>\n",
       "      <td>NaN</td>\n",
       "      <td>No</td>\n",
       "      <td>No</td>\n",
       "      <td>NaN</td>\n",
       "      <td>NaN</td>\n",
       "      <td>NaN</td>\n",
       "      <td>NaN</td>\n",
       "      <td>NaN</td>\n",
       "      <td>...</td>\n",
       "      <td>NaN</td>\n",
       "      <td>NaN</td>\n",
       "      <td>NaN</td>\n",
       "      <td>0.875424</td>\n",
       "      <td>NaN</td>\n",
       "      <td>Other</td>\n",
       "      <td>White</td>\n",
       "      <td>NaN</td>\n",
       "      <td>NaN</td>\n",
       "      <td>3.0</td>\n",
       "    </tr>\n",
       "    <tr>\n",
       "      <th>7</th>\n",
       "      <td>NaN</td>\n",
       "      <td>NaN</td>\n",
       "      <td>NaN</td>\n",
       "      <td>No</td>\n",
       "      <td>No</td>\n",
       "      <td>NaN</td>\n",
       "      <td>NaN</td>\n",
       "      <td>NaN</td>\n",
       "      <td>NaN</td>\n",
       "      <td>NaN</td>\n",
       "      <td>...</td>\n",
       "      <td>NaN</td>\n",
       "      <td>NaN</td>\n",
       "      <td>NaN</td>\n",
       "      <td>-1.586541</td>\n",
       "      <td>Hetero_male</td>\n",
       "      <td>Man</td>\n",
       "      <td>Hispanic / Latin</td>\n",
       "      <td>Man</td>\n",
       "      <td>1.0</td>\n",
       "      <td>1.0</td>\n",
       "    </tr>\n",
       "    <tr>\n",
       "      <th>8</th>\n",
       "      <td>NaN</td>\n",
       "      <td>NaN</td>\n",
       "      <td>NaN</td>\n",
       "      <td>NaN</td>\n",
       "      <td>NaN</td>\n",
       "      <td>NaN</td>\n",
       "      <td>NaN</td>\n",
       "      <td>NaN</td>\n",
       "      <td>NaN</td>\n",
       "      <td>NaN</td>\n",
       "      <td>...</td>\n",
       "      <td>NaN</td>\n",
       "      <td>NaN</td>\n",
       "      <td>NaN</td>\n",
       "      <td>-0.598015</td>\n",
       "      <td>Hetero_female</td>\n",
       "      <td>Woman</td>\n",
       "      <td>NaN</td>\n",
       "      <td>Woman</td>\n",
       "      <td>0.0</td>\n",
       "      <td>0.0</td>\n",
       "    </tr>\n",
       "    <tr>\n",
       "      <th>9</th>\n",
       "      <td>NaN</td>\n",
       "      <td>NaN</td>\n",
       "      <td>NaN</td>\n",
       "      <td>NaN</td>\n",
       "      <td>NaN</td>\n",
       "      <td>NaN</td>\n",
       "      <td>NaN</td>\n",
       "      <td>NaN</td>\n",
       "      <td>NaN</td>\n",
       "      <td>NaN</td>\n",
       "      <td>...</td>\n",
       "      <td>NaN</td>\n",
       "      <td>NaN</td>\n",
       "      <td>NaN</td>\n",
       "      <td>-0.638505</td>\n",
       "      <td>Hetero_male</td>\n",
       "      <td>Man</td>\n",
       "      <td>NaN</td>\n",
       "      <td>Man</td>\n",
       "      <td>1.0</td>\n",
       "      <td>2.0</td>\n",
       "    </tr>\n",
       "  </tbody>\n",
       "</table>\n",
       "<p>10 rows × 2625 columns</p>\n",
       "</div>"
      ],
      "text/plain": [
       "    q2          q11  q12  q13  q14  q16  q17  q18  q20  q22   ...    q86615  \\\n",
       "0  NaN    Horrified  NaN  NaN  NaN  NaN   No  NaN  NaN  NaN   ...       NaN   \n",
       "1  NaN          NaN  NaN  NaN  NaN  NaN  NaN  NaN  NaN  NaN   ...       NaN   \n",
       "2  NaN          NaN  NaN   No   No  NaN   No  NaN  NaN  NaN   ...       NaN   \n",
       "3  NaN          NaN  NaN  NaN  NaN  NaN  NaN  NaN  NaN  NaN   ...       NaN   \n",
       "4  NaN          NaN  NaN  NaN  NaN  NaN  NaN  NaN  NaN  NaN   ...       NaN   \n",
       "5  NaN          NaN   No   No   No   No  NaN  NaN  NaN  NaN   ...       NaN   \n",
       "6  NaN  Indifferent  NaN   No   No  NaN  NaN  NaN  NaN  NaN   ...       NaN   \n",
       "7  NaN          NaN  NaN   No   No  NaN  NaN  NaN  NaN  NaN   ...       NaN   \n",
       "8  NaN          NaN  NaN  NaN  NaN  NaN  NaN  NaN  NaN  NaN   ...       NaN   \n",
       "9  NaN          NaN  NaN  NaN  NaN  NaN  NaN  NaN  NaN  NaN   ...       NaN   \n",
       "\n",
       "  q86699 q363047        CA gender_orientation gender              race  \\\n",
       "0    NaN     NaN  0.763080      Hetero_female  Woman             White   \n",
       "1    NaN     NaN       NaN        Hetero_male    Man               NaN   \n",
       "2    NaN     NaN  0.661309      Hetero_female  Woman               NaN   \n",
       "3    NaN     NaN       NaN      Hetero_female  Woman             White   \n",
       "4    NaN     NaN  0.875424    Bisexual_female  Woman               NaN   \n",
       "5    NaN     NaN  1.515351        Hetero_male    Man             White   \n",
       "6    NaN     NaN  0.875424                NaN  Other             White   \n",
       "7    NaN     NaN -1.586541        Hetero_male    Man  Hispanic / Latin   \n",
       "8    NaN     NaN -0.598015      Hetero_female  Woman               NaN   \n",
       "9    NaN     NaN -0.638505        Hetero_male    Man               NaN   \n",
       "\n",
       "  gender2 gender2_num CA_items  \n",
       "0   Woman         0.0      4.0  \n",
       "1     Man         1.0      0.0  \n",
       "2   Woman         0.0      7.0  \n",
       "3   Woman         0.0      0.0  \n",
       "4   Woman         0.0      3.0  \n",
       "5     Man         1.0      7.0  \n",
       "6     NaN         NaN      3.0  \n",
       "7     Man         1.0      1.0  \n",
       "8   Woman         0.0      0.0  \n",
       "9     Man         1.0      2.0  \n",
       "\n",
       "[10 rows x 2625 columns]"
      ]
     },
     "execution_count": 26,
     "metadata": {},
     "output_type": "execute_result"
    }
   ],
   "source": [
    "qdata.head(10)"
   ]
  },
  {
   "cell_type": "code",
   "execution_count": 27,
   "metadata": {
    "slideshow": {
     "slide_type": "subslide"
    }
   },
   "outputs": [],
   "source": [
    "questions = pd.read_csv('data/question_data.csv', sep=';')"
   ]
  },
  {
   "cell_type": "code",
   "execution_count": 28,
   "metadata": {},
   "outputs": [
    {
     "data": {
      "text/html": [
       "<div>\n",
       "<style scoped>\n",
       "    .dataframe tbody tr th:only-of-type {\n",
       "        vertical-align: middle;\n",
       "    }\n",
       "\n",
       "    .dataframe tbody tr th {\n",
       "        vertical-align: top;\n",
       "    }\n",
       "\n",
       "    .dataframe thead th {\n",
       "        text-align: right;\n",
       "    }\n",
       "</style>\n",
       "<table border=\"1\" class=\"dataframe\">\n",
       "  <thead>\n",
       "    <tr style=\"text-align: right;\">\n",
       "      <th></th>\n",
       "      <th>Unnamed: 0</th>\n",
       "      <th>text</th>\n",
       "      <th>option_1</th>\n",
       "      <th>option_2</th>\n",
       "      <th>option_3</th>\n",
       "      <th>option_4</th>\n",
       "      <th>N</th>\n",
       "      <th>Type</th>\n",
       "      <th>Order</th>\n",
       "      <th>Keywords</th>\n",
       "    </tr>\n",
       "  </thead>\n",
       "  <tbody>\n",
       "    <tr>\n",
       "      <th>0</th>\n",
       "      <td>q2</td>\n",
       "      <td>Breast implants?</td>\n",
       "      <td>more cool than pathetic</td>\n",
       "      <td>more pathetic than cool</td>\n",
       "      <td>NaN</td>\n",
       "      <td>NaN</td>\n",
       "      <td>24839</td>\n",
       "      <td>N</td>\n",
       "      <td>NaN</td>\n",
       "      <td>sex/intimacy; preference; opinion</td>\n",
       "    </tr>\n",
       "    <tr>\n",
       "      <th>1</th>\n",
       "      <td>q11</td>\n",
       "      <td>How does the idea of being slapped hard in the...</td>\n",
       "      <td>Horrified</td>\n",
       "      <td>Aroused</td>\n",
       "      <td>Nostalgic</td>\n",
       "      <td>Indifferent</td>\n",
       "      <td>28860</td>\n",
       "      <td>N</td>\n",
       "      <td>NaN</td>\n",
       "      <td>sex/intimacy</td>\n",
       "    </tr>\n",
       "    <tr>\n",
       "      <th>2</th>\n",
       "      <td>q12</td>\n",
       "      <td>Divide your age by 2.  Have you had sex with a...</td>\n",
       "      <td>Yes</td>\n",
       "      <td>No</td>\n",
       "      <td>NaN</td>\n",
       "      <td>NaN</td>\n",
       "      <td>22496</td>\n",
       "      <td>O</td>\n",
       "      <td>NaN</td>\n",
       "      <td>sex/intimacy</td>\n",
       "    </tr>\n",
       "    <tr>\n",
       "      <th>3</th>\n",
       "      <td>q13</td>\n",
       "      <td>Is a girl who's slept with 100 guys a bad person?</td>\n",
       "      <td>Yes</td>\n",
       "      <td>No</td>\n",
       "      <td>NaN</td>\n",
       "      <td>NaN</td>\n",
       "      <td>32581</td>\n",
       "      <td>O</td>\n",
       "      <td>NaN</td>\n",
       "      <td>sex/intimacy</td>\n",
       "    </tr>\n",
       "    <tr>\n",
       "      <th>4</th>\n",
       "      <td>q14</td>\n",
       "      <td>Is a guy who's slept with 100 girls a bad person?</td>\n",
       "      <td>Yes</td>\n",
       "      <td>No</td>\n",
       "      <td>NaN</td>\n",
       "      <td>NaN</td>\n",
       "      <td>31127</td>\n",
       "      <td>O</td>\n",
       "      <td>NaN</td>\n",
       "      <td>sex/intimacy</td>\n",
       "    </tr>\n",
       "    <tr>\n",
       "      <th>5</th>\n",
       "      <td>q16</td>\n",
       "      <td>Should sex with someone 16 years old be a jail...</td>\n",
       "      <td>Yes</td>\n",
       "      <td>No</td>\n",
       "      <td>NaN</td>\n",
       "      <td>NaN</td>\n",
       "      <td>8341</td>\n",
       "      <td>O</td>\n",
       "      <td>NaN</td>\n",
       "      <td>sex/intimacy</td>\n",
       "    </tr>\n",
       "    <tr>\n",
       "      <th>6</th>\n",
       "      <td>q17</td>\n",
       "      <td>Would you date someone just for the sex?</td>\n",
       "      <td>Yes</td>\n",
       "      <td>No</td>\n",
       "      <td>NaN</td>\n",
       "      <td>NaN</td>\n",
       "      <td>38180</td>\n",
       "      <td>O</td>\n",
       "      <td>NaN</td>\n",
       "      <td>sex/intimacy</td>\n",
       "    </tr>\n",
       "    <tr>\n",
       "      <th>7</th>\n",
       "      <td>q18</td>\n",
       "      <td>Do you have experience being in a slave/master...</td>\n",
       "      <td>Yes</td>\n",
       "      <td>No</td>\n",
       "      <td>NaN</td>\n",
       "      <td>NaN</td>\n",
       "      <td>21686</td>\n",
       "      <td>O</td>\n",
       "      <td>NaN</td>\n",
       "      <td>sex/intimacy; BDSM</td>\n",
       "    </tr>\n",
       "    <tr>\n",
       "      <th>8</th>\n",
       "      <td>q20</td>\n",
       "      <td>BDSM: Without looking it up, do you know exact...</td>\n",
       "      <td>Yes</td>\n",
       "      <td>No</td>\n",
       "      <td>NaN</td>\n",
       "      <td>NaN</td>\n",
       "      <td>16643</td>\n",
       "      <td>O</td>\n",
       "      <td>NaN</td>\n",
       "      <td>sex/intimacy; BDSM</td>\n",
       "    </tr>\n",
       "    <tr>\n",
       "      <th>9</th>\n",
       "      <td>q21</td>\n",
       "      <td>Do you enjoy meaningless sex?</td>\n",
       "      <td>Yes</td>\n",
       "      <td>No</td>\n",
       "      <td>NaN</td>\n",
       "      <td>NaN</td>\n",
       "      <td>31024</td>\n",
       "      <td>O</td>\n",
       "      <td>NaN</td>\n",
       "      <td>sex/intimacy</td>\n",
       "    </tr>\n",
       "    <tr>\n",
       "      <th>10</th>\n",
       "      <td>q22</td>\n",
       "      <td>Do you read erotic fiction?</td>\n",
       "      <td>Yes</td>\n",
       "      <td>No</td>\n",
       "      <td>NaN</td>\n",
       "      <td>NaN</td>\n",
       "      <td>18677</td>\n",
       "      <td>O</td>\n",
       "      <td>NaN</td>\n",
       "      <td>sex/intimacy</td>\n",
       "    </tr>\n",
       "    <tr>\n",
       "      <th>11</th>\n",
       "      <td>q24</td>\n",
       "      <td>Is it wrong to watch pornographic films if you...</td>\n",
       "      <td>Yes</td>\n",
       "      <td>No</td>\n",
       "      <td>NaN</td>\n",
       "      <td>NaN</td>\n",
       "      <td>16666</td>\n",
       "      <td>O</td>\n",
       "      <td>NaN</td>\n",
       "      <td>sex/intimacy</td>\n",
       "    </tr>\n",
       "    <tr>\n",
       "      <th>12</th>\n",
       "      <td>q25</td>\n",
       "      <td>Would you watch a porno movie with your ideal ...</td>\n",
       "      <td>Yes</td>\n",
       "      <td>No</td>\n",
       "      <td>NaN</td>\n",
       "      <td>NaN</td>\n",
       "      <td>13987</td>\n",
       "      <td>O</td>\n",
       "      <td>NaN</td>\n",
       "      <td>sex/intimacy</td>\n",
       "    </tr>\n",
       "    <tr>\n",
       "      <th>13</th>\n",
       "      <td>q26</td>\n",
       "      <td>Have you ever owned sex toys?</td>\n",
       "      <td>Yes</td>\n",
       "      <td>No</td>\n",
       "      <td>NaN</td>\n",
       "      <td>NaN</td>\n",
       "      <td>25010</td>\n",
       "      <td>O</td>\n",
       "      <td>NaN</td>\n",
       "      <td>sex/intimacy</td>\n",
       "    </tr>\n",
       "    <tr>\n",
       "      <th>14</th>\n",
       "      <td>q27</td>\n",
       "      <td>Which is a bigger deal for you?</td>\n",
       "      <td>Telling someone you really care</td>\n",
       "      <td>Oral sex</td>\n",
       "      <td>NaN</td>\n",
       "      <td>NaN</td>\n",
       "      <td>24749</td>\n",
       "      <td>O</td>\n",
       "      <td>NaN</td>\n",
       "      <td>sex/intimacy</td>\n",
       "    </tr>\n",
       "    <tr>\n",
       "      <th>15</th>\n",
       "      <td>q28</td>\n",
       "      <td>Would you dump someone simply because they wer...</td>\n",
       "      <td>Yes</td>\n",
       "      <td>No</td>\n",
       "      <td>NaN</td>\n",
       "      <td>NaN</td>\n",
       "      <td>30477</td>\n",
       "      <td>O</td>\n",
       "      <td>NaN</td>\n",
       "      <td>sex/intimacy</td>\n",
       "    </tr>\n",
       "    <tr>\n",
       "      <th>16</th>\n",
       "      <td>q29</td>\n",
       "      <td>Would you rather:</td>\n",
       "      <td>be tied up during sex</td>\n",
       "      <td>do the tying</td>\n",
       "      <td>avoid bondage all together</td>\n",
       "      <td>NaN</td>\n",
       "      <td>30567</td>\n",
       "      <td>N</td>\n",
       "      <td>NaN</td>\n",
       "      <td>sex/intimacy; BDSM</td>\n",
       "    </tr>\n",
       "    <tr>\n",
       "      <th>17</th>\n",
       "      <td>q30</td>\n",
       "      <td>Would you like to receive pain during sex?</td>\n",
       "      <td>Yes, lots and lots</td>\n",
       "      <td>Yes, some</td>\n",
       "      <td>No</td>\n",
       "      <td>NaN</td>\n",
       "      <td>32084</td>\n",
       "      <td>O</td>\n",
       "      <td>NaN</td>\n",
       "      <td>sex/intimacy; BDSM</td>\n",
       "    </tr>\n",
       "    <tr>\n",
       "      <th>18</th>\n",
       "      <td>q32</td>\n",
       "      <td>Group sex (with 3 or more people):</td>\n",
       "      <td>I have tried it.</td>\n",
       "      <td>It seriously interests me.</td>\n",
       "      <td>I have little or no interest.</td>\n",
       "      <td>NaN</td>\n",
       "      <td>32816</td>\n",
       "      <td>O</td>\n",
       "      <td>NaN</td>\n",
       "      <td>sex/intimacy</td>\n",
       "    </tr>\n",
       "    <tr>\n",
       "      <th>19</th>\n",
       "      <td>q33</td>\n",
       "      <td>Do you like kissing in public?</td>\n",
       "      <td>Yes</td>\n",
       "      <td>No</td>\n",
       "      <td>NaN</td>\n",
       "      <td>NaN</td>\n",
       "      <td>23004</td>\n",
       "      <td>O</td>\n",
       "      <td>NaN</td>\n",
       "      <td>sex/intimacy</td>\n",
       "    </tr>\n",
       "    <tr>\n",
       "      <th>20</th>\n",
       "      <td>q34</td>\n",
       "      <td>Are you more horny or more lonely?</td>\n",
       "      <td>Horny</td>\n",
       "      <td>Lonely</td>\n",
       "      <td>NaN</td>\n",
       "      <td>NaN</td>\n",
       "      <td>23592</td>\n",
       "      <td>N</td>\n",
       "      <td>NaN</td>\n",
       "      <td>sex/intimacy</td>\n",
       "    </tr>\n",
       "    <tr>\n",
       "      <th>21</th>\n",
       "      <td>q35</td>\n",
       "      <td>Regardless of future plans, what's more intere...</td>\n",
       "      <td>Sex</td>\n",
       "      <td>Love</td>\n",
       "      <td>NaN</td>\n",
       "      <td>NaN</td>\n",
       "      <td>50384</td>\n",
       "      <td>N</td>\n",
       "      <td>NaN</td>\n",
       "      <td>sex/intimacy</td>\n",
       "    </tr>\n",
       "    <tr>\n",
       "      <th>22</th>\n",
       "      <td>q36</td>\n",
       "      <td>Would you ever consider an open marriage? That...</td>\n",
       "      <td>Yes</td>\n",
       "      <td>No</td>\n",
       "      <td>NaN</td>\n",
       "      <td>NaN</td>\n",
       "      <td>16649</td>\n",
       "      <td>O</td>\n",
       "      <td>NaN</td>\n",
       "      <td>sex/intimacy</td>\n",
       "    </tr>\n",
       "    <tr>\n",
       "      <th>23</th>\n",
       "      <td>q37</td>\n",
       "      <td>How old were you when you lost your virginity?</td>\n",
       "      <td>Under 18</td>\n",
       "      <td>18 or Over</td>\n",
       "      <td>I never have!</td>\n",
       "      <td>NaN</td>\n",
       "      <td>19511</td>\n",
       "      <td>O</td>\n",
       "      <td>NaN</td>\n",
       "      <td>sex/intimacy</td>\n",
       "    </tr>\n",
       "    <tr>\n",
       "      <th>24</th>\n",
       "      <td>q38</td>\n",
       "      <td>Would you ever take your family to a nude beach?</td>\n",
       "      <td>Yes</td>\n",
       "      <td>No</td>\n",
       "      <td>NaN</td>\n",
       "      <td>NaN</td>\n",
       "      <td>5530</td>\n",
       "      <td>O</td>\n",
       "      <td>NaN</td>\n",
       "      <td>sex/intimacy</td>\n",
       "    </tr>\n",
       "    <tr>\n",
       "      <th>25</th>\n",
       "      <td>q39</td>\n",
       "      <td>Would you let your children under 13 watch mov...</td>\n",
       "      <td>Yes</td>\n",
       "      <td>No</td>\n",
       "      <td>NaN</td>\n",
       "      <td>NaN</td>\n",
       "      <td>26933</td>\n",
       "      <td>O</td>\n",
       "      <td>NaN</td>\n",
       "      <td>sex/intimacy</td>\n",
       "    </tr>\n",
       "    <tr>\n",
       "      <th>26</th>\n",
       "      <td>q41</td>\n",
       "      <td>How important is religion/God in your life?</td>\n",
       "      <td>Extremely important</td>\n",
       "      <td>Somewhat important</td>\n",
       "      <td>Not very important</td>\n",
       "      <td>Not at all important</td>\n",
       "      <td>54140</td>\n",
       "      <td>O</td>\n",
       "      <td>NaN</td>\n",
       "      <td>religion/superstition</td>\n",
       "    </tr>\n",
       "    <tr>\n",
       "      <th>27</th>\n",
       "      <td>q42</td>\n",
       "      <td>Is your duty to religion/God the most importan...</td>\n",
       "      <td>Yes</td>\n",
       "      <td>No</td>\n",
       "      <td>NaN</td>\n",
       "      <td>NaN</td>\n",
       "      <td>16024</td>\n",
       "      <td>O</td>\n",
       "      <td>NaN</td>\n",
       "      <td>religion/superstition</td>\n",
       "    </tr>\n",
       "    <tr>\n",
       "      <th>28</th>\n",
       "      <td>q43</td>\n",
       "      <td>Do you believe in some kind of a spiritual, co...</td>\n",
       "      <td>Yes</td>\n",
       "      <td>No</td>\n",
       "      <td>NaN</td>\n",
       "      <td>NaN</td>\n",
       "      <td>6595</td>\n",
       "      <td>O</td>\n",
       "      <td>NaN</td>\n",
       "      <td>religion/superstition</td>\n",
       "    </tr>\n",
       "    <tr>\n",
       "      <th>29</th>\n",
       "      <td>q44</td>\n",
       "      <td>Some religions are more correct than others.</td>\n",
       "      <td>True</td>\n",
       "      <td>False</td>\n",
       "      <td>NaN</td>\n",
       "      <td>NaN</td>\n",
       "      <td>29109</td>\n",
       "      <td>O</td>\n",
       "      <td>NaN</td>\n",
       "      <td>religion/superstition</td>\n",
       "    </tr>\n",
       "  </tbody>\n",
       "</table>\n",
       "</div>"
      ],
      "text/plain": [
       "   Unnamed: 0                                               text  \\\n",
       "0          q2                                   Breast implants?   \n",
       "1         q11  How does the idea of being slapped hard in the...   \n",
       "2         q12  Divide your age by 2.  Have you had sex with a...   \n",
       "3         q13  Is a girl who's slept with 100 guys a bad person?   \n",
       "4         q14  Is a guy who's slept with 100 girls a bad person?   \n",
       "5         q16  Should sex with someone 16 years old be a jail...   \n",
       "6         q17           Would you date someone just for the sex?   \n",
       "7         q18  Do you have experience being in a slave/master...   \n",
       "8         q20  BDSM: Without looking it up, do you know exact...   \n",
       "9         q21                      Do you enjoy meaningless sex?   \n",
       "10        q22                        Do you read erotic fiction?   \n",
       "11        q24  Is it wrong to watch pornographic films if you...   \n",
       "12        q25  Would you watch a porno movie with your ideal ...   \n",
       "13        q26                      Have you ever owned sex toys?   \n",
       "14        q27                    Which is a bigger deal for you?   \n",
       "15        q28  Would you dump someone simply because they wer...   \n",
       "16        q29                                  Would you rather:   \n",
       "17        q30         Would you like to receive pain during sex?   \n",
       "18        q32                 Group sex (with 3 or more people):   \n",
       "19        q33                     Do you like kissing in public?   \n",
       "20        q34                 Are you more horny or more lonely?   \n",
       "21        q35  Regardless of future plans, what's more intere...   \n",
       "22        q36  Would you ever consider an open marriage? That...   \n",
       "23        q37     How old were you when you lost your virginity?   \n",
       "24        q38   Would you ever take your family to a nude beach?   \n",
       "25        q39  Would you let your children under 13 watch mov...   \n",
       "26        q41        How important is religion/God in your life?   \n",
       "27        q42  Is your duty to religion/God the most importan...   \n",
       "28        q43  Do you believe in some kind of a spiritual, co...   \n",
       "29        q44       Some religions are more correct than others.   \n",
       "\n",
       "                           option_1                    option_2  \\\n",
       "0           more cool than pathetic     more pathetic than cool   \n",
       "1                         Horrified                     Aroused   \n",
       "2                               Yes                          No   \n",
       "3                               Yes                          No   \n",
       "4                               Yes                          No   \n",
       "5                               Yes                          No   \n",
       "6                               Yes                          No   \n",
       "7                               Yes                          No   \n",
       "8                               Yes                          No   \n",
       "9                               Yes                          No   \n",
       "10                              Yes                          No   \n",
       "11                              Yes                          No   \n",
       "12                              Yes                          No   \n",
       "13                              Yes                          No   \n",
       "14  Telling someone you really care                    Oral sex   \n",
       "15                              Yes                          No   \n",
       "16            be tied up during sex                do the tying   \n",
       "17               Yes, lots and lots                   Yes, some   \n",
       "18                 I have tried it.  It seriously interests me.   \n",
       "19                              Yes                          No   \n",
       "20                            Horny                      Lonely   \n",
       "21                              Sex                        Love   \n",
       "22                              Yes                          No   \n",
       "23                         Under 18                  18 or Over   \n",
       "24                              Yes                          No   \n",
       "25                              Yes                          No   \n",
       "26              Extremely important          Somewhat important   \n",
       "27                              Yes                          No   \n",
       "28                              Yes                          No   \n",
       "29                             True                       False   \n",
       "\n",
       "                         option_3              option_4      N Type Order  \\\n",
       "0                             NaN                   NaN  24839    N   NaN   \n",
       "1                       Nostalgic           Indifferent  28860    N   NaN   \n",
       "2                             NaN                   NaN  22496    O   NaN   \n",
       "3                             NaN                   NaN  32581    O   NaN   \n",
       "4                             NaN                   NaN  31127    O   NaN   \n",
       "5                             NaN                   NaN   8341    O   NaN   \n",
       "6                             NaN                   NaN  38180    O   NaN   \n",
       "7                             NaN                   NaN  21686    O   NaN   \n",
       "8                             NaN                   NaN  16643    O   NaN   \n",
       "9                             NaN                   NaN  31024    O   NaN   \n",
       "10                            NaN                   NaN  18677    O   NaN   \n",
       "11                            NaN                   NaN  16666    O   NaN   \n",
       "12                            NaN                   NaN  13987    O   NaN   \n",
       "13                            NaN                   NaN  25010    O   NaN   \n",
       "14                            NaN                   NaN  24749    O   NaN   \n",
       "15                            NaN                   NaN  30477    O   NaN   \n",
       "16     avoid bondage all together                   NaN  30567    N   NaN   \n",
       "17                             No                   NaN  32084    O   NaN   \n",
       "18  I have little or no interest.                   NaN  32816    O   NaN   \n",
       "19                            NaN                   NaN  23004    O   NaN   \n",
       "20                            NaN                   NaN  23592    N   NaN   \n",
       "21                            NaN                   NaN  50384    N   NaN   \n",
       "22                            NaN                   NaN  16649    O   NaN   \n",
       "23                  I never have!                   NaN  19511    O   NaN   \n",
       "24                            NaN                   NaN   5530    O   NaN   \n",
       "25                            NaN                   NaN  26933    O   NaN   \n",
       "26             Not very important  Not at all important  54140    O   NaN   \n",
       "27                            NaN                   NaN  16024    O   NaN   \n",
       "28                            NaN                   NaN   6595    O   NaN   \n",
       "29                            NaN                   NaN  29109    O   NaN   \n",
       "\n",
       "                             Keywords  \n",
       "0   sex/intimacy; preference; opinion  \n",
       "1                        sex/intimacy  \n",
       "2                        sex/intimacy  \n",
       "3                        sex/intimacy  \n",
       "4                        sex/intimacy  \n",
       "5                        sex/intimacy  \n",
       "6                        sex/intimacy  \n",
       "7                  sex/intimacy; BDSM  \n",
       "8                  sex/intimacy; BDSM  \n",
       "9                        sex/intimacy  \n",
       "10                       sex/intimacy  \n",
       "11                       sex/intimacy  \n",
       "12                       sex/intimacy  \n",
       "13                       sex/intimacy  \n",
       "14                       sex/intimacy  \n",
       "15                       sex/intimacy  \n",
       "16                 sex/intimacy; BDSM  \n",
       "17                 sex/intimacy; BDSM  \n",
       "18                       sex/intimacy  \n",
       "19                       sex/intimacy  \n",
       "20                       sex/intimacy  \n",
       "21                       sex/intimacy  \n",
       "22                       sex/intimacy  \n",
       "23                       sex/intimacy  \n",
       "24                       sex/intimacy  \n",
       "25                       sex/intimacy  \n",
       "26              religion/superstition  \n",
       "27              religion/superstition  \n",
       "28              religion/superstition  \n",
       "29              religion/superstition  "
      ]
     },
     "execution_count": 28,
     "metadata": {},
     "output_type": "execute_result"
    }
   ],
   "source": [
    "questions.head(30)"
   ]
  },
  {
   "cell_type": "code",
   "execution_count": 29,
   "metadata": {
    "slideshow": {
     "slide_type": "subslide"
    }
   },
   "outputs": [
    {
     "data": {
      "text/plain": [
       "12       Yes\n",
       "25       Yes\n",
       "33        No\n",
       "35       Yes\n",
       "39       Yes\n",
       "40       Yes\n",
       "44       Yes\n",
       "72       Yes\n",
       "107      Yes\n",
       "109       No\n",
       "113      Yes\n",
       "117       No\n",
       "123       No\n",
       "134      Yes\n",
       "169       No\n",
       "171      Yes\n",
       "176       No\n",
       "179      Yes\n",
       "187      Yes\n",
       "209      Yes\n",
       "227      Yes\n",
       "230      Yes\n",
       "232      Yes\n",
       "233       No\n",
       "248      Yes\n",
       "255      Yes\n",
       "264      Yes\n",
       "269       No\n",
       "276      Yes\n",
       "287      Yes\n",
       "        ... \n",
       "67971     No\n",
       "67976    Yes\n",
       "67981    Yes\n",
       "67988     No\n",
       "67989     No\n",
       "67990    Yes\n",
       "67993    Yes\n",
       "67999    Yes\n",
       "68000    Yes\n",
       "68007    Yes\n",
       "68009    Yes\n",
       "68013    Yes\n",
       "68014    Yes\n",
       "68025     No\n",
       "68029     No\n",
       "68031    Yes\n",
       "68035    Yes\n",
       "68037    Yes\n",
       "68041     No\n",
       "68045     No\n",
       "68052    Yes\n",
       "68053    Yes\n",
       "68056    Yes\n",
       "68062    Yes\n",
       "68063    Yes\n",
       "68064     No\n",
       "68065     No\n",
       "68066     No\n",
       "68067    Yes\n",
       "68068     No\n",
       "Name: q26, Length: 25010, dtype: object"
      ]
     },
     "execution_count": 29,
     "metadata": {},
     "output_type": "execute_result"
    }
   ],
   "source": [
    "qestion_answered = qdata['q26'].dropna()\n",
    "qestion_answered"
   ]
  },
  {
   "cell_type": "code",
   "execution_count": 30,
   "metadata": {
    "slideshow": {
     "slide_type": "subslide"
    }
   },
   "outputs": [],
   "source": [
    "answers = qestion_answered.value_counts()"
   ]
  },
  {
   "cell_type": "code",
   "execution_count": 31,
   "metadata": {
    "slideshow": {
     "slide_type": "subslide"
    }
   },
   "outputs": [
    {
     "name": "stdout",
     "output_type": "stream",
     "text": [
      "15251 Yes (61.0%), 9759 No (39.0%)\n"
     ]
    }
   ],
   "source": [
    "yes = answers['Yes']\n",
    "no = answers['No']\n",
    "\n",
    "print(\"{} Yes ({:.1%}), {} No ({:.1%})\".format(\n",
    "    yes,yes/(no+yes),\n",
    "    no,no/(no+yes)))"
   ]
  },
  {
   "cell_type": "code",
   "execution_count": 34,
   "metadata": {
    "slideshow": {
     "slide_type": "subslide"
    }
   },
   "outputs": [
    {
     "data": {
      "text/plain": [
       "'Yes'"
      ]
     },
     "execution_count": 34,
     "metadata": {},
     "output_type": "execute_result"
    }
   ],
   "source": [
    "qestion_answered.value_counts().idxmax()"
   ]
  },
  {
   "cell_type": "code",
   "execution_count": 35,
   "metadata": {
    "slideshow": {
     "slide_type": "subslide"
    }
   },
   "outputs": [
    {
     "name": "stdout",
     "output_type": "stream",
     "text": [
      "option 0: 80.0027482909066%\n",
      "option 1: 19.99725170909341%\n"
     ]
    }
   ],
   "source": [
    "question = 'q44' # change this for other questions data\n",
    "\n",
    "question_answered = qdata[question].dropna()\n",
    "count = 0\n",
    "for answer in question_answered.value_counts():\n",
    "    print('option ' + str(count) + ': '+ str(int(answer)*100/question_answered.size)+'%')\n",
    "    count += 1\n",
    "    "
   ]
  },
  {
   "cell_type": "markdown",
   "metadata": {
    "slideshow": {
     "slide_type": "subslide"
    }
   },
   "source": [
    "<center><img src=\"images/matches_bad.png\" alt=\"Bad Matches\"></center>"
   ]
  },
  {
   "cell_type": "markdown",
   "metadata": {
    "slideshow": {
     "slide_type": "subslide"
    }
   },
   "source": [
    "<center><img src=\"images/matches_good.png\" alt=\"Good Matches\"></center>"
   ]
  },
  {
   "cell_type": "markdown",
   "metadata": {
    "slideshow": {
     "slide_type": "subslide"
    }
   },
   "source": [
    "<center><img src=\"images/data-science-bitch.jpg\" alt=\"Data Science Bitch\"></center>"
   ]
  },
  {
   "cell_type": "markdown",
   "metadata": {
    "slideshow": {
     "slide_type": "slide"
    }
   },
   "source": [
    "<center><img src=\"images/ds_saves_lives.jpg\" alt=\"DS saves lives\">\n",
    "\n",
    "<h2> Data Science saves lives! <h2>"
   ]
  },
  {
   "cell_type": "markdown",
   "metadata": {
    "slideshow": {
     "slide_type": "subslide"
    }
   },
   "source": [
    "## - Intelligent staffing\n",
    "## - Real time alerting\n",
    "## - Preventing opioid abuse\n",
    "## - Fighting cancer\n",
    "## - Telemedicine\n",
    "\n",
    "<h4><div align=\"right\">healthworkscollective.com</div></h4>"
   ]
  },
  {
   "cell_type": "markdown",
   "metadata": {
    "slideshow": {
     "slide_type": "slide"
    }
   },
   "source": [
    "<h1><center>A Full Data Science Courses Track!</center></h1>\n",
    "<br>\n",
    "<center><img src=\"images/omg.gif\" alt=\"OMG!\"></center>"
   ]
  },
  {
   "cell_type": "markdown",
   "metadata": {
    "slideshow": {
     "slide_type": "subslide"
    }
   },
   "source": [
    "<center><img src=\"images/data_science_courses.png\" alt=\"Self Driving Car\"></center>"
   ]
  },
  {
   "cell_type": "markdown",
   "metadata": {
    "slideshow": {
     "slide_type": "slide"
    }
   },
   "source": [
    "<center><img src=\"images/ds_course_info.png\" alt=\"Data Science Intro\"></center>"
   ]
  },
  {
   "cell_type": "markdown",
   "metadata": {
    "slideshow": {
     "slide_type": "slide"
    }
   },
   "source": [
    "<center><img src=\"images/data_science_logo.jpg\" alt=\"Data Science\"></center>\n",
    "<center><h1>Thanks!</h1></center>\n",
    "<center><h2> <a href=\"https://www.upcodeacademy.com/courses\">upcodeacademy.com/courses</a> </h2></center>\n",
    "<h3> <center> marco@upcodeacademy.com </center> </h3>\n",
    "<center><img src=\"images/banner.png\" alt=\"upcode banner\"></center>"
   ]
  }
 ],
 "metadata": {
  "celltoolbar": "Slideshow",
  "kernelspec": {
   "display_name": "Python 3",
   "language": "python",
   "name": "python3"
  },
  "language_info": {
   "codemirror_mode": {
    "name": "ipython",
    "version": 3
   },
   "file_extension": ".py",
   "mimetype": "text/x-python",
   "name": "python",
   "nbconvert_exporter": "python",
   "pygments_lexer": "ipython3",
   "version": "3.6.6"
  },
  "livereveal": {
   "autolaunch": true
  },
  "rise": {
   "theme": "night"
  },
  "toc": {
   "base_numbering": 1,
   "nav_menu": {},
   "number_sections": false,
   "sideBar": true,
   "skip_h1_title": false,
   "title_cell": "Table of Contents",
   "title_sidebar": "Contents",
   "toc_cell": false,
   "toc_position": {},
   "toc_section_display": true,
   "toc_window_display": false
  }
 },
 "nbformat": 4,
 "nbformat_minor": 2
}
