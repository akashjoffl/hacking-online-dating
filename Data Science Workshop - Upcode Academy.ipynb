{
 "cells": [
  {
   "cell_type": "markdown",
   "metadata": {
    "slideshow": {
     "slide_type": "slide"
    }
   },
   "source": [
    "# ![upcode](images/front.png)"
   ]
  },
  {
   "cell_type": "markdown",
   "metadata": {
    "slideshow": {
     "slide_type": "slide"
    }
   },
   "source": [
    "<h1><center>What's Data Science?</center></h1>\n",
    "<br>\n",
    "<center><img src=\"images/data_science.png\" alt=\"Data Science\"></center>"
   ]
  },
  {
   "cell_type": "markdown",
   "metadata": {
    "slideshow": {
     "slide_type": "slide"
    }
   },
   "source": [
    "<h1><center>Why Data Science?</center></h1>\n",
    "<br>\n",
    "<center><img src=\"images/data_science.png\" alt=\"Data Science\"></center>"
   ]
  },
  {
   "cell_type": "markdown",
   "metadata": {
    "slideshow": {
     "slide_type": "subslide"
    }
   },
   "source": [
    "<center><img src=\"images/ds_banner.jpg\" alt=\"Data Science Awesome\"></center>\n",
    "\n",
    "# Data Science is awesome\n",
    "\n",
    "<center><img src=\"images/chuck.gif\" alt=\"Chuck aproves\"></center>"
   ]
  },
  {
   "cell_type": "markdown",
   "metadata": {
    "slideshow": {
     "slide_type": "subslide"
    }
   },
   "source": [
    "# Data Science Engineer: \n",
    "\n",
    "### Forbes: \n",
    "#### &nbsp; &nbsp; &nbsp; &nbsp; 6 most demanded jobs in 2018\n",
    "### Glassdoor: \n",
    "#### &nbsp; &nbsp; &nbsp; &nbsp; -  Best job in US\n",
    "#### &nbsp; &nbsp; &nbsp; &nbsp; -  4.8/5 job score\n",
    "#### &nbsp; &nbsp; &nbsp; &nbsp; -  4.2/5 job satisfaction\n",
    "#### &nbsp; &nbsp; &nbsp; &nbsp; -  110,000 USD median salary\n",
    "#### &nbsp; &nbsp; &nbsp; &nbsp; -  4,524 job openings"
   ]
  },
  {
   "cell_type": "markdown",
   "metadata": {
    "slideshow": {
     "slide_type": "slide"
    }
   },
   "source": [
    "<h1><center>But... How?</center></h1>\n",
    "<center><img src=\"images/wtf.png\" alt=\"Wtf?\"></center>"
   ]
  },
  {
   "cell_type": "markdown",
   "metadata": {
    "slideshow": {
     "slide_type": "subslide"
    }
   },
   "source": [
    "<h1><center>Learn the ways of Data Science you must...</center></h1>\n",
    "\n",
    "<center><img src=\"images/yoda.png\" alt=\"yoda\"></center>"
   ]
  },
  {
   "cell_type": "markdown",
   "metadata": {
    "slideshow": {
     "slide_type": "subslide"
    }
   },
   "source": [
    "# First rule of presentations:\n",
    "# Don't demo!"
   ]
  },
  {
   "cell_type": "markdown",
   "metadata": {
    "slideshow": {
     "slide_type": "subslide"
    }
   },
   "source": [
    "<h1><center>Let's demo!</center></h1>\n",
    "<center><img src=\"images/homer.gif\" alt=\"Crazy Homer\"></center>"
   ]
  },
  {
   "cell_type": "markdown",
   "metadata": {
    "slideshow": {
     "slide_type": "subslide"
    }
   },
   "source": [
    "# The tools:\n",
    "\n",
    "<center><img src=\"images/python.png\" alt=\"python\">\n",
    "\n",
    "<h3><a href=\"https://www.python.org/\">python.org</a></h3></center>"
   ]
  },
  {
   "cell_type": "code",
   "execution_count": 44,
   "metadata": {
    "slideshow": {
     "slide_type": "subslide"
    }
   },
   "outputs": [],
   "source": [
    "import pandas as pd"
   ]
  },
  {
   "cell_type": "code",
   "execution_count": 4,
   "metadata": {
    "slideshow": {
     "slide_type": "subslide"
    }
   },
   "outputs": [],
   "source": [
    "data = pd.read_csv(\"data/profiles.csv\")"
   ]
  },
  {
   "cell_type": "code",
   "execution_count": 9,
   "metadata": {
    "scrolled": true,
    "slideshow": {
     "slide_type": "subslide"
    }
   },
   "outputs": [
    {
     "data": {
      "text/html": [
       "<div>\n",
       "<style scoped>\n",
       "    .dataframe tbody tr th:only-of-type {\n",
       "        vertical-align: middle;\n",
       "    }\n",
       "\n",
       "    .dataframe tbody tr th {\n",
       "        vertical-align: top;\n",
       "    }\n",
       "\n",
       "    .dataframe thead th {\n",
       "        text-align: right;\n",
       "    }\n",
       "</style>\n",
       "<table border=\"1\" class=\"dataframe\">\n",
       "  <thead>\n",
       "    <tr style=\"text-align: right;\">\n",
       "      <th></th>\n",
       "      <th>age</th>\n",
       "      <th>body_type</th>\n",
       "      <th>diet</th>\n",
       "      <th>drinks</th>\n",
       "      <th>drugs</th>\n",
       "      <th>education</th>\n",
       "      <th>essay0</th>\n",
       "      <th>essay1</th>\n",
       "      <th>essay2</th>\n",
       "      <th>essay3</th>\n",
       "      <th>...</th>\n",
       "      <th>location</th>\n",
       "      <th>offspring</th>\n",
       "      <th>orientation</th>\n",
       "      <th>pets</th>\n",
       "      <th>religion</th>\n",
       "      <th>sex</th>\n",
       "      <th>sign</th>\n",
       "      <th>smokes</th>\n",
       "      <th>speaks</th>\n",
       "      <th>status</th>\n",
       "    </tr>\n",
       "  </thead>\n",
       "  <tbody>\n",
       "    <tr>\n",
       "      <th>59941</th>\n",
       "      <td>59</td>\n",
       "      <td>NaN</td>\n",
       "      <td>NaN</td>\n",
       "      <td>socially</td>\n",
       "      <td>never</td>\n",
       "      <td>graduated from college/university</td>\n",
       "      <td>vibrant, expressive, caring optimist. i love b...</td>\n",
       "      <td>the happiest times have been when life came to...</td>\n",
       "      <td>i make an outstanding osso bucco. i am also ve...</td>\n",
       "      <td>i am told that people notice my smile, eyes an...</td>\n",
       "      <td>...</td>\n",
       "      <td>oakland, california</td>\n",
       "      <td>has kids</td>\n",
       "      <td>straight</td>\n",
       "      <td>has dogs</td>\n",
       "      <td>catholicism but not too serious about it</td>\n",
       "      <td>f</td>\n",
       "      <td>cancer and it&amp;rsquo;s fun to think about</td>\n",
       "      <td>no</td>\n",
       "      <td>english</td>\n",
       "      <td>single</td>\n",
       "    </tr>\n",
       "    <tr>\n",
       "      <th>59942</th>\n",
       "      <td>24</td>\n",
       "      <td>fit</td>\n",
       "      <td>mostly anything</td>\n",
       "      <td>often</td>\n",
       "      <td>sometimes</td>\n",
       "      <td>working on college/university</td>\n",
       "      <td>i'm nick.&lt;br /&gt;\\ni never know what to write ab...</td>\n",
       "      <td>currently finishing school for film production...</td>\n",
       "      <td>&lt;a class=\"ilink\" href=\"/interests?i=filmmaking...</td>\n",
       "      <td>dude, i don't know.</td>\n",
       "      <td>...</td>\n",
       "      <td>san francisco, california</td>\n",
       "      <td>doesn&amp;rsquo;t have kids</td>\n",
       "      <td>straight</td>\n",
       "      <td>likes dogs and likes cats</td>\n",
       "      <td>agnosticism</td>\n",
       "      <td>m</td>\n",
       "      <td>leo but it doesn&amp;rsquo;t matter</td>\n",
       "      <td>no</td>\n",
       "      <td>english (fluently)</td>\n",
       "      <td>single</td>\n",
       "    </tr>\n",
       "    <tr>\n",
       "      <th>59943</th>\n",
       "      <td>42</td>\n",
       "      <td>average</td>\n",
       "      <td>mostly anything</td>\n",
       "      <td>not at all</td>\n",
       "      <td>never</td>\n",
       "      <td>graduated from masters program</td>\n",
       "      <td>hello! i enjoy traveling, watching movies, and...</td>\n",
       "      <td>i'm a civil engineer, who enjoys helping the c...</td>\n",
       "      <td>- looking at things objectively&lt;br /&gt;\\n- getti...</td>\n",
       "      <td>i'm quiet until i get used to the environment ...</td>\n",
       "      <td>...</td>\n",
       "      <td>south san francisco, california</td>\n",
       "      <td>doesn&amp;rsquo;t have kids</td>\n",
       "      <td>straight</td>\n",
       "      <td>NaN</td>\n",
       "      <td>christianity but not too serious about it</td>\n",
       "      <td>m</td>\n",
       "      <td>sagittarius but it doesn&amp;rsquo;t matter</td>\n",
       "      <td>no</td>\n",
       "      <td>english (fluently)</td>\n",
       "      <td>single</td>\n",
       "    </tr>\n",
       "    <tr>\n",
       "      <th>59944</th>\n",
       "      <td>27</td>\n",
       "      <td>athletic</td>\n",
       "      <td>mostly anything</td>\n",
       "      <td>socially</td>\n",
       "      <td>often</td>\n",
       "      <td>working on college/university</td>\n",
       "      <td>\"all i have in this world are my balls and my ...</td>\n",
       "      <td>following my dreams...&lt;br /&gt;\\n\"you got a dream...</td>\n",
       "      <td>listening</td>\n",
       "      <td>it used to be the hair until i mowed it off bu...</td>\n",
       "      <td>...</td>\n",
       "      <td>san francisco, california</td>\n",
       "      <td>doesn&amp;rsquo;t have kids, but wants them</td>\n",
       "      <td>straight</td>\n",
       "      <td>likes dogs and likes cats</td>\n",
       "      <td>agnosticism but not too serious about it</td>\n",
       "      <td>m</td>\n",
       "      <td>leo and it&amp;rsquo;s fun to think about</td>\n",
       "      <td>trying to quit</td>\n",
       "      <td>english (fluently), spanish (poorly), chinese ...</td>\n",
       "      <td>single</td>\n",
       "    </tr>\n",
       "    <tr>\n",
       "      <th>59945</th>\n",
       "      <td>39</td>\n",
       "      <td>average</td>\n",
       "      <td>NaN</td>\n",
       "      <td>socially</td>\n",
       "      <td>NaN</td>\n",
       "      <td>graduated from masters program</td>\n",
       "      <td>is it odd that having a little \"enemy\" status ...</td>\n",
       "      <td>i work with elderly people (psychotherapy and ...</td>\n",
       "      <td>i'm a great bullshitter. i don't know what it ...</td>\n",
       "      <td>either that i am funny/sarcastic, or that i am...</td>\n",
       "      <td>...</td>\n",
       "      <td>san francisco, california</td>\n",
       "      <td>NaN</td>\n",
       "      <td>gay</td>\n",
       "      <td>likes dogs and likes cats</td>\n",
       "      <td>catholicism and laughing about it</td>\n",
       "      <td>m</td>\n",
       "      <td>gemini and it&amp;rsquo;s fun to think about</td>\n",
       "      <td>sometimes</td>\n",
       "      <td>english</td>\n",
       "      <td>single</td>\n",
       "    </tr>\n",
       "  </tbody>\n",
       "</table>\n",
       "<p>5 rows × 31 columns</p>\n",
       "</div>"
      ],
      "text/plain": [
       "       age body_type             diet      drinks      drugs  \\\n",
       "59941   59       NaN              NaN    socially      never   \n",
       "59942   24       fit  mostly anything       often  sometimes   \n",
       "59943   42   average  mostly anything  not at all      never   \n",
       "59944   27  athletic  mostly anything    socially      often   \n",
       "59945   39   average              NaN    socially        NaN   \n",
       "\n",
       "                               education  \\\n",
       "59941  graduated from college/university   \n",
       "59942      working on college/university   \n",
       "59943     graduated from masters program   \n",
       "59944      working on college/university   \n",
       "59945     graduated from masters program   \n",
       "\n",
       "                                                  essay0  \\\n",
       "59941  vibrant, expressive, caring optimist. i love b...   \n",
       "59942  i'm nick.<br />\\ni never know what to write ab...   \n",
       "59943  hello! i enjoy traveling, watching movies, and...   \n",
       "59944  \"all i have in this world are my balls and my ...   \n",
       "59945  is it odd that having a little \"enemy\" status ...   \n",
       "\n",
       "                                                  essay1  \\\n",
       "59941  the happiest times have been when life came to...   \n",
       "59942  currently finishing school for film production...   \n",
       "59943  i'm a civil engineer, who enjoys helping the c...   \n",
       "59944  following my dreams...<br />\\n\"you got a dream...   \n",
       "59945  i work with elderly people (psychotherapy and ...   \n",
       "\n",
       "                                                  essay2  \\\n",
       "59941  i make an outstanding osso bucco. i am also ve...   \n",
       "59942  <a class=\"ilink\" href=\"/interests?i=filmmaking...   \n",
       "59943  - looking at things objectively<br />\\n- getti...   \n",
       "59944                                          listening   \n",
       "59945  i'm a great bullshitter. i don't know what it ...   \n",
       "\n",
       "                                                  essay3   ...    \\\n",
       "59941  i am told that people notice my smile, eyes an...   ...     \n",
       "59942                                dude, i don't know.   ...     \n",
       "59943  i'm quiet until i get used to the environment ...   ...     \n",
       "59944  it used to be the hair until i mowed it off bu...   ...     \n",
       "59945  either that i am funny/sarcastic, or that i am...   ...     \n",
       "\n",
       "                              location  \\\n",
       "59941              oakland, california   \n",
       "59942        san francisco, california   \n",
       "59943  south san francisco, california   \n",
       "59944        san francisco, california   \n",
       "59945        san francisco, california   \n",
       "\n",
       "                                     offspring orientation  \\\n",
       "59941                                 has kids    straight   \n",
       "59942                  doesn&rsquo;t have kids    straight   \n",
       "59943                  doesn&rsquo;t have kids    straight   \n",
       "59944  doesn&rsquo;t have kids, but wants them    straight   \n",
       "59945                                      NaN         gay   \n",
       "\n",
       "                            pets                                   religion  \\\n",
       "59941                   has dogs   catholicism but not too serious about it   \n",
       "59942  likes dogs and likes cats                                agnosticism   \n",
       "59943                        NaN  christianity but not too serious about it   \n",
       "59944  likes dogs and likes cats   agnosticism but not too serious about it   \n",
       "59945  likes dogs and likes cats          catholicism and laughing about it   \n",
       "\n",
       "      sex                                      sign          smokes  \\\n",
       "59941   f  cancer and it&rsquo;s fun to think about              no   \n",
       "59942   m           leo but it doesn&rsquo;t matter              no   \n",
       "59943   m   sagittarius but it doesn&rsquo;t matter              no   \n",
       "59944   m     leo and it&rsquo;s fun to think about  trying to quit   \n",
       "59945   m  gemini and it&rsquo;s fun to think about       sometimes   \n",
       "\n",
       "                                                  speaks  status  \n",
       "59941                                            english  single  \n",
       "59942                                 english (fluently)  single  \n",
       "59943                                 english (fluently)  single  \n",
       "59944  english (fluently), spanish (poorly), chinese ...  single  \n",
       "59945                                            english  single  \n",
       "\n",
       "[5 rows x 31 columns]"
      ]
     },
     "execution_count": 9,
     "metadata": {},
     "output_type": "execute_result"
    }
   ],
   "source": [
    "data.tail()"
   ]
  },
  {
   "cell_type": "code",
   "execution_count": 10,
   "metadata": {
    "slideshow": {
     "slide_type": "subslide"
    }
   },
   "outputs": [
    {
     "data": {
      "text/plain": [
       "(59946, 31)"
      ]
     },
     "execution_count": 10,
     "metadata": {},
     "output_type": "execute_result"
    }
   ],
   "source": [
    "data.shape"
   ]
  },
  {
   "cell_type": "code",
   "execution_count": 11,
   "metadata": {
    "slideshow": {
     "slide_type": "subslide"
    }
   },
   "outputs": [
    {
     "data": {
      "text/plain": [
       "1858326"
      ]
     },
     "execution_count": 11,
     "metadata": {},
     "output_type": "execute_result"
    }
   ],
   "source": [
    "data.size"
   ]
  },
  {
   "cell_type": "code",
   "execution_count": 12,
   "metadata": {
    "slideshow": {
     "slide_type": "subslide"
    }
   },
   "outputs": [
    {
     "data": {
      "text/plain": [
       "59946"
      ]
     },
     "execution_count": 12,
     "metadata": {},
     "output_type": "execute_result"
    }
   ],
   "source": [
    "len(data)"
   ]
  },
  {
   "cell_type": "code",
   "execution_count": 13,
   "metadata": {
    "slideshow": {
     "slide_type": "subslide"
    }
   },
   "outputs": [
    {
     "data": {
      "text/plain": [
       "Index(['age', 'body_type', 'diet', 'drinks', 'drugs', 'education', 'essay0',\n",
       "       'essay1', 'essay2', 'essay3', 'essay4', 'essay5', 'essay6', 'essay7',\n",
       "       'essay8', 'essay9', 'ethnicity', 'height', 'income', 'job',\n",
       "       'last_online', 'location', 'offspring', 'orientation', 'pets',\n",
       "       'religion', 'sex', 'sign', 'smokes', 'speaks', 'status'],\n",
       "      dtype='object')"
      ]
     },
     "execution_count": 13,
     "metadata": {},
     "output_type": "execute_result"
    }
   ],
   "source": [
    "data.columns"
   ]
  },
  {
   "cell_type": "code",
   "execution_count": 15,
   "metadata": {
    "slideshow": {
     "slide_type": "subslide"
    }
   },
   "outputs": [
    {
     "data": {
      "text/plain": [
       "32.3402895939679"
      ]
     },
     "execution_count": 15,
     "metadata": {},
     "output_type": "execute_result"
    }
   ],
   "source": [
    "data['age'].mean()"
   ]
  },
  {
   "cell_type": "code",
   "execution_count": 17,
   "metadata": {
    "slideshow": {
     "slide_type": "subslide"
    }
   },
   "outputs": [
    {
     "data": {
      "text/plain": [
       "m    35829\n",
       "f    24117\n",
       "Name: sex, dtype: int64"
      ]
     },
     "execution_count": 17,
     "metadata": {},
     "output_type": "execute_result"
    }
   ],
   "source": [
    "data['sex'].value_counts()"
   ]
  },
  {
   "cell_type": "code",
   "execution_count": 19,
   "metadata": {
    "slideshow": {
     "slide_type": "subslide"
    }
   },
   "outputs": [
    {
     "data": {
      "text/plain": [
       "doesn&rsquo;t have kids                                7560\n",
       "doesn&rsquo;t have kids, but might want them           3875\n",
       "doesn&rsquo;t have kids, but wants them                3565\n",
       "doesn&rsquo;t want kids                                2927\n",
       "has kids                                               1883\n",
       "has a kid                                              1881\n",
       "doesn&rsquo;t have kids, and doesn&rsquo;t want any    1132\n",
       "has kids, but doesn&rsquo;t want more                   442\n",
       "has a kid, but doesn&rsquo;t want more                  275\n",
       "has a kid, and might want more                          231\n",
       "wants kids                                              225\n",
       "might want kids                                         182\n",
       "has kids, and might want more                           115\n",
       "has a kid, and wants more                                71\n",
       "has kids, and wants more                                 21\n",
       "Name: offspring, dtype: int64"
      ]
     },
     "execution_count": 19,
     "metadata": {},
     "output_type": "execute_result"
    }
   ],
   "source": [
    "data['offspring'].value_counts()"
   ]
  },
  {
   "cell_type": "code",
   "execution_count": 28,
   "metadata": {
    "slideshow": {
     "slide_type": "subslide"
    }
   },
   "outputs": [],
   "source": [
    "sexual_orientation = data['orientation'].value_counts()"
   ]
  },
  {
   "cell_type": "code",
   "execution_count": 29,
   "metadata": {
    "slideshow": {
     "slide_type": "subslide"
    }
   },
   "outputs": [
    {
     "data": {
      "text/plain": [
       "<matplotlib.axes._subplots.AxesSubplot at 0x7f64d9bdc940>"
      ]
     },
     "execution_count": 29,
     "metadata": {},
     "output_type": "execute_result"
    },
    {
     "data": {
      "image/png": "[encoded data removed]",
      "text/plain": [
       "<Figure size 432x288 with 1 Axes>"
      ]
     },
     "metadata": {},
     "output_type": "display_data"
    }
   ],
   "source": [
    "%matplotlib inline\n",
    "sexual_orientation.plot(kind=\"pie\")"
   ]
  },
  {
   "cell_type": "code",
   "execution_count": 43,
   "metadata": {
    "slideshow": {
     "slide_type": "subslide"
    }
   },
   "outputs": [
    {
     "data": {
      "text/plain": [
       "70.0    6074\n",
       "68.0    5449\n",
       "67.0    5354\n",
       "72.0    5315\n",
       "69.0    5179\n",
       "71.0    4826\n",
       "66.0    4759\n",
       "64.0    3865\n",
       "65.0    3794\n",
       "73.0    2815\n",
       "63.0    2767\n",
       "74.0    2547\n",
       "62.0    2244\n",
       "75.0    1382\n",
       "61.0    1090\n",
       "60.0     791\n",
       "76.0     783\n",
       "77.0     280\n",
       "59.0     212\n",
       "78.0     132\n",
       "79.0      57\n",
       "58.0      53\n",
       "80.0      27\n",
       "95.0      20\n",
       "57.0      17\n",
       "83.0      12\n",
       "36.0      11\n",
       "81.0      11\n",
       "82.0      11\n",
       "84.0       9\n",
       "56.0       8\n",
       "55.0       6\n",
       "53.0       5\n",
       "54.0       3\n",
       "94.0       3\n",
       "91.0       3\n",
       "50.0       2\n",
       "43.0       2\n",
       "37.0       2\n",
       "48.0       2\n",
       "88.0       2\n",
       "8.0        1\n",
       "93.0       1\n",
       "4.0        1\n",
       "49.0       1\n",
       "1.0        1\n",
       "42.0       1\n",
       "86.0       1\n",
       "47.0       1\n",
       "87.0       1\n",
       "90.0       1\n",
       "52.0       1\n",
       "9.0        1\n",
       "51.0       1\n",
       "89.0       1\n",
       "6.0        1\n",
       "3.0        1\n",
       "92.0       1\n",
       "85.0       1\n",
       "26.0       1\n",
       "Name: height, dtype: int64"
      ]
     },
     "execution_count": 43,
     "metadata": {},
     "output_type": "execute_result"
    }
   ],
   "source": [
    "data['height'].value_counts()"
   ]
  },
  {
   "cell_type": "code",
   "execution_count": null,
   "metadata": {
    "slideshow": {
     "slide_type": "subslide"
    }
   },
   "outputs": [],
   "source": [
    "data['height'].plot"
   ]
  },
  {
   "cell_type": "markdown",
   "metadata": {
    "slideshow": {
     "slide_type": "slide"
    }
   },
   "source": [
    "<center><img src=\"images/ds_saves_lives.jpg\" alt=\"DS saves lives\">\n",
    "\n",
    "<h2> Data Science saves lives! <h2>"
   ]
  },
  {
   "cell_type": "markdown",
   "metadata": {
    "slideshow": {
     "slide_type": "subslide"
    }
   },
   "source": [
    "## - Intelligent staffing\n",
    "## - Real time alerting\n",
    "## - Preventing opioid abuse\n",
    "## - Fighting cancer\n",
    "## - Telemedicine\n",
    "\n",
    "<h4><div align=\"right\">healthworkscollective.com</div></h4>"
   ]
  },
  {
   "cell_type": "markdown",
   "metadata": {
    "slideshow": {
     "slide_type": "slide"
    }
   },
   "source": [
    "<h1><center>A Full Data Science Courses Track!</center></h1>\n",
    "<br>\n",
    "<center><img src=\"images/omg.gif\" alt=\"OMG!\"></center>"
   ]
  },
  {
   "cell_type": "markdown",
   "metadata": {
    "slideshow": {
     "slide_type": "subslide"
    }
   },
   "source": [
    "<center><img src=\"images/data_science_courses.png\" alt=\"Self Driving Car\"></center>"
   ]
  },
  {
   "cell_type": "markdown",
   "metadata": {
    "slideshow": {
     "slide_type": "slide"
    }
   },
   "source": [
    "<center><img src=\"images/data_science_logo.jpg\" alt=\"Data Science\"></center>\n",
    "<center><h1>Thanks!</h1></center>\n",
    "<center><h2> <a href=\"https://www.upcodeacademy.com/courses\">upcodeacademy.com/courses</a> </h2></center>\n",
    "<h3> <center> marco@upcodeacademy.com </center> </h3>\n",
    "<center><img src=\"images/banner.png\" alt=\"upcode banner\"></center>"
   ]
  }
 ],
 "metadata": {
  "celltoolbar": "Slideshow",
  "kernelspec": {
   "display_name": "Python 3",
   "language": "python",
   "name": "python3"
  },
  "language_info": {
   "codemirror_mode": {
    "name": "ipython",
    "version": 3
   },
   "file_extension": ".py",
   "mimetype": "text/x-python",
   "name": "python",
   "nbconvert_exporter": "python",
   "pygments_lexer": "ipython3",
   "version": "3.6.6"
  },
  "livereveal": {
   "autolaunch": true
  },
  "rise": {
   "theme": "night"
  },
  "toc": {
   "base_numbering": 1,
   "nav_menu": {},
   "number_sections": false,
   "sideBar": true,
   "skip_h1_title": false,
   "title_cell": "Table of Contents",
   "title_sidebar": "Contents",
   "toc_cell": false,
   "toc_position": {},
   "toc_section_display": true,
   "toc_window_display": false
  }
 },
 "nbformat": 4,
 "nbformat_minor": 2
}
